{
 "cells": [
  {
   "cell_type": "markdown",
   "metadata": {},
   "source": [
    "## What is a Database \n",
    "\n",
    "#### A database is a collection of data stored in a format that can easily be accessed, modified, protected and analysed. \n",
    "\n",
    " \n",
    "## Two main types of modern databases\n",
    "\n",
    "\n",
    "*The two main types of modern databases to choose from are relational and non-relational\n",
    "\n",
    "### Relational /SQL\n",
    "\n",
    "* A relational database is a type of database that uses a structure that allows us to identify and access data in relation to another piece of data in the database.\n",
    "* They have a table-based data structure, with a strict, predefined schema required.\n",
    "\n",
    "\n",
    "### Non-relational/ NoSQL \n",
    "* NoSQL databases, or non-relational databases, can be document based, graph databases, key-value pairs, or wide-column stores. NoSQL databases don’t require any predefined schema, allowing you to work more freely with “unstructured data.”\n",
    "\n",
    "\n",
    "\n",
    "## DBMS (Database Management System)\n",
    "- Database Management System (DBMS) is a software that is used to define, create and maintain a database and provides controlled access to the data. They are RDBMS & NoSQL.\n",
    "- Or just a software used to manage a database.\n",
    "\n",
    "\n",
    "### Relational Database Management System\n",
    "\n",
    "- A relational database management system (RDBMS) is a program that allows you to create, update, and administer a relational database. \n",
    "- Most relational database management systems use the SQL language to access the database. \n",
    "\n",
    "##### RDBMS examples include\n",
    "* MySQL, \n",
    "* PostgreSQL, \n",
    "* Oracle DB\n",
    "* SQL Server\n",
    "* SQLite"
   ]
  },
  {
   "cell_type": "markdown",
   "metadata": {},
   "source": [
    "# Installing MySQL"
   ]
  },
  {
   "cell_type": "markdown",
   "metadata": {},
   "source": [
    "Download Link: \n",
    "\n",
    "https://dev.mysql.com/downloads/windows/installer/8.0.html\n",
    "\n",
    "Install notes :\n",
    "https://www.youtube.com/watch?v=7S_tz1z_5bA\n",
    "\n",
    "\n",
    "Windows (x86, 32-bit), MSI Installer"
   ]
  },
  {
   "cell_type": "markdown",
   "metadata": {},
   "source": [
    "# Working with Relational Databases."
   ]
  },
  {
   "cell_type": "markdown",
   "metadata": {},
   "source": [
    "- SQL or SEQUEL is the language used to interact with RDBMS.\n",
    "- SQL is a programming language used to communicate with data stored in relational databases.\n",
    "- Unlike other languages, SQL is a declarative language; one just needs to specify the result that they want to see and submit the query to RDBMS. \n",
    "- RDBMS executes the code at the backend and gives the desired output."
   ]
  },
  {
   "cell_type": "markdown",
   "metadata": {},
   "source": [
    "### Subsets of SQL\n",
    "SQL queries can be categorized into 4 main Categories:\n",
    "- **DDL (Data Definition Language)**\n",
    "    - As the name suggests, these types of SQL commands are used to define & modify the structure of data. \n",
    "    - Like the structure of a table, schema.\n",
    "    - Includes commands like: CREATE, ALTER, DROP etc.\n",
    "- **DML (Data Manipulation Language)**\n",
    "    - These are commands used to manipulate data in existing databases.\n",
    "    - Includes commands like: SELECT, INSERT, UPDATE, DELETE.\n",
    "- **DCL (Data Control Language)**\n",
    "    - These commands control the access of the data stored in the database.\n",
    "    - Includes: GRANT, REVOKE.\n",
    "- **TCL (Transaction Control Language)**\n",
    "    - Commands used to manage transactions in the database.\n",
    "    - Used to manage changes made to data in a table by the DML statements.\n",
    "    - It also allows statements to be grouped together into logical transactions.\n",
    "    - Includes: COMMIT, ROLLBACK, SAVEPOINT."
   ]
  },
  {
   "cell_type": "markdown",
   "metadata": {},
   "source": [
    "## SQL Statements\n",
    "\n",
    "* A statement is a text that a database recognizes as a valid command.\n",
    "* Statements always end with a semi colon.\n",
    "* Two dashes ( -- ) before an SQL statement indicate a comment."
   ]
  },
  {
   "cell_type": "code",
   "execution_count": null,
   "metadata": {},
   "outputs": [],
   "source": [
    "# Basic structure of an SQL Statements\n",
    "CREATE TABLE table_name (\n",
    "    column_1 datatype,\n",
    "    column_2 datatype,\n",
    "    column_3 datatype\n",
    ");"
   ]
  },
  {
   "cell_type": "markdown",
   "metadata": {},
   "source": [
    "#### 1) CREATE TABLE \n",
    "* This is a <b>clause</b>.\n",
    "* Clauses perform specific tasks in SQL.\n",
    "* By convention clauses are written in UPPERCASE.\n",
    "* Clauses are also called <b>commands</b>\n",
    "\n",
    "#### 2) table_name\n",
    "* Refers to the name of the table that the command is applied to.\n",
    "\n",
    "#### 3) column_1, datatype, column_2, column_3\n",
    "* These are called parameters. They are passed to the clause as arguments."
   ]
  },
  {
   "cell_type": "code",
   "execution_count": null,
   "metadata": {},
   "outputs": [],
   "source": [
    "# select the database \n",
    "USE jumiaa_store;  \n",
    "\n",
    "#select all columns \n",
    "SELECT *\n",
    "\n",
    "# the table \n",
    "FROM customers;"
   ]
  },
  {
   "cell_type": "markdown",
   "metadata": {},
   "source": [
    "!['sql'](sql.png)"
   ]
  },
  {
   "cell_type": "markdown",
   "metadata": {},
   "source": [
    "## SQL CLAUSES\n",
    "- Clauses are in-built functions available to us in SQL.\n",
    "- Clauses help us filter and analyze data quickly. \n",
    "- When we have large amounts of data stored in the database, we use Clauses to query and get data required by the user."
   ]
  },
  {
   "cell_type": "markdown",
   "metadata": {},
   "source": [
    "#### 1) CREATE TABLE\n",
    "* Create allows us to create new table in the database."
   ]
  },
  {
   "cell_type": "code",
   "execution_count": null,
   "metadata": {},
   "outputs": [],
   "source": [
    "CREATE TABLE celebs (\n",
    "    ID INTEGER,\n",
    "    name TEXT,\n",
    "    age INTEGER\n",
    ");"
   ]
  },
  {
   "cell_type": "markdown",
   "metadata": {},
   "source": [
    "#### 2) INSERT\n",
    "- Inserts a new row into the table."
   ]
  },
  {
   "cell_type": "code",
   "execution_count": null,
   "metadata": {},
   "outputs": [],
   "source": [
    "INSERT INTO celebs(ID, name, age)\n",
    "VALUES (1, 'J Cole', 36);"
   ]
  },
  {
   "cell_type": "markdown",
   "metadata": {},
   "source": [
    "#### 3) SELECT\n",
    "- SELECT is used to fetch data from the database"
   ]
  },
  {
   "cell_type": "code",
   "execution_count": null,
   "metadata": {},
   "outputs": [],
   "source": [
    "SELECT *\n",
    "FROM celebs;\n",
    "\n",
    "# * indicates we want to select all colomns. We can also select individual columns ( SELECT name FROM celebs )\n",
    "# FROM Celebs - Specifies the table we want to query the data from."
   ]
  },
  {
   "cell_type": "markdown",
   "metadata": {},
   "source": [
    "#### 4) ALTER\n",
    "Alter statement adds new column to a table."
   ]
  },
  {
   "cell_type": "code",
   "execution_count": null,
   "metadata": {},
   "outputs": [],
   "source": [
    "ALTER TABLE celebs\n",
    "ADD COLUMN home TEXT;\n",
    "# The row that existed before the column was created have NULL value for home column"
   ]
  },
  {
   "cell_type": "markdown",
   "metadata": {},
   "source": [
    "#### 5) UPDATE\n",
    "- Update statement edits a row in a table.\n",
    "- Used when you want to update existing records."
   ]
  },
  {
   "cell_type": "code",
   "execution_count": null,
   "metadata": {},
   "outputs": [],
   "source": [
    "UPDATE celebs\n",
    "SET home='Frankfurt'\n",
    "WHERE ID=1;\n",
    "# SET - Indicates the column we want to update.\n",
    "# WHERE - Indicates which row to update with the new column value."
   ]
  },
  {
   "cell_type": "markdown",
   "metadata": {},
   "source": [
    "#### 6) DELETE\n",
    "- Deletes one or more rows from a table."
   ]
  },
  {
   "cell_type": "markdown",
   "metadata": {},
   "source": [
    "# We will explore more clauses as we continue."
   ]
  },
  {
   "cell_type": "code",
   "execution_count": null,
   "metadata": {},
   "outputs": [],
   "source": [
    "DELETE FROM celebs \n",
    "WHERE home IS NULL;"
   ]
  },
  {
   "cell_type": "markdown",
   "metadata": {},
   "source": [
    "## Constraints\n",
    "- Constraints that add infromation about how a column can be used are invoked after specifying data type for a column.\n",
    "- They can be used to tell the database to reject inserted data that does not adhere to a certain restriction."
   ]
  },
  {
   "cell_type": "code",
   "execution_count": null,
   "metadata": {},
   "outputs": [],
   "source": [
    "CREATE TABLE celebrities (\n",
    "    id INTEGER PRIMARY KEY,\n",
    "    name TEXT UNIQUE,\n",
    "    date_of_birth TEXT NOT NULL,\n",
    "    networth TEXT DEFAULT 'Unknown'\n",
    ");\n",
    "# PRIMARY KEY - Used to uniquely identify a record.\n",
    "# UNIQUE - Columns have a different value for each row\n",
    "# NOT NULL - The field cannot be null.\n",
    "# Default - If the value is not specified 'Unknown' will be the default value."
   ]
  },
  {
   "cell_type": "markdown",
   "metadata": {},
   "source": [
    "## PRIMARY KEY vs FOREIGN KEY\n",
    "\n",
    "- Each table has a column that uniquely identifies each row of that table. The special columns are called <b>Primary Keys</b>\n",
    "\n",
    "###### Requirements  for Primary Key\n",
    "- None of the values can be NULL.\n",
    "- Each value must be unique.\n",
    "- A table can not have more than one primary key column.\n",
    "\n",
    "<b>When a primary key for one table appears in a different table its called a <u>FOREIGN KEY</u></b>"
   ]
  },
  {
   "cell_type": "markdown",
   "metadata": {},
   "source": [
    "## Writing SQL Queries\n",
    "- Querying is retrieving information stored in a database.\n",
    "- Querying utilises the <u>SELECT</u> clause.\n",
    "* The data returned is stored in a result table, called the <u>result-set</u>."
   ]
  },
  {
   "cell_type": "code",
   "execution_count": null,
   "metadata": {},
   "outputs": [],
   "source": [
    "SELECT *\n",
    "FROM customers;"
   ]
  },
  {
   "cell_type": "code",
   "execution_count": null,
   "metadata": {},
   "outputs": [],
   "source": [
    "# SELECT SPECIFIC COLUMNS \n",
    "\n",
    "USE jumiaa_store; \n",
    "\n",
    "SELECT first_name, city \n",
    "FROM customers;"
   ]
  },
  {
   "cell_type": "code",
   "execution_count": null,
   "metadata": {},
   "outputs": [],
   "source": [
    "# SELECT SPECIFIC COLUMNS ,+NEW \n",
    "USE jumiaa_store; \n",
    "\n",
    "SELECT first_name, city ,points, points+10\n",
    "FROM customers;"
   ]
  },
  {
   "cell_type": "markdown",
   "metadata": {},
   "source": [
    "### AS\n",
    "- <b>AS</b> is a SQL keyword used for renaming a column or table using an alias"
   ]
  },
  {
   "cell_type": "code",
   "execution_count": null,
   "metadata": {},
   "outputs": [],
   "source": [
    "USE jumiaa_store; \n",
    "\n",
    "SELECT first_name, city ,points, points+10, points * 400 AS 'Discount'\n",
    "FROM customers;"
   ]
  },
  {
   "cell_type": "markdown",
   "metadata": {},
   "source": [
    "### DISTINCT\n",
    "- When we are examining data in a table, it can be helpful to know what distinct values exist in a particular column."
   ]
  },
  {
   "cell_type": "code",
   "execution_count": null,
   "metadata": {},
   "outputs": [],
   "source": [
    "USE jumiaa_store; \n",
    "\n",
    "SELECT DISTINCT city\n",
    "FROM customers;"
   ]
  },
  {
   "cell_type": "markdown",
   "metadata": {},
   "source": [
    "### WHERE\n",
    "- We can use <b>WHERE</b> to restrict a query result inorder to obtain the data we are only looking for.\n",
    "- WHERE filters the result set to include only the rows where the condition is <b>True</b>\n",
    "- Example you may want to get only the cutomer who have more than 1000 points.\n",
    "- Types of operators \n",
    "    - <b> <, <=, >, =>, != </b>"
   ]
  },
  {
   "cell_type": "code",
   "execution_count": null,
   "metadata": {},
   "outputs": [],
   "source": [
    "USE jumiaa_store; \n",
    "\n",
    "SELECT *\n",
    "FROM customers \n",
    "WHERE points > 1000;"
   ]
  },
  {
   "cell_type": "markdown",
   "metadata": {},
   "source": [
    "### LIKE\n",
    "- <b>LIKE</b> is used when you want to compare similar values.\n",
    "- For instance we want so select customers whos first name start with letter J.\n",
    "- % wildcard character is used.\n",
    "- When % is used before a pattern, the value should start with that pattern.\n",
    "- When its used after the pattern, the value should end with that pattern.\n",
    "- Can also be used at the start and end of a pattern eg %man%.\n",
    "    This basically means that the value must contain the word man in it.\n",
    "\n",
    "<br>\n",
    "<br>\n",
    "* We can also use wildcard _. eg j_n - Meansthe value should start with j and end with n and have just one character in the middle."
   ]
  },
  {
   "cell_type": "code",
   "execution_count": null,
   "metadata": {},
   "outputs": [],
   "source": [
    "USE jumiaa_store; \n",
    "\n",
    "SELECT *\n",
    "FROM customers \n",
    "\n",
    "\n",
    "WHERE first_name LIKE 'J%';"
   ]
  },
  {
   "cell_type": "markdown",
   "metadata": {},
   "source": [
    "### IS NULL\n",
    "- Unknown or missing values are indicated by NULL.\n",
    "- The opposite of IS NULL is IS NOT NULL."
   ]
  },
  {
   "cell_type": "code",
   "execution_count": null,
   "metadata": {},
   "outputs": [],
   "source": [
    "USE jumiaa_store; \n",
    "\n",
    "SELECT *\n",
    "FROM customers \n",
    "WHERE phone IS NULL"
   ]
  },
  {
   "cell_type": "markdown",
   "metadata": {},
   "source": [
    "### BETWEEN\n",
    "- The BETWEEN OPERATOR is used with WHERE clause to filter the result set within a certain range.\n",
    "- It accepts two variables two values that are either numbers, text, date.\n",
    "- When the values ate text, BETWEEN filters the result set for within alphabetical range."
   ]
  },
  {
   "cell_type": "code",
   "execution_count": null,
   "metadata": {},
   "outputs": [],
   "source": [
    "# select customers with points beetween 900 and 2000\n",
    "\n",
    "SELECT *\n",
    "FROM customers \n",
    "WHERE points BETWEEN 900 AND 2000;"
   ]
  },
  {
   "cell_type": "markdown",
   "metadata": {},
   "source": [
    "### AND\n",
    "- When we want to combine multiple conditions in a WHERE clause to make the result set more specific and useful.\n",
    "- We can do that using <b>AND</b>.\n"
   ]
  },
  {
   "cell_type": "code",
   "execution_count": null,
   "metadata": {},
   "outputs": [],
   "source": [
    "# where total price is greater than 30\n",
    "\n",
    "SELECT *\n",
    "FROM order_items \n",
    "WHERE order_id > 6 AND unit_price * quantity > 30;"
   ]
  },
  {
   "cell_type": "markdown",
   "metadata": {},
   "source": [
    "### OR\n",
    "- Can also be used to combine multiple conditions in <b>WHERE</b> but has fundamental difference from <b>AND</b>.\n",
    "- <b>OR</b> - Displays the rows if any condition is True.\n",
    "- <b>AND</b> - Displays the rows if all condition is True."
   ]
  },
  {
   "cell_type": "code",
   "execution_count": null,
   "metadata": {},
   "outputs": [],
   "source": [
    "# where points are > than 100 or birth date is '1990-01-01'\n",
    "\n",
    "SELECT *\n",
    "FROM customers \n",
    "WHERE points > 100 OR birth_date = '1990-01-01';"
   ]
  },
  {
   "cell_type": "markdown",
   "metadata": {},
   "source": [
    "### IN\n",
    "- The IN operator allows you to specify multiple values in a WHERE clause.\n",
    "- The IN operator is a shorthand for multiple OR conditions."
   ]
  },
  {
   "cell_type": "code",
   "execution_count": null,
   "metadata": {},
   "outputs": [],
   "source": [
    "# Select customer who live in Nairobi Cape town and Mombasa\n",
    "\n",
    "SELECT *\n",
    "FROM customers \n",
    "WHERE city IN ('Nairobi', 'Cape' ,'Mombasa');"
   ]
  },
  {
   "cell_type": "markdown",
   "metadata": {},
   "source": [
    "### REGEXP OPERATOR\n",
    "- SQL allows you to match pattern right in the SQL statements by using REGEXP operator."
   ]
  },
  {
   "cell_type": "code",
   "execution_count": null,
   "metadata": {},
   "outputs": [],
   "source": [
    "# select customers where firt name = John\n",
    "\n",
    "SELECT *\n",
    "FROM customers \n",
    "WHERE first_name REGEXP 'John';"
   ]
  },
  {
   "cell_type": "markdown",
   "metadata": {},
   "source": [
    "### ORDER BY\n",
    "- We can sort a result set using ORDER BY either alphabetically or numerically.\n",
    "- ORDER BY defaults to ascending order."
   ]
  },
  {
   "cell_type": "code",
   "execution_count": null,
   "metadata": {},
   "outputs": [],
   "source": [
    "SELECT *, quantity * unit_price AS total_price\n",
    "FROM order_items\n",
    "WHERE order_id=2\n",
    "ORDER BY quantity * unit_price;"
   ]
  },
  {
   "cell_type": "markdown",
   "metadata": {},
   "source": [
    "#### Sometimes we might want to sort result set in descending order."
   ]
  },
  {
   "cell_type": "code",
   "execution_count": null,
   "metadata": {},
   "outputs": [],
   "source": [
    "SELECT *, quantity * unit_price AS total_price\n",
    "FROM order_items\n",
    "WHERE order_id=2\n",
    "ORDER BY quantity * unit_price DESC;"
   ]
  },
  {
   "cell_type": "markdown",
   "metadata": {},
   "source": [
    "### LIMIT\n",
    "- LIMIT is a clause that lets you specify the maximum number of rows the result set will display.\n",
    "- Saves space on the screen and makes queries run faster.\n",
    "- LIMIT always goes at the very end of the query."
   ]
  },
  {
   "cell_type": "code",
   "execution_count": null,
   "metadata": {},
   "outputs": [],
   "source": [
    "SELECT *, quantity * unit_price AS total_price\n",
    "FROM order_items\n",
    "WHERE order_id=2\n",
    "ORDER BY quantity * unit_price DESC\n",
    "LIMIT 2;"
   ]
  },
  {
   "cell_type": "code",
   "execution_count": null,
   "metadata": {},
   "outputs": [],
   "source": []
  },
  {
   "cell_type": "markdown",
   "metadata": {},
   "source": [
    "### CASE\n",
    "- A CASE statement allows us to create different outputs (usually in the SELECT statement)\n",
    "- Its SQL's way of handling if-then logic.\n",
    "- Suppose we want to gauge the performance of products sold at the store by the quantity sold.\n",
    "    - If the quantity is above 8 then the product is FANTASTIC\n",
    "    - if the quantity is above 6 then the product is FAIRLY GOOD.\n",
    "    - Else the product is POOR\n",
    "- Case statement must end with END"
   ]
  },
  {
   "cell_type": "code",
   "execution_count": null,
   "metadata": {},
   "outputs": [],
   "source": [
    "SELECT quantity,\n",
    "    CASE\n",
    "        WHEN quantity > 8 THEN 'Fantastic'\n",
    "        WHEN quantity > 6 THEN 'Fairly Good'\n",
    "        ELSE 'Poor'\n",
    "    END AS Performance\n",
    "FROM order_items;"
   ]
  },
  {
   "cell_type": "code",
   "execution_count": null,
   "metadata": {},
   "outputs": [],
   "source": []
  },
  {
   "cell_type": "markdown",
   "metadata": {},
   "source": [
    "## SQL AGGREGATE FUNCTIONS.\n",
    "\n",
    "- These are the functions used to perform calculations using SQL.\n",
    "- Calculations performed on multiple rows of a table are called <u>aggregates.</u>\n",
    "- They are:-\n",
    "    - COUNT() - Count the number of rows.\n",
    "    - SUM() - Sums the values in a column.\n",
    "    - MAX() / MIN() - Largest/Smallest value.\n",
    "    - AVG() - The average of the values in a column.\n",
    "    - ROUND() - Rounds the values in a column."
   ]
  },
  {
   "cell_type": "markdown",
   "metadata": {},
   "source": [
    "### COUNT()\n",
    "\n",
    "- COUNT() takes the name of a column as an argument and counts the number of non empty values in that column."
   ]
  },
  {
   "cell_type": "code",
   "execution_count": null,
   "metadata": {},
   "outputs": [],
   "source": [
    "SELECT COUNT(invoice_total) AS total_COUNT\n",
    "    \n",
    "FROM  jumiaa_invoicing.invoices; "
   ]
  },
  {
   "cell_type": "markdown",
   "metadata": {},
   "source": [
    "### SUM()\n",
    "\n",
    "- SUM() is a function that takes the name of a column as an argument and returns the sum of all values in that column."
   ]
  },
  {
   "cell_type": "code",
   "execution_count": null,
   "metadata": {},
   "outputs": [],
   "source": [
    "SELECT SUM(invoice_total) AS invoice_sum\n",
    "    \n",
    "FROM  jumiaa_invoicing.invoices;"
   ]
  },
  {
   "cell_type": "markdown",
   "metadata": {},
   "source": [
    "### MAX() / MIN()\n",
    "- The MAX() and MIN() functions return the highest & lowest values in a column respectively."
   ]
  },
  {
   "cell_type": "code",
   "execution_count": null,
   "metadata": {},
   "outputs": [],
   "source": [
    "SELECT MAX(invoice_total) AS invoice_max, MIN(invoice_total) AS invoice_min\n",
    "    \n",
    "FROM  jumiaa_invoicing.invoices;\n"
   ]
  },
  {
   "cell_type": "markdown",
   "metadata": {},
   "source": [
    "### AVG() \n",
    "- AVG() function calculates the average value for a particular column."
   ]
  },
  {
   "cell_type": "code",
   "execution_count": null,
   "metadata": {},
   "outputs": [],
   "source": [
    "SELECT AVG(invoice_total) AS invoice_average\n",
    "    \n",
    "FROM  jumiaa_invoicing.invoices;"
   ]
  },
  {
   "cell_type": "markdown",
   "metadata": {},
   "source": [
    "### ROUND()\n",
    "- ROUND() function take two arguments inside the parenthesis.\n",
    "    - Column name\n",
    "    - Integer\n",
    "- It rounds off all values in the column to the number of decimal places specified by the integer."
   ]
  },
  {
   "cell_type": "code",
   "execution_count": null,
   "metadata": {},
   "outputs": [],
   "source": [
    "SELECT ROUND(invoice_total, 1) AS invoice_total_1dp\n",
    "\n",
    "FROM  jumiaa_invoicing.invoices;"
   ]
  },
  {
   "cell_type": "markdown",
   "metadata": {},
   "source": [
    "### GROUP BY\n",
    "\n",
    "- GROUP BY is a clause in SQL that is used with aggregate functions.\n",
    "- It is used in collaboration with SELECT statement to arrange identical data into groups eg we want to calculate the average invoice_total per client. \n",
    "- GROUP BY comes after any WHERE but before ORDER BY or LIMIT."
   ]
  },
  {
   "cell_type": "code",
   "execution_count": null,
   "metadata": {},
   "outputs": [],
   "source": [
    "SELECT  client_id,  \n",
    "    MAX(invoice_total) AS total_max,\n",
    "    MIN(invoice_total) AS total_min,\n",
    "    AVG(invoice_total) AS AVG_TOTAL,\n",
    "\tSUM(invoice_total) AS total_sum,\n",
    "    COUNT(invoice_total) AS total_COUNT\n",
    "    \n",
    "FROM  jumiaa_invoicing.invoices \n",
    "GROUP BY client_id\n",
    "\n",
    "# with WHERE\n",
    "SELECT  client_id,  \n",
    "    MAX(invoice_total) AS total_max,\n",
    "    MIN(invoice_total) AS total_min,\n",
    "    AVG(invoice_total) AS AVG_TOTAL,\n",
    "\tSUM(invoice_total) AS total_sum,\n",
    "    COUNT(invoice_total) AS total_COUNT\n",
    "    \n",
    "FROM  jumiaa_invoicing.invoices \n",
    "WHERE invoice_date > '2019-3-8'\n",
    "GROUP BY client_id"
   ]
  },
  {
   "cell_type": "markdown",
   "metadata": {},
   "source": [
    "### HAVING\n",
    "- SQL allows us to filter which groups to include and which to exclude.\n",
    "- HAVING is very similar to WHERE. \n",
    "- When we want to limit the results of a query based on values of an individual row, we use WHERE \n",
    "- When we want to limit the results of a query based on an aggregate property we use HAVING.\n",
    "- HAVING comes after GROUP BY but before ORDER BY and LIMIT."
   ]
  },
  {
   "cell_type": "code",
   "execution_count": null,
   "metadata": {},
   "outputs": [],
   "source": [
    "SELECT  *, AVG(invoice_total) AS avg\n",
    "    \n",
    "FROM  jumiaa_invoicing.invoices \n",
    "\n",
    "GROUP BY client_id\n",
    "HAVING AVG(invoice_total) > 150;"
   ]
  },
  {
   "cell_type": "markdown",
   "metadata": {},
   "source": [
    "### WITH ROLLUP\n",
    "\n",
    "- The ROLLUP is an extension of the GROUP BY clause. \n",
    "- The ROLLUP option allows you to include extra rows that represent the subtotals, which are commonly referred to as super-aggregate rows, along with the grand total row. \n",
    "- By using the ROLLUP option, you can use a single query to generate multiple grouping sets."
   ]
  },
  {
   "cell_type": "code",
   "execution_count": null,
   "metadata": {},
   "outputs": [],
   "source": [
    "SELECT client_id,\n",
    "SUM(invoice_total) AS  total_sales,\n",
    "COUNT(*) AS number_of_invoices\n",
    "FROM  jumiaa_invoicing.invoices \n",
    "GROUP BY client_id WITH ROLLUP"
   ]
  },
  {
   "cell_type": "markdown",
   "metadata": {},
   "source": [
    "## STRFTIME()\n",
    "- STRFTIME() function is a very powerful function that allows us to return a formatted date.\n",
    "- It takes two arguments.\n",
    "- strftime(format, column)"
   ]
  },
  {
   "cell_type": "markdown",
   "metadata": {},
   "source": [
    "## JOINING TABLES IN SQL\n",
    "\n",
    "- We can combine tables in SQL using <b>JOIN</b>\n",
    "\n",
    "### Types of JOINS\n",
    "* INNER JOIN\n",
    "* LEFT JOIN\n",
    "* RIGHT JOIN\n",
    "* CROSS JOIN"
   ]
  },
  {
   "cell_type": "markdown",
   "metadata": {},
   "source": [
    "### INNER JOIN\n",
    "\n",
    "![Inner Join](./images/inner-join.png)"
   ]
  },
  {
   "cell_type": "code",
   "execution_count": null,
   "metadata": {},
   "outputs": [],
   "source": [
    "SELECT *\n",
    "FROM orders \n",
    "JOIN customers \n",
    "    ON  orders.customer_id  = customers.customer_id "
   ]
  },
  {
   "cell_type": "markdown",
   "metadata": {},
   "source": [
    "- The first line selects all columns from the combined table. If we only want to select certain columns, we can specify which ones we want.\n",
    "- The second line specifies the first table we want to look in i.e orders table.\n",
    "- The third line uses JOIN to spacify the second table we want to combine the information with.\n",
    "- The fourth tell us how to combine the two tables. We want to match the orders table's customer_id with customer table's customer_id column."
   ]
  },
  {
   "cell_type": "markdown",
   "metadata": {},
   "source": [
    "###### Joining Multiple tables"
   ]
  },
  {
   "cell_type": "code",
   "execution_count": null,
   "metadata": {},
   "outputs": [],
   "source": [
    "SELECT *\n",
    "FROM orders o\n",
    "JOIN customers c \n",
    "     ON o.customer_id = c.customer_id\n",
    "JOIN order_statuses os \n",
    "    ON o.status  = os.order_status_id "
   ]
  },
  {
   "cell_type": "markdown",
   "metadata": {},
   "source": []
  },
  {
   "cell_type": "markdown",
   "metadata": {},
   "source": [
    "### LEFT JOINS\n",
    "![left join](./images/left-join.png)\n",
    "- LEFT JOIN is used whane we want to combine two tables & keep some of the unmatched rows.\n",
    "- SQL lets us do that with the LEFT JOIN command."
   ]
  },
  {
   "cell_type": "code",
   "execution_count": null,
   "metadata": {},
   "outputs": [],
   "source": [
    "SELECT *\n",
    "FROM orders o\n",
    "LEFT JOIN customers c \n",
    "     ON o.customer_id = c.customer_id\n",
    "    \n",
    "# If there is not match it will return null for the values on the right side."
   ]
  },
  {
   "cell_type": "markdown",
   "metadata": {},
   "source": [
    "### Full Outer Join\n",
    "- The FULL OUTER JOIN joins two tables based on a common column, and selects records that have matching values in these columns and remaining rows from both of the tables\n",
    "![full outer join](./images/full-outer-join.png)"
   ]
  },
  {
   "cell_type": "markdown",
   "metadata": {},
   "source": [
    "### UNIONS\n",
    "- Sometimes we just want to stack one dataset on top of another.\n",
    "- UNION allows us to do that.\n",
    "###### For UNION to work:\n",
    "    - The tables must have same number of columns.\n",
    "    - Columns must have the same datatypes in the same order."
   ]
  },
  {
   "cell_type": "code",
   "execution_count": 1,
   "metadata": {},
   "outputs": [
    {
     "ename": "SyntaxError",
     "evalue": "invalid syntax (3595661089.py, line 1)",
     "output_type": "error",
     "traceback": [
      "\u001b[1;36m  File \u001b[1;32m\"C:\\Users\\user\\AppData\\Local\\Temp\\ipykernel_23200\\3595661089.py\"\u001b[1;36m, line \u001b[1;32m1\u001b[0m\n\u001b[1;33m    SELECT *\u001b[0m\n\u001b[1;37m            ^\u001b[0m\n\u001b[1;31mSyntaxError\u001b[0m\u001b[1;31m:\u001b[0m invalid syntax\n"
     ]
    }
   ],
   "source": [
    "SELECT *\n",
    "FROM table1\n",
    "UNION\n",
    "SELECT *\n",
    "FROM table2"
   ]
  },
  {
   "cell_type": "code",
   "execution_count": null,
   "metadata": {},
   "outputs": [],
   "source": []
  },
  {
   "cell_type": "markdown",
   "metadata": {},
   "source": [
    "## SQL Subqueries\n",
    "* A subquery is a query nested within another query.\n",
    "* A SQL subquery must be enclosed inside parenthesis otherwise you get a error.\n",
    "* A subquery also need to be able to fit into the context in which it's being used."
   ]
  },
  {
   "cell_type": "code",
   "execution_count": null,
   "metadata": {},
   "outputs": [],
   "source": [
    "SELECT *\n",
    "FROM customers\n",
    "WHERE points < (SELECT AVG(points) FROM customers);"
   ]
  },
  {
   "cell_type": "markdown",
   "metadata": {},
   "source": [
    "* SQL subqueries can make your queries complex really fast.\n",
    "* A common practice is to start with your inner queries make sure you get the desired results or them first.\n",
    "* **SUBQUERIES can be used for joining tables**"
   ]
  },
  {
   "cell_type": "code",
   "execution_count": null,
   "metadata": {},
   "outputs": [],
   "source": []
  },
  {
   "cell_type": "markdown",
   "metadata": {},
   "source": [
    "### WITH\n",
    "- WITH allows us to define one or more named subqueries before the start of a the main query.\n",
    "- Normally, subqueries are harder to read and debug, WITH helps us prevent the complaxity by declaring named subqueries separate from the main query."
   ]
  },
  {
   "cell_type": "code",
   "execution_count": null,
   "metadata": {},
   "outputs": [],
   "source": [
    "WITH prev_query AS (\n",
    "    SELECT customer_id, \n",
    "        COUNT(order_id) AS orders\n",
    "    FROM orders\n",
    "    GROUP BY 1 # 1 means the first column in the SELECT statement.\n",
    "    )\n",
    "SELECT \n",
    "    customers.first_name, \n",
    "    customers.last_name, \n",
    "    prev_query.orders\n",
    "FROM customers\n",
    "JOIN prev_query\n",
    "    on prev_query.customer_id = customers.customer_id;"
   ]
  },
  {
   "cell_type": "markdown",
   "metadata": {},
   "source": []
  },
  {
   "cell_type": "markdown",
   "metadata": {},
   "source": [
    "### Views\n",
    "- A database view is a subset of a database and is based on a query that runs on one or more database tables. \n",
    "- Database views are saved in the database as named queries and can be used to save frequently used, complex queries.\n",
    "- VIEWS are similar to WITH subquery, but while WITH subqueries are temporary, VIEWS are saved in the database to be reused\n",
    "\n",
    "###### Create a View"
   ]
  },
  {
   "cell_type": "code",
   "execution_count": null,
   "metadata": {},
   "outputs": [],
   "source": [
    "CREATE VIEW aggs_by_customers AS\n",
    "SELECT  client_id,  \n",
    "    MAX(invoice_total) AS total_max,\n",
    "    MIN(invoice_total) AS toaggs_by_customerstal_min,\n",
    "    AVG(invoice_total) AS AVG_TOTAL,\n",
    "\tSUM(invoice_total) AS total_sum,\n",
    "    COUNT(invoice_total) AS total_COUNT\n",
    "    \n",
    "FROM  jumiaa_invoicing.invoices \n",
    "WHERE invoice_date >='2019-07-01'\n",
    "GROUP BY client_id"
   ]
  },
  {
   "cell_type": "markdown",
   "metadata": {},
   "source": [
    "###### Dropping views"
   ]
  },
  {
   "cell_type": "code",
   "execution_count": null,
   "metadata": {},
   "outputs": [],
   "source": [
    "DROP VIEW  jumiaa_store.aggs_by_customers"
   ]
  },
  {
   "cell_type": "markdown",
   "metadata": {},
   "source": [
    "#### Altering "
   ]
  },
  {
   "cell_type": "code",
   "execution_count": null,
   "metadata": {},
   "outputs": [],
   "source": [
    "CREATE OR REPLACE  VIEW aggs_by_customers AS\n",
    "SELECT  client_id,  \n",
    "    MAX(invoice_total) AS total_max,\n",
    "    MIN(invoice_total) AS toaggs_by_customerstal_min,\n",
    "    AVG(invoice_total) AS AVG_TOTAL,\n",
    "\tSUM(invoice_total) AS total_sum,\n",
    "    COUNT(invoice_total) AS total_COUNT\n",
    "    \n",
    "FROM  jumiaa_invoicing.invoices \n",
    "WHERE invoice_date >='2019-07-01'\n",
    "GROUP BY client_id"
   ]
  },
  {
   "cell_type": "markdown",
   "metadata": {},
   "source": [
    "# READ MORE NOT COVERED \n",
    "\n",
    "* Relationships.\n",
    "* stored procedures \n",
    "* Trigger and events \n",
    "* Transaction and cocurrency \n",
    "* Design databases \n",
    "* indexing \n",
    "* securing databases "
   ]
  },
  {
   "cell_type": "markdown",
   "metadata": {},
   "source": [
    "# Read and Practice More\n",
    "\n",
    "* 1 ) https://www.w3schools.com/mysql/default.asp\n",
    "    \n",
    "* 2 ) https://www.youtube.com/watch?v=7S_tz1z_5bA"
   ]
  }
 ],
 "metadata": {
  "kernelspec": {
   "display_name": "Python 3 (ipykernel)",
   "language": "python",
   "name": "python3"
  },
  "language_info": {
   "codemirror_mode": {
    "name": "ipython",
    "version": 3
   },
   "file_extension": ".py",
   "mimetype": "text/x-python",
   "name": "python",
   "nbconvert_exporter": "python",
   "pygments_lexer": "ipython3",
   "version": "3.9.13"
  }
 },
 "nbformat": 4,
 "nbformat_minor": 4
}

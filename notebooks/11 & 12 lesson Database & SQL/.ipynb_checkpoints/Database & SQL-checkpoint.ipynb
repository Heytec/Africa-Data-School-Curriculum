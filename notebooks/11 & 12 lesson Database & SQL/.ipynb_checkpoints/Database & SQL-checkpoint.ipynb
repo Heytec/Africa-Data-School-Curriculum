{
 "cells": [
  {
   "cell_type": "markdown",
   "metadata": {},
   "source": [
    "### 1) What is a Database \n",
    "\n",
    "#### A database is an organized collection of data, generally stored and accessed electronically from a computer system. \n",
    "\n",
    "#### Examples\n",
    "\n",
    "* RDBMS   Example systems: Microsoft Access and MySQL\n",
    "* Document stores/document-oriented database  Example systems: MongoDB\n",
    "* Key-value stores  Example systems: Redis   Example users: Stack Exchange\n",
    "* Search engines  Example systems: Elasticsearch  Example users: Vimeo\n",
    "* Wide column stores/extensible record stores Example systems: Cassandra  Example users: Netflix\n",
    "* Graph DBMS Example systems: Neo4j and Microsoft Azure Cosmos DB ,Example users: Ebay\n",
    "\n",
    "https://codebots.com/continuous-modernisation/types-of-databases-and-dbms-with-examples\n",
    "\n",
    " \n",
    "### 2) Two main types of modern databases\n",
    "\n",
    "\n",
    "*The two main types of modern databases to choose from are relational and non-relational\n",
    "\n",
    "#### Relational /SQL\n",
    "\n",
    "* SQL databases are known as relational databases, and have a table-based data structure, with a strict, predefined schema required.\n",
    "\n",
    "\n",
    "#### Non-relational/ NoSQL \n",
    "* NoSQL databases, or non-relational databases, can be document based, graph databases, key-value pairs, or wide-column stores. NoSQL databases don’t require any predefined schema, allowing you to work more freely with “unstructured data.”\n",
    "\n",
    "\n",
    "\n",
    "\n",
    "\n",
    "\n",
    "### 3) Database management system Software\n",
    "\n",
    "####   Database Management System (DBMS) is a software that is used to define, create and maintain a database and provides controlled access to the data.\n",
    "\n",
    "\n",
    "##### RDMS \n",
    "* Relational Database Management System (RDBMS) is an advanced version of a DBMS.\n",
    "##### RDBMS examples include\n",
    "* MySQL, \n",
    "* Microsoft SQL Server,\n",
    "* Oracle\n",
    "* PostgreSQL, "
   ]
  },
  {
   "cell_type": "markdown",
   "metadata": {},
   "source": [
    "# Installing MySQL"
   ]
  },
  {
   "cell_type": "markdown",
   "metadata": {},
   "source": [
    "Download Link: \n",
    "https://dev.mysql.com/downloads/windows/installer/8.0.html\n",
    "\n",
    "\n",
    "Windows (x86, 32-bit), MSI Installer"
   ]
  },
  {
   "cell_type": "markdown",
   "metadata": {},
   "source": [
    "# Retreving Data"
   ]
  },
  {
   "cell_type": "code",
   "execution_count": null,
   "metadata": {},
   "outputs": [],
   "source": []
  },
  {
   "cell_type": "code",
   "execution_count": null,
   "metadata": {},
   "outputs": [],
   "source": [
    "# the database \n",
    "USE jumiaa_store;  \n",
    "\n",
    "#select all columns \n",
    "SELECT *\n",
    "\n",
    "# the table \n",
    "FROM customers"
   ]
  },
  {
   "cell_type": "markdown",
   "metadata": {},
   "source": [
    "!['sql'](sql.png)"
   ]
  },
  {
   "cell_type": "markdown",
   "metadata": {},
   "source": [
    "#### WHERE"
   ]
  },
  {
   "cell_type": "code",
   "execution_count": null,
   "metadata": {},
   "outputs": [],
   "source": [
    "# \n",
    "USE jumiaa_store; \n",
    "\n",
    "SELECT *\n",
    "FROM customers \n",
    "WHERE customer_id =4"
   ]
  },
  {
   "cell_type": "markdown",
   "metadata": {},
   "source": [
    "#### ORDER BY"
   ]
  },
  {
   "cell_type": "code",
   "execution_count": null,
   "metadata": {},
   "outputs": [],
   "source": [
    "USE jumiaa_store; \n",
    "\n",
    "SELECT *\n",
    "FROM customers \n",
    "WHERE customer_id =4\n",
    "ORDER BY  city"
   ]
  },
  {
   "cell_type": "markdown",
   "metadata": {},
   "source": [
    "#### SELECT "
   ]
  },
  {
   "cell_type": "code",
   "execution_count": null,
   "metadata": {},
   "outputs": [],
   "source": [
    "# SELECT ALL  \n",
    "\n",
    "SELECT *\n",
    "FROM customers "
   ]
  },
  {
   "cell_type": "code",
   "execution_count": null,
   "metadata": {},
   "outputs": [],
   "source": [
    "# SELECT SPECIFIC COLUMNS \n",
    "\n",
    "USE jumiaa_store; \n",
    "\n",
    "SELECT first_name, city \n",
    "FROM customers "
   ]
  },
  {
   "cell_type": "code",
   "execution_count": null,
   "metadata": {},
   "outputs": [],
   "source": [
    "# SELECT SPECIFIC COLUMNS ,+NEW \n",
    "USE jumiaa_store; \n",
    "\n",
    "SELECT first_name, city ,points, points+10\n",
    "FROM customers "
   ]
  },
  {
   "cell_type": "code",
   "execution_count": null,
   "metadata": {},
   "outputs": [],
   "source": [
    "# AS renaming \n",
    "\n",
    "USE jumiaa_store; \n",
    "\n",
    "SELECT first_name, city ,points, points+10, points * 400 AS 'Discount'\n",
    "FROM customers "
   ]
  },
  {
   "cell_type": "markdown",
   "metadata": {},
   "source": [
    "#### WHERE    fillter data"
   ]
  },
  {
   "cell_type": "code",
   "execution_count": null,
   "metadata": {},
   "outputs": [],
   "source": [
    "# customer with  more than  1000 points \n",
    "USE jumiaa_store; \n",
    "\n",
    "SELECT *\n",
    "FROM customers \n",
    "WHERE points > 1000\n",
    "\n",
    "#types of operators \n",
    "<,<=,>,=>,!=,<>"
   ]
  },
  {
   "cell_type": "markdown",
   "metadata": {},
   "source": [
    "#### AND "
   ]
  },
  {
   "cell_type": "code",
   "execution_count": null,
   "metadata": {},
   "outputs": [],
   "source": [
    "# customers in Nairobi with more than 1000 points \n",
    "USE jumiaa_store; \n",
    "\n",
    "SELECT *\n",
    "FROM customers \n",
    "WHERE points > 1000 AND city = 'Nairobi'"
   ]
  },
  {
   "cell_type": "code",
   "execution_count": null,
   "metadata": {},
   "outputs": [],
   "source": [
    "# where total price is greater than 30\n",
    "\n",
    "USE jumiaa_store; \n",
    "\n",
    "SELECT *\n",
    "FROM order_items \n",
    "WHERE order_id > 6 AND unit_price * quantity > 30"
   ]
  },
  {
   "cell_type": "markdown",
   "metadata": {},
   "source": [
    "#### OR  "
   ]
  },
  {
   "cell_type": "code",
   "execution_count": null,
   "metadata": {},
   "outputs": [],
   "source": [
    "\n",
    "USE jumiaa_store; \n",
    "\n",
    "SELECT *\n",
    "FROM customers \n",
    "WHERE points > 100 OR birth_date = '1990-01-01'"
   ]
  },
  {
   "cell_type": "markdown",
   "metadata": {},
   "source": [
    "### IN"
   ]
  },
  {
   "cell_type": "code",
   "execution_count": null,
   "metadata": {},
   "outputs": [],
   "source": [
    "\n",
    "USE jumiaa_store; \n",
    "\n",
    "SELECT *\n",
    "FROM customers \n",
    "WHERE city IN ('Nairobi', 'Cape' ,'Mombasa')"
   ]
  },
  {
   "cell_type": "markdown",
   "metadata": {},
   "source": [
    "#### BETWEEN "
   ]
  },
  {
   "cell_type": "code",
   "execution_count": null,
   "metadata": {},
   "outputs": [],
   "source": [
    "USE jumiaa_store; \n",
    "\n",
    "SELECT *\n",
    "FROM customers \n",
    "WHERE points BETWEEN 900 AND 2000"
   ]
  },
  {
   "cell_type": "markdown",
   "metadata": {},
   "source": [
    "#### LIKE"
   ]
  },
  {
   "cell_type": "code",
   "execution_count": null,
   "metadata": {},
   "outputs": [],
   "source": [
    "# where first name start with J and anything after that  # match character _j\n",
    "USE jumiaa_store; \n",
    "\n",
    "SELECT *\n",
    "FROM customers \n",
    "\n",
    "\n",
    "WHERE first_name LIKE 'J%'"
   ]
  },
  {
   "cell_type": "markdown",
   "metadata": {},
   "source": [
    "#### REGEXP OPERATOR"
   ]
  },
  {
   "cell_type": "code",
   "execution_count": null,
   "metadata": {},
   "outputs": [],
   "source": [
    "USE jumiaa_store; \n",
    "\n",
    "SELECT *\n",
    "FROM customers \n",
    "WHERE first_name REGEXP 'John'\n",
    "\n",
    "\n"
   ]
  },
  {
   "cell_type": "code",
   "execution_count": null,
   "metadata": {},
   "outputs": [],
   "source": [
    "^ beginning \n",
    "$ end \n",
    "'^ John|mac|otieno' logical or\n",
    "'[gim]e'\n",
    "'[a-h]e' range "
   ]
  },
  {
   "cell_type": "markdown",
   "metadata": {},
   "source": [
    "#### IS NULL"
   ]
  },
  {
   "cell_type": "code",
   "execution_count": null,
   "metadata": {},
   "outputs": [],
   "source": [
    "USE jumiaa_store; \n",
    "\n",
    "SELECT *\n",
    "FROM customers \n",
    "WHERE phone IS NULL"
   ]
  },
  {
   "cell_type": "markdown",
   "metadata": {},
   "source": [
    "#### ORDER BY "
   ]
  },
  {
   "cell_type": "code",
   "execution_count": null,
   "metadata": {},
   "outputs": [],
   "source": [
    "USE jumiaa_store; \n",
    "\n",
    "SELECT *, quantity * unit_price AS total_price\n",
    "FROM order_items\n",
    "WHERE order_id=2\n",
    "ORDER BY quantity * unit_price DESC"
   ]
  },
  {
   "cell_type": "markdown",
   "metadata": {},
   "source": [
    "#### LIMIT "
   ]
  },
  {
   "cell_type": "code",
   "execution_count": null,
   "metadata": {},
   "outputs": [],
   "source": [
    "\n",
    "USE jumiaa_store; \n",
    "\n",
    "SELECT *, quantity * unit_price AS total_price\n",
    "FROM order_items\n",
    "WHERE order_id=2\n",
    "ORDER BY quantity * unit_price DESC\n",
    "LIMIT 2"
   ]
  },
  {
   "cell_type": "markdown",
   "metadata": {},
   "source": []
  },
  {
   "cell_type": "markdown",
   "metadata": {},
   "source": [
    "#### join 2 tables in  the same database "
   ]
  },
  {
   "cell_type": "code",
   "execution_count": null,
   "metadata": {},
   "outputs": [],
   "source": [
    "USE jumiaa_store; \n",
    "\n",
    "SELECT *\n",
    "FROM orders \n",
    "JOIN customers ON  orders.customer_id  = customers.customer_id "
   ]
  },
  {
   "cell_type": "code",
   "execution_count": null,
   "metadata": {},
   "outputs": [],
   "source": [
    "USE jumiaa_store; \n",
    "\n",
    "SELECT *\n",
    "FROM orders O\n",
    "JOIN customers C ON  O.customer_id  = C.customer_id "
   ]
  },
  {
   "cell_type": "markdown",
   "metadata": {},
   "source": [
    "####  two tables in different databases "
   ]
  },
  {
   "cell_type": "code",
   "execution_count": null,
   "metadata": {},
   "outputs": [],
   "source": [
    "USE jumiaa_store; \n",
    "\n",
    "SELECT *\n",
    "FROM order_items oi\n",
    "JOIN jumiaa_inventory.products p\n",
    "     ON oi.product_id = p.product_id"
   ]
  },
  {
   "cell_type": "markdown",
   "metadata": {},
   "source": [
    "#### join Multiple table "
   ]
  },
  {
   "cell_type": "code",
   "execution_count": null,
   "metadata": {},
   "outputs": [],
   "source": [
    "USE jumiaa_store; \n",
    "\n",
    "SELECT *\n",
    "FROM orders o\n",
    "JOIN customers c \n",
    "     ON o.customer_id = c.customer_id\n",
    "JOIN order_statuses os \n",
    "    ON o.status  = os.order_status_id "
   ]
  },
  {
   "cell_type": "markdown",
   "metadata": {},
   "source": [
    "#### INSERT SINGLE ROW "
   ]
  },
  {
   "cell_type": "code",
   "execution_count": null,
   "metadata": {},
   "outputs": [],
   "source": [
    "INSERT INTO customers (first_name,\n",
    "                       last_name,\n",
    "                       birth_date,\n",
    "                       address,\n",
    "                       city,\n",
    "                       state)\n",
    "VALUE (\n",
    "       'Wilson',\n",
    "       'Smith',\n",
    "       '1990-01-01',\n",
    "\t    'address',\n",
    "        'city',\n",
    "        'CA')"
   ]
  },
  {
   "cell_type": "markdown",
   "metadata": {},
   "source": [
    "####  INSERT  MULTIPLE ROWS"
   ]
  },
  {
   "cell_type": "code",
   "execution_count": null,
   "metadata": {},
   "outputs": [],
   "source": [
    "INSERT INTO shippers (name)\n",
    "VALUE ('dhlpremnium1'),\n",
    "       ('fexchipper2')"
   ]
  },
  {
   "cell_type": "markdown",
   "metadata": {},
   "source": [
    "#### INSERT MULTIPLE ROWS IN DIFFERENT TABLES "
   ]
  },
  {
   "cell_type": "code",
   "execution_count": null,
   "metadata": {},
   "outputs": [],
   "source": [
    "INSERT INTO orders (customer_id,order_date,status)\n",
    "VALUE (1,'2019-01-02',1);\n",
    "\n",
    "INSERT INTO  order_items\n",
    "VALUES\n",
    "      (LAST_INSERT_ID(),1,1,2.95),\n",
    "      (LAST_INSERT_ID(),2,1,5.95)"
   ]
  },
  {
   "cell_type": "markdown",
   "metadata": {},
   "source": [
    "#### UPDATING  ROWS "
   ]
  },
  {
   "cell_type": "code",
   "execution_count": null,
   "metadata": {},
   "outputs": [],
   "source": [
    "UPDATE jumiaa_invoicing.invoices\n",
    "SET payment_total= 20, due_date=\"2020-5-15\"\n",
    "WHERE  invoice_id = 1 "
   ]
  },
  {
   "cell_type": "markdown",
   "metadata": {},
   "source": [
    "#### Update multiple rows "
   ]
  },
  {
   "cell_type": "code",
   "execution_count": null,
   "metadata": {},
   "outputs": [],
   "source": [
    "UPDATE jumiaa_invoicing.invoices\n",
    "SET payment_total= 20, due_date=\"2020-5-15\"\n",
    "WHERE  client_id IN (3,4)"
   ]
  },
  {
   "cell_type": "markdown",
   "metadata": {},
   "source": [
    "#### DELETING ROWS "
   ]
  },
  {
   "cell_type": "code",
   "execution_count": null,
   "metadata": {},
   "outputs": [],
   "source": [
    "# check errors \n",
    "DELETE FROM jumiaa_invoicing.invoices\n",
    "WHERE client_id=(\n",
    "    SELECT *\n",
    "    FROM jumiaa_invoicing.clients\n",
    "    WHERE name ='Myworks'\n",
    ")"
   ]
  },
  {
   "cell_type": "markdown",
   "metadata": {},
   "source": [
    "#### Aggregate clause "
   ]
  },
  {
   "cell_type": "code",
   "execution_count": null,
   "metadata": {},
   "outputs": [],
   "source": [
    "MAX()\n",
    "MIN()\n",
    "AVG()\n",
    "SUM()\n",
    "COUNT()"
   ]
  },
  {
   "cell_type": "code",
   "execution_count": null,
   "metadata": {},
   "outputs": [],
   "source": [
    "SELECT    \n",
    "    MAX(invoice_total) AS total_max,\n",
    "    MIN(invoice_total) AS total_min,\n",
    "    AVG(invoice_total) AS AVG_TOTAL,\n",
    "    SUM(invoice_total) AS total_sum,\n",
    "    COUNT(invoice_total) AS total_COUNT\n",
    "    \n",
    "FROM  jumiaa_invoicing.invoices "
   ]
  },
  {
   "cell_type": "markdown",
   "metadata": {},
   "source": [
    "#### Group by summary "
   ]
  },
  {
   "cell_type": "code",
   "execution_count": null,
   "metadata": {},
   "outputs": [],
   "source": [
    "SELECT  client_id,  \n",
    "    MAX(invoice_total) AS total_max,\n",
    "    MIN(invoice_total) AS total_min,\n",
    "    AVG(invoice_total) AS AVG_TOTAL,\n",
    "\tSUM(invoice_total) AS total_sum,\n",
    "    COUNT(invoice_total) AS total_COUNT\n",
    "    \n",
    "FROM  jumiaa_invoicing.invoices \n",
    "GROUP BY client_id"
   ]
  },
  {
   "cell_type": "code",
   "execution_count": null,
   "metadata": {},
   "outputs": [],
   "source": [
    "SELECT  client_id,  \n",
    "    MAX(invoice_total) AS total_max,\n",
    "    MIN(invoice_total) AS total_min,\n",
    "    AVG(invoice_total) AS AVG_TOTAL,\n",
    "\tSUM(invoice_total) AS total_sum,\n",
    "    COUNT(invoice_total) AS total_COUNT\n",
    "    \n",
    "FROM  jumiaa_invoicing.invoices \n",
    "WHERE invoice_date >='2019-07-01'\n",
    "GROUP BY client_id"
   ]
  },
  {
   "cell_type": "markdown",
   "metadata": {},
   "source": [
    "####  Having clause summary "
   ]
  },
  {
   "cell_type": "code",
   "execution_count": null,
   "metadata": {},
   "outputs": [],
   "source": [
    "# filtter data after your rows are grouped \n",
    "\n",
    "SELECT client_id,\n",
    "SUM(invoice_total) AS  total_sales,\n",
    "COUNT(*) AS number_of_invoices\n",
    "FROM  jumiaa_invoicing.invoices \n",
    "HAVING total_sales > 500 AND  number_of_invoices >5"
   ]
  },
  {
   "cell_type": "markdown",
   "metadata": {},
   "source": [
    "#### WITH ROOLUP "
   ]
  },
  {
   "cell_type": "code",
   "execution_count": null,
   "metadata": {},
   "outputs": [],
   "source": [
    "SELECT client_id,\n",
    "SUM(invoice_total) AS  total_sales,\n",
    "COUNT(*) AS number_of_invoices\n",
    "FROM  jumiaa_invoicing.invoices \n",
    "GROUP BY client_id WITH ROLLUP"
   ]
  },
  {
   "cell_type": "markdown",
   "metadata": {},
   "source": [
    "# VIEWS "
   ]
  },
  {
   "cell_type": "markdown",
   "metadata": {},
   "source": [
    "#### Create view "
   ]
  },
  {
   "cell_type": "code",
   "execution_count": null,
   "metadata": {},
   "outputs": [],
   "source": [
    "CREATE VIEW aggs_by_customers AS\n",
    "SELECT  client_id,  \n",
    "    MAX(invoice_total) AS total_max,\n",
    "    MIN(invoice_total) AS toaggs_by_customerstal_min,\n",
    "    AVG(invoice_total) AS AVG_TOTAL,\n",
    "\tSUM(invoice_total) AS total_sum,\n",
    "    COUNT(invoice_total) AS total_COUNT\n",
    "    \n",
    "FROM  jumiaa_invoicing.invoices \n",
    "WHERE invoice_date >='2019-07-01'\n",
    "GROUP BY client_id"
   ]
  },
  {
   "cell_type": "markdown",
   "metadata": {},
   "source": [
    "####  Dropping Views "
   ]
  },
  {
   "cell_type": "code",
   "execution_count": null,
   "metadata": {},
   "outputs": [],
   "source": [
    "# droping view \n",
    "DROP VIEW  jumiaa_store.aggs_by_customers"
   ]
  },
  {
   "cell_type": "markdown",
   "metadata": {},
   "source": [
    "#### Altering "
   ]
  },
  {
   "cell_type": "code",
   "execution_count": null,
   "metadata": {},
   "outputs": [],
   "source": [
    "CREATE OR REPLACE  VIEW aggs_by_customers AS\n",
    "SELECT  client_id,  \n",
    "    MAX(invoice_total) AS total_max,\n",
    "    MIN(invoice_total) AS toaggs_by_customerstal_min,\n",
    "    AVG(invoice_total) AS AVG_TOTAL,\n",
    "\tSUM(invoice_total) AS total_sum,\n",
    "    COUNT(invoice_total) AS total_COUNT\n",
    "    \n",
    "FROM  jumiaa_invoicing.invoices \n",
    "WHERE invoice_date >='2019-07-01'\n",
    "GROUP BY client_id"
   ]
  },
  {
   "cell_type": "code",
   "execution_count": null,
   "metadata": {},
   "outputs": [],
   "source": []
  },
  {
   "cell_type": "markdown",
   "metadata": {},
   "source": [
    "# READ MORE NOT COVERD \n",
    "\n",
    "\n",
    "* stored procedures \n",
    "* Trigger and events \n",
    "* Transaction and cocurrency \n",
    "* Design databases \n",
    "* indexing \n",
    "* securing databases "
   ]
  },
  {
   "cell_type": "code",
   "execution_count": null,
   "metadata": {},
   "outputs": [],
   "source": []
  }
 ],
 "metadata": {
  "kernelspec": {
   "display_name": "Python 3",
   "language": "python",
   "name": "python3"
  },
  "language_info": {
   "codemirror_mode": {
    "name": "ipython",
    "version": 3
   },
   "file_extension": ".py",
   "mimetype": "text/x-python",
   "name": "python",
   "nbconvert_exporter": "python",
   "pygments_lexer": "ipython3",
   "version": "3.8.5"
  }
 },
 "nbformat": 4,
 "nbformat_minor": 4
}

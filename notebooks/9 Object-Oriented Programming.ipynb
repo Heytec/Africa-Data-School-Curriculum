{
 "cells": [
  {
   "cell_type": "markdown",
   "id": "3ba08944",
   "metadata": {},
   "source": [
    "# Object-Oriented Programming"
   ]
  },
  {
   "cell_type": "markdown",
   "id": "5ccb95f5",
   "metadata": {},
   "source": [
    "## Table of Contents\n",
    "\n",
    "1 Introduction to OOP\n",
    "  * Classes and objects\n",
    "  * Attributes and methods\n",
    "  * Constructors\n",
    "  \n",
    "2 Inheritance\n",
    "\n",
    "* Subclasses and superclasses\n",
    "\n",
    "3 Assignment Lab or Practical Work¶"
   ]
  },
  {
   "cell_type": "markdown",
   "id": "4b80ab45",
   "metadata": {},
   "source": [
    "## Introduction to OOP\n",
    "\n",
    "Object-Oriented Programming (OOP) is a programming paradigm that focuses on organizing code using objects and classes. It helps to create more modular, reusable, and maintainable code."
   ]
  },
  {
   "cell_type": "markdown",
   "id": "17755eca",
   "metadata": {},
   "source": [
    "### Classes and objects\n",
    "* A class is a blueprint for creating objects. It defines a set of attributes and methods that the objects created from the class will have.\n",
    "\n",
    "* An object is an instance of a class. It has its own set of attributes and can use the methods defined in its class."
   ]
  },
  {
   "cell_type": "markdown",
   "id": "49041d8d",
   "metadata": {},
   "source": [
    "EXAMPLE 1"
   ]
  },
  {
   "cell_type": "raw",
   "id": "ee29afd5",
   "metadata": {},
   "source": [
    "Imagine you are organizing a birthday party for your friends. A class is like a recipe for making a certain type of cake. The recipe (class) tells you the ingredients (attributes) you need and the steps to follow to bake the cake (methods).\n",
    "\n",
    "Now, if you follow the recipe, you will make a cake. Each cake you bake using the same recipe is called an object. Even though they all follow the same recipe (class), each cake you bake (object) can have different decorations, flavors, or colors (attributes). The steps to cut the cake or serve it to your friends are the same (methods) because they all follow the same recipe.\n",
    "\n",
    "So, a class is like a recipe for making something, and an object is the actual thing you make by following that recipe."
   ]
  },
  {
   "cell_type": "markdown",
   "id": "ef8dc7df",
   "metadata": {},
   "source": [
    "#### Creating a simple class\n",
    "* Here's a Python class based on the cake example:"
   ]
  },
  {
   "cell_type": "code",
   "execution_count": null,
   "id": "e0c3f890",
   "metadata": {},
   "outputs": [],
   "source": [
    "class Cake:\n",
    "    def __init__(self, flavor, color, decoration):\n",
    "        self.flavor = flavor\n",
    "        self.color = color\n",
    "        self.decoration = decoration\n",
    "\n",
    "    def bake(self):\n",
    "        print(f\"Baking a {self.color} {self.flavor} cake...\")\n",
    "\n",
    "    def decorate(self):\n",
    "        print(f\"Decorating the cake with {self.decoration}...\")\n",
    "\n",
    "    def serve(self):\n",
    "        print(f\"Serving the {self.flavor} cake with {self.decoration} decoration...\")\n",
    "\n",
    "# Create an object (cake1) using the Cake class\n",
    "cake1 = Cake(\"chocolate\", \"brown\", \"sprinkles\")\n",
    "\n",
    "# Call the methods on the cake1 object\n",
    "cake1.bake()\n",
    "cake1.decorate()\n",
    "cake1.serve()\n",
    "\n",
    "# Output:\n",
    "# Baking a brown chocolate cake...\n",
    "# Decorating the cake with sprinkles...\n",
    "# Serving the chocolate cake with sprinkles decoration...\n"
   ]
  },
  {
   "cell_type": "markdown",
   "id": "b7c936f2",
   "metadata": {},
   "source": [
    "In this example, we define a Cake class that has three attributes: flavor, color, and decoration. The class also has three methods: bake(), decorate(), and serve(). We create an object cake1 using the Cake class and call its methods to bake, decorate, and serve the cake."
   ]
  },
  {
   "cell_type": "markdown",
   "id": "819ed45e",
   "metadata": {},
   "source": [
    "#### Creating a simple class\n",
    "Here's a simple class definition for a Person"
   ]
  },
  {
   "cell_type": "code",
   "execution_count": 2,
   "id": "394b938e",
   "metadata": {},
   "outputs": [],
   "source": [
    "class Person:\n",
    "    pass\n",
    "\n",
    "person1 = Person()\n",
    "person2 = Person()\n"
   ]
  },
  {
   "cell_type": "markdown",
   "id": "4772ccf6",
   "metadata": {},
   "source": [
    "In this example, we define a Person class and create two instances (objects) of that class, person1 and person2."
   ]
  },
  {
   "cell_type": "markdown",
   "id": "7f71901c",
   "metadata": {},
   "source": [
    "#### Adding attributes to a class\n",
    "\n",
    "Attributes are variables that belong to an object. You can add attributes to a class by assigning values to instance variables within the class's methods.\n"
   ]
  },
  {
   "cell_type": "code",
   "execution_count": 3,
   "id": "e2850b58",
   "metadata": {},
   "outputs": [
    {
     "name": "stdout",
     "output_type": "stream",
     "text": [
      "Alice\n",
      "30\n"
     ]
    }
   ],
   "source": [
    "class Person:\n",
    "    def set_name(self, name):\n",
    "        self.name = name\n",
    "\n",
    "    def set_age(self, age):\n",
    "        self.age = age\n",
    "\n",
    "person1 = Person()\n",
    "person1.set_name(\"Alice\")\n",
    "person1.set_age(30)\n",
    "\n",
    "print(person1.name)  # Output: Alice\n",
    "print(person1.age)   # Output: 30\n"
   ]
  },
  {
   "cell_type": "markdown",
   "id": "434d277d",
   "metadata": {},
   "source": [
    "In this example, we define two methods, set_name() and set_age(), which set the name and age attributes of the Person class, respectively."
   ]
  },
  {
   "cell_type": "markdown",
   "id": "4615496a",
   "metadata": {},
   "source": [
    "#### Using the constructor method\n",
    "A constructor is a special method that is called when an object is created. It is used to initialize the object's attributes. The constructor method is named __init__ in Python."
   ]
  },
  {
   "cell_type": "code",
   "execution_count": 4,
   "id": "7804ed0e",
   "metadata": {},
   "outputs": [
    {
     "name": "stdout",
     "output_type": "stream",
     "text": [
      "Alice\n",
      "Bob\n"
     ]
    }
   ],
   "source": [
    "class Person:\n",
    "    def __init__(self, name, age):\n",
    "        self.name = name\n",
    "        self.age = age\n",
    "\n",
    "person1 = Person(\"Alice\", 30)\n",
    "person2 = Person(\"Bob\", 25)\n",
    "\n",
    "print(person1.name)  # Output: Alice\n",
    "print(person2.name)  # Output: Bob\n"
   ]
  },
  {
   "cell_type": "markdown",
   "id": "2989ba08",
   "metadata": {},
   "source": [
    "In this example, we define a constructor method __init__ that takes two parameters, name and age, and assigns them to the instance variables self.name and self.age."
   ]
  },
  {
   "cell_type": "markdown",
   "id": "8f17ae17",
   "metadata": {},
   "source": [
    "#### Adding methods to a class\n",
    "Methods are functions that belong to an object and define the object's behavior."
   ]
  },
  {
   "cell_type": "code",
   "execution_count": 5,
   "id": "4b6c986f",
   "metadata": {},
   "outputs": [
    {
     "name": "stdout",
     "output_type": "stream",
     "text": [
      "Hello, my name is Alice and I am 30 years old.\n",
      "Hello, my name is Bob and I am 25 years old.\n"
     ]
    }
   ],
   "source": [
    "class Person:\n",
    "    def __init__(self, name, age):\n",
    "        self.name = name\n",
    "        self.age = age\n",
    "\n",
    "    def greet(self):\n",
    "        print(f\"Hello, my name is {self.name} and I am {self.age} years old.\")\n",
    "\n",
    "person1 = Person(\"Alice\", 30)\n",
    "person2 = Person(\"Bob\", 25)\n",
    "\n",
    "person1.greet()  # Output: Hello, my name is Alice and I am 30 years old.\n",
    "person2.greet()  # Output: Hello, my name is Bob and I am 25 years old.\n"
   ]
  },
  {
   "cell_type": "markdown",
   "id": "9cc97461",
   "metadata": {},
   "source": [
    "In this example, we define a greet() method for the Person class that prints a greeting message including the person's name and age.\n",
    "\n",
    "These examples should provide a better understanding of classes and objects in Python, including defining simple classes, adding attributes and methods to classes, using the constructor method, and creating instances of a class."
   ]
  },
  {
   "cell_type": "markdown",
   "id": "67078aa9",
   "metadata": {},
   "source": [
    "##  Inheritance\n",
    "Inheritance is a mechanism in object-oriented programming that allows a class (called a subclass) to inherit attributes and methods from another class (called a superclass). This helps to create a hierarchy of classes, promoting code reusability and maintainability."
   ]
  },
  {
   "cell_type": "markdown",
   "id": "3ef56514",
   "metadata": {},
   "source": [
    "#### Subclasses and superclasses\n",
    "A subclass is a class that inherits attributes and methods from another class, called a superclass."
   ]
  },
  {
   "cell_type": "code",
   "execution_count": 6,
   "id": "f2b05dd8",
   "metadata": {},
   "outputs": [],
   "source": [
    "class Animal:\n",
    "    def __init__(self, name, age):\n",
    "        self.name = name\n",
    "        self.age = age\n",
    "\n",
    "class Dog(Animal):\n",
    "    def bark(self):\n",
    "        print(f\"{self.name} says woof!\")\n",
    "\n",
    "dog1 = Dog(\"Buddy\", 3)\n"
   ]
  },
  {
   "cell_type": "markdown",
   "id": "468e39cd",
   "metadata": {},
   "source": [
    "#### Basic Inheritance"
   ]
  },
  {
   "cell_type": "code",
   "execution_count": 7,
   "id": "316d873c",
   "metadata": {},
   "outputs": [
    {
     "name": "stdout",
     "output_type": "stream",
     "text": [
      "Buddy barks.\n"
     ]
    }
   ],
   "source": [
    "class Animal:\n",
    "    def __init__(self, name):\n",
    "        self.name = name\n",
    "\n",
    "    def make_sound(self):\n",
    "        print(f\"{self.name} makes a generic animal sound.\")\n",
    "\n",
    "class Dog(Animal):\n",
    "    def make_sound(self):\n",
    "        print(f\"{self.name} barks.\")\n",
    "\n",
    "dog1 = Dog(\"Buddy\")\n",
    "dog1.make_sound()  # Output: Buddy barks.\n"
   ]
  },
  {
   "cell_type": "markdown",
   "id": "13b6bce5",
   "metadata": {},
   "source": [
    "In this example, we define a superclass Animal and a subclass Dog. The Dog class inherits the attributes and methods from the Animal class. We override the make_sound() method in the Dog class to provide a specific implementation for dogs."
   ]
  },
  {
   "cell_type": "markdown",
   "id": "32d35014",
   "metadata": {},
   "source": [
    "#### Using super()"
   ]
  },
  {
   "cell_type": "markdown",
   "id": "7fd2bef9",
   "metadata": {},
   "source": [
    "he super() function allows you to call a method from the superclass. This is useful when you want to extend or override the behavior of the superclass method."
   ]
  },
  {
   "cell_type": "code",
   "execution_count": null,
   "id": "2dc090f5",
   "metadata": {},
   "outputs": [],
   "source": [
    "class Animal:\n",
    "    def __init__(self, name, species):\n",
    "        self.name = name\n",
    "        self.species = species\n",
    "\n",
    "class Dog(Animal):\n",
    "    def __init__(self, name, breed):\n",
    "        super().__init__(name, \"Canis lupus familiaris\")\n",
    "        self.breed = breed\n",
    "\n",
    "dog1 = Dog(\"Buddy\", \"Golden Retriever\")\n",
    "print(dog1.name)     # Output: Buddy\n",
    "print(dog1.species)  # Output: Canis lupus familiaris\n",
    "print(dog1.breed)    # Output: Golden Retriever\n"
   ]
  },
  {
   "cell_type": "markdown",
   "id": "e61767d6",
   "metadata": {},
   "source": [
    "in this example, we use super() in the __init__() method of the Dog subclass to call the __init__() method of the Animal superclass. This allows us to set the species attribute for the dog while still adding a new breed attribute."
   ]
  },
  {
   "cell_type": "code",
   "execution_count": null,
   "id": "0287f5c1",
   "metadata": {},
   "outputs": [],
   "source": []
  },
  {
   "cell_type": "markdown",
   "id": "263194d9",
   "metadata": {},
   "source": [
    "#### Multiple Inheritance"
   ]
  },
  {
   "cell_type": "markdown",
   "id": "d1e0a839",
   "metadata": {},
   "source": [
    "Python supports multiple inheritance, where a class can inherit from more than one superclass."
   ]
  },
  {
   "cell_type": "code",
   "execution_count": 8,
   "id": "9b18b380",
   "metadata": {},
   "outputs": [
    {
     "name": "stdout",
     "output_type": "stream",
     "text": [
      "Perry\n",
      "True\n",
      "True\n"
     ]
    }
   ],
   "source": [
    "class Animal:\n",
    "    def __init__(self, name):\n",
    "        self.name = name\n",
    "\n",
    "class Mammal(Animal):\n",
    "    def has_hair(self):\n",
    "        return True\n",
    "\n",
    "class Swimmer(Animal):\n",
    "    def can_swim(self):\n",
    "        return True\n",
    "\n",
    "class Platypus(Mammal, Swimmer):\n",
    "    pass\n",
    "\n",
    "perry = Platypus(\"Perry\")\n",
    "print(perry.name)       # Output: Perry\n",
    "print(perry.has_hair()) # Output: True\n",
    "print(perry.can_swim()) # Output: True\n"
   ]
  },
  {
   "cell_type": "markdown",
   "id": "1e9e905a",
   "metadata": {},
   "source": [
    "In this example, we have two superclasses, Mammal and Swimmer, both inheriting from the Animal class. The Platypus class inherits from both Mammal and Swimmer. An instance of Platypus has access to methods from both superclasses.\n",
    "\n",
    "These notes on inheritance should help you understand the basics of inheritance, using super(), and multiple inheritance in Python.\n",
    "\n",
    "\n",
    "\n",
    "\n"
   ]
  },
  {
   "cell_type": "markdown",
   "id": "483de613",
   "metadata": {},
   "source": [
    "# Assignment Lab or Practical Work"
   ]
  },
  {
   "cell_type": "markdown",
   "id": "7dfb1e22",
   "metadata": {},
   "source": [
    "## Introduction to OOP Assignment using Replit\n",
    "\n",
    "### Objective:\n",
    "The goal of this assignment is to help you practice object-oriented programming (OOP) concepts in Python. You will use Replit to write, run, and share Python scripts that demonstrate your understanding of classes, objects, attributes, methods, inheritance, subclasses, and superclasses.\n",
    "\n",
    "### Tasks:"
   ]
  },
  {
   "cell_type": "markdown",
   "id": "36a8bfa8",
   "metadata": {},
   "source": [
    "### 1 Create a new Python Repl:\n",
    "\n",
    "* Follow the instructions in the \"Getting Started with Replit Python\" tutorial to create a new Python Repl.\n",
    "* Name your Repl \"IntroToOOPAssignment\"."
   ]
  },
  {
   "cell_type": "markdown",
   "id": "499bbcb9",
   "metadata": {},
   "source": [
    "### 2 Write a Python script that demonstrates the use of classes and objects:\n",
    "\n",
    "* In your Python Repl, create a class named Person with the following attributes and methods:\n",
    "* Attributes: name and age\n",
    "* Method: greet that prints a greeting message including the person's name and age.\n",
    "* Create an instance of the Person class and call the greet method."
   ]
  },
  {
   "cell_type": "markdown",
   "id": "0efd0d3f",
   "metadata": {},
   "source": [
    "### 3 Write a Python script that demonstrates the use of inheritance, subclasses, and superclasses:\n",
    "\n",
    "* In your Python Repl, create a class named Employee that inherits from the Person class.\n",
    "* Add an attribute job_title to the Employee class.\n",
    "* Override the greet method in the Employee class to include the job title in the greeting message.\n",
    "* Use the super() function to call the greet method of the Person class.\n",
    "* Create an instance of the Employee class and call the greet method."
   ]
  },
  {
   "cell_type": "markdown",
   "id": "426c4096",
   "metadata": {},
   "source": [
    "### 4 Share your Python Repl:\n",
    "\n",
    "Once you have completed the tasks above, share your Repl by following the instructions in the \"Getting Started with Replit Python\" tutorial.\n",
    "Submit the link to your shared Repl as your assignment.\n",
    "\n",
    "Note: If you encounter any difficulties or have questions about Python object-oriented programming concepts, you can refer to the Python documentation (https://docs.python.org/3/tutorial/classes.html) or ask for help from your instructor or peers."
   ]
  },
  {
   "cell_type": "markdown",
   "id": "0b412878",
   "metadata": {},
   "source": [
    "# Solutions"
   ]
  },
  {
   "cell_type": "code",
   "execution_count": null,
   "id": "1bf73a99",
   "metadata": {},
   "outputs": [],
   "source": [
    "### 2 Write a Python script that demonstrates the use of classes and objects:\n",
    "\n",
    "class Person:\n",
    "    def __init__(self, name, age):\n",
    "        self.name = name\n",
    "        self.age = age\n",
    "\n",
    "    def greet(self):\n",
    "        print(f\"Hello, my name is {self.name} and I am {self.age} years old.\")\n",
    "\n",
    "person1 = Person(\"Alice\", 30)\n",
    "person1.greet()\n",
    "\n",
    "\n",
    "### 3 Write a Python script that demonstrates the use of inheritance, subclasses, and superclasses:\n",
    "\n",
    "class Employee(Person):\n",
    "    def __init__(self, name, age, job_title):\n",
    "        super().__init__(name, age)\n",
    "        self.job_title = job_title\n",
    "\n",
    "    def greet(self):\n",
    "        super().greet()\n",
    "        print(f\"I work as a {self.job_title}.\")\n",
    "\n",
    "employee1 = Employee(\"Bob\", 35, \"Software Engineer\")\n",
    "employee1.greet()\n"
   ]
  }
 ],
 "metadata": {
  "kernelspec": {
   "display_name": "Python 3 (ipykernel)",
   "language": "python",
   "name": "python3"
  },
  "language_info": {
   "codemirror_mode": {
    "name": "ipython",
    "version": 3
   },
   "file_extension": ".py",
   "mimetype": "text/x-python",
   "name": "python",
   "nbconvert_exporter": "python",
   "pygments_lexer": "ipython3",
   "version": "3.9.13"
  }
 },
 "nbformat": 4,
 "nbformat_minor": 5
}

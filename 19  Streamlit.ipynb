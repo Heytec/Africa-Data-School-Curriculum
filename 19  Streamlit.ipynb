{
 "cells": [
  {
   "cell_type": "markdown",
   "id": "bb91fd85",
   "metadata": {},
   "source": [
    "# Streamlit"
   ]
  },
  {
   "cell_type": "markdown",
   "id": "43cd938a",
   "metadata": {},
   "source": [
    "### 1) Introduction to Streamlit\n",
    "\n",
    "* What is Streamlit?\n",
    "* Setting Up the Environment\n",
    "* Running your first Streamlit app\n",
    "\n",
    "\n",
    "### 2)Streamlit App Basics\n",
    "\n",
    "* App layout and structure\n",
    "* Displaying text and images\n",
    "* Adding interactivity with widgets (buttons, sliders, checkboxes, etc.)\n",
    "\n",
    "### 3)Streamlit widgets\n",
    "* Buttons\n",
    "* Sliders\n",
    "* Checkboxes\n",
    "* Text Input\n",
    "* Text Area\n",
    "* Number Input\n",
    "* Date Input\n",
    "* Time Input\n",
    "* Selectbox\n",
    "* Multiselect\n",
    "* File Uploader\n",
    "* Download\n",
    "\n",
    "### 4) Basic Data Processing and Visualization\n",
    "\n",
    "* Uploading data files (CSV, Excel, etc.)\n",
    "* Data manipulation with Pandas\n",
    "* Data visualization with Matplotlib and Plotly\n",
    "\n",
    "### 5 Streamlit Layout and Components\n",
    "\n",
    "* Layout options (columns, sidebars, expanders)\n",
    "* Basic Streamlit components (progress bars etc.)\n",
    "\n",
    "### 6 Simple Streamlit Project \n",
    "\n",
    "* Building a data dashboard\n",
    "\n",
    "### 7 Deploying Your Streamlit App\n",
    "\n",
    "* Introduction to Streamlit Sharing\n",
    "* Deploying your app on Streamlit Sharing\n",
    "\n",
    "### 8 Assigment"
   ]
  },
  {
   "cell_type": "markdown",
   "id": "09cc8698",
   "metadata": {},
   "source": [
    "## Introduction to Streamlit"
   ]
  },
  {
   "cell_type": "markdown",
   "id": "60da34f9",
   "metadata": {},
   "source": [
    "### What is Streamlit?\n",
    "\n",
    "* Streamlit is an open-source Python library for creating interactive web applications.\n",
    "* Designed specifically for data science and machine learning projects.\n",
    "* Streamlines the process of building, deploying, and sharing web applications.\n",
    "* No need for extensive web development knowledge."
   ]
  },
  {
   "cell_type": "markdown",
   "id": "3d2a8578",
   "metadata": {},
   "source": [
    "NB : YOU CAN USE REPLIT , VSCODE OR PYCHARM"
   ]
  },
  {
   "cell_type": "markdown",
   "id": "f9b43cdb",
   "metadata": {},
   "source": [
    "### Setting Up the Environment"
   ]
  },
  {
   "cell_type": "markdown",
   "id": "9dae25b8",
   "metadata": {},
   "source": [
    "#### 1 Create a Replit account\n",
    "\n",
    "* Visit https://replit.com/signup to sign up for a free Replit account.\n",
    "* Fill out the required fields (email, username, and password) and click \"Sign up.\"\n",
    "* Alternatively, you can sign up using your GitHub, Google, or Facebook account.\n",
    "\n",
    "#### 2 Start a new Python Replit\n",
    "\n",
    "* After logging in to your Replit account, click the \"+\" button or \"Create\" in the top right corner of the dashboard.\n",
    "* Select \"Python\" as the language for your new Replit.\n",
    "* You will be redirected to the Replit IDE, where you can start coding.\n",
    "\n",
    "#### 3 Install Streamlit in Replit\n",
    "\n",
    "* In the Replit IDE, locate the \"Shell\" tab on the right side of the screen.\n",
    "* To install Streamlit, enter the following command in the shell:"
   ]
  },
  {
   "cell_type": "code",
   "execution_count": null,
   "id": "0f2d39ba",
   "metadata": {},
   "outputs": [],
   "source": [
    "\n",
    "pip install streamlit\n"
   ]
  },
  {
   "cell_type": "markdown",
   "id": "41235e86",
   "metadata": {},
   "source": [
    "Wait for Streamlit to install successfully. Once installed, you can start using Streamlit in your Python code.\n",
    "Now you have successfully set up your environment and are ready to start building web applications with Streamlit in Replit."
   ]
  },
  {
   "cell_type": "markdown",
   "id": "2daefebe",
   "metadata": {},
   "source": [
    "### Running your first Streamlit app\n",
    "\n",
    "* Create a new Python file (e.g., app.py) or if you are using Replit just copy the below code to  main.py \n",
    "* Add the following code to the file:"
   ]
  },
  {
   "cell_type": "code",
   "execution_count": null,
   "id": "812ce4a6",
   "metadata": {},
   "outputs": [],
   "source": [
    "import streamlit as st\n",
    "\n",
    "st.title('Hello, Streamlit!')\n",
    "st.write('This is my first Streamlit app.')\n"
   ]
  },
  {
   "cell_type": "markdown",
   "id": "d9431e10",
   "metadata": {},
   "source": [
    "Save the file locate the \"Shell\" tab on the right side of the screen and run the following command:"
   ]
  },
  {
   "cell_type": "raw",
   "id": "8130f57b",
   "metadata": {},
   "source": [
    "streamlit run main.py"
   ]
  },
  {
   "cell_type": "markdown",
   "id": "3b85a886",
   "metadata": {},
   "source": [
    "## Streamlit App Basics"
   ]
  },
  {
   "cell_type": "markdown",
   "id": "2fbda98c",
   "metadata": {},
   "source": [
    "### App layout and structure\n",
    "\n",
    "* Streamlit apps are built using Python scripts.\n",
    "* The layout is defined using Streamlit commands, which are executed from top to bottom.\n",
    "* Markdown, LaTeX, and other formatting can be used to style the app's content."
   ]
  },
  {
   "cell_type": "markdown",
   "id": "dedc9f54",
   "metadata": {},
   "source": [
    "### Displaying text and images\n",
    "\n",
    "* Use Streamlit commands to display text, such as st.write(), st.markdown(), st.header(), st.subheader(), and st.text().\n",
    "* To display images, use the st.image() function, which supports various formats like JPEG, PNG, and SVG. Example:"
   ]
  },
  {
   "cell_type": "code",
   "execution_count": null,
   "id": "9ce757cb",
   "metadata": {},
   "outputs": [],
   "source": [
    "import streamlit as st\n",
    "\n",
    "st.write(\"Displaying an image:\")\n",
    "st.image(\"path/to/image.png\", caption=\"Image caption\", use_column_width=True)\n"
   ]
  },
  {
   "cell_type": "markdown",
   "id": "744bc81b",
   "metadata": {},
   "source": [
    "### Adding interactivity with widgets\n",
    "\n",
    "* Streamlit provides various built-in widgets for user interaction, such as buttons, sliders, checkboxes, and more.\n",
    "* Widgets are added using functions like st.button(), st.slider(), st.checkbox(), etc.\n",
    "\n",
    "* Example of using widgets"
   ]
  },
  {
   "cell_type": "code",
   "execution_count": null,
   "id": "197f6d91",
   "metadata": {},
   "outputs": [],
   "source": [
    "import streamlit as st\n",
    "\n",
    "st.write(\"Choose a number:\")\n",
    "number = st.slider(\"Number\", min_value=1, max_value=100, value=50)\n",
    "st.write(f\"You chose: {number}\")\n",
    "\n",
    "if st.button(\"Click me!\"):\n",
    "    st.write(\"You clicked the button!\")\n"
   ]
  },
  {
   "cell_type": "markdown",
   "id": "6887ca29",
   "metadata": {},
   "source": [
    "## Streamlit widgets"
   ]
  },
  {
   "cell_type": "code",
   "execution_count": null,
   "id": "a0e20bd4",
   "metadata": {},
   "outputs": [],
   "source": [
    "* Buttons\n",
    "* Sliders\n",
    "* Checkboxes\n",
    "* Text Input\n",
    "* Text Area\n",
    "* Number Input\n",
    "* Date Input\n",
    "* Time Input\n",
    "* Selectbox\n",
    "* Multiselect\n",
    "* File Uploader\n",
    "* Download"
   ]
  },
  {
   "cell_type": "markdown",
   "id": "a0d54039",
   "metadata": {},
   "source": [
    "### Buttons\n",
    "\n",
    "*Buttons are used to trigger actions or events in your Streamlit app.\n",
    "\n",
    "\n",
    "Example:"
   ]
  },
  {
   "cell_type": "code",
   "execution_count": 5,
   "id": "6d5afdb2",
   "metadata": {},
   "outputs": [],
   "source": [
    "import streamlit as st\n",
    "\n",
    "if st.button(\"Click me\"):\n",
    "    st.write(\"Button clicked!\")\n"
   ]
  },
  {
   "cell_type": "markdown",
   "id": "6d27d1a4",
   "metadata": {},
   "source": [
    "### Sliders\n",
    "\n",
    "Sliders allow users to select a value within a specified range.\n"
   ]
  },
  {
   "cell_type": "code",
   "execution_count": null,
   "id": "5fc74924",
   "metadata": {},
   "outputs": [],
   "source": [
    "import streamlit as st\n",
    "\n",
    "slider_value = st.slider(\"Select a value:\", min_value=0, max_value=100, value=50)\n",
    "st.write(f\"Selected value: {slider_value}\")\n"
   ]
  },
  {
   "cell_type": "markdown",
   "id": "fe51b2ba",
   "metadata": {},
   "source": [
    "### Checkboxes\n",
    "\n",
    "Checkboxes enable users to toggle the display of content or modify settings.\n",
    "\n",
    "Example:"
   ]
  },
  {
   "cell_type": "code",
   "execution_count": null,
   "id": "fc46cee3",
   "metadata": {},
   "outputs": [],
   "source": [
    "import streamlit as st\n",
    "\n",
    "checkbox_value = st.checkbox(\"Show content\")\n",
    "if checkbox_value:\n",
    "    st.write(\"Content displayed.\")\n"
   ]
  },
  {
   "cell_type": "markdown",
   "id": "22a5aaa5",
   "metadata": {},
   "source": [
    "### Text Input\n",
    "\n",
    "To allow users to enter text, use the st.text_input() function.\n",
    "\n",
    "\n",
    "Example:"
   ]
  },
  {
   "cell_type": "code",
   "execution_count": null,
   "id": "9ea7b308",
   "metadata": {},
   "outputs": [],
   "source": [
    "import streamlit as st\n",
    "\n",
    "name = st.text_input(\"Enter your name:\", \"Type here\")\n",
    "st.write(f\"Hello, {name}!\")\n"
   ]
  },
  {
   "cell_type": "markdown",
   "id": "036613d5",
   "metadata": {},
   "source": [
    "### Text Area\n",
    "\n",
    "To allow users to enter multiline text, use the st.text_area() function.\n",
    "\n",
    "\n",
    "Example:"
   ]
  },
  {
   "cell_type": "code",
   "execution_count": null,
   "id": "1cb8b628",
   "metadata": {},
   "outputs": [],
   "source": [
    "import streamlit as st\n",
    "\n",
    "feedback = st.text_area(\"Your feedback:\", \"Type your feedback here\")\n",
    "st.write(f\"Thank you for your feedback: {feedback}\")\n"
   ]
  },
  {
   "cell_type": "markdown",
   "id": "47f7e7d2",
   "metadata": {},
   "source": [
    "### Number Input\n",
    "\n",
    "To allow users to enter a number, use the st.number_input() function.\n",
    "\n",
    "Example:"
   ]
  },
  {
   "cell_type": "code",
   "execution_count": null,
   "id": "8ec45f27",
   "metadata": {},
   "outputs": [],
   "source": [
    "import streamlit as st\n",
    "\n",
    "age = st.number_input(\"Enter your age:\", min_value=0, max_value=120, value=25, step=1)\n",
    "st.write(f\"Your age is: {age}\")\n"
   ]
  },
  {
   "cell_type": "markdown",
   "id": "1b463a4c",
   "metadata": {},
   "source": [
    "### Date Input\n",
    "\n",
    "To allow users to select a date, use the st.date_input() function.\n",
    "\n",
    "Example:"
   ]
  },
  {
   "cell_type": "code",
   "execution_count": null,
   "id": "adb884f5",
   "metadata": {},
   "outputs": [],
   "source": [
    "import streamlit as st\n",
    "\n",
    "date = st.date_input(\"Select a date:\", None)\n",
    "st.write(f\"Selected date is: {date}\")\n"
   ]
  },
  {
   "cell_type": "markdown",
   "id": "06f1f8f5",
   "metadata": {},
   "source": [
    "### Time Input\n",
    "\n",
    "To allow users to select a time, use the st.time_input() function.\n",
    "\n",
    "\n",
    "Example:"
   ]
  },
  {
   "cell_type": "code",
   "execution_count": null,
   "id": "9451c3d2",
   "metadata": {},
   "outputs": [],
   "source": [
    "import streamlit as st\n",
    "import datetime\n",
    "\n",
    "time = st.time_input(\"Select a time:\", datetime.time(12, 00))\n",
    "st.write(f\"Selected time is: {time}\")\n"
   ]
  },
  {
   "cell_type": "markdown",
   "id": "cf611d55",
   "metadata": {},
   "source": [
    "### Selectbox\n",
    "\n",
    "To allow users to select an option from a dropdown menu, use the st.selectbox() function.\n",
    "\n",
    "\n",
    "Example:"
   ]
  },
  {
   "cell_type": "code",
   "execution_count": null,
   "id": "4aa78212",
   "metadata": {},
   "outputs": [],
   "source": [
    "import streamlit as st\n",
    "\n",
    "options = [\"Option 1\", \"Option 2\", \"Option 3\"]\n",
    "choice = st.selectbox(\"Choose an option:\", options)\n",
    "st.write(f\"You chose: {choice}\")\n"
   ]
  },
  {
   "cell_type": "markdown",
   "id": "7717080c",
   "metadata": {},
   "source": [
    "### Multiselect\n",
    "\n",
    "To allow users to select multiple options, use the st.multiselect() function.\n",
    "\n",
    "\n",
    "Example:"
   ]
  },
  {
   "cell_type": "code",
   "execution_count": null,
   "id": "2507cb23",
   "metadata": {},
   "outputs": [],
   "source": [
    "import streamlit as st\n",
    "\n",
    "options = [\"Option 1\", \"Option 2\", \"Option 3\"]\n",
    "selections = st.multiselect(\"Choose multiple options:\", options)\n",
    "st.write(f\"You chose: {', '.join(selections)}\")\n"
   ]
  },
  {
   "cell_type": "markdown",
   "id": "ce636b0e",
   "metadata": {},
   "source": [
    "### Radio Button\n",
    "\n",
    "To allow users to select one option from a list, use the st.radio() function.\n",
    "\n",
    "Example:"
   ]
  },
  {
   "cell_type": "code",
   "execution_count": null,
   "id": "a87bfec8",
   "metadata": {},
   "outputs": [],
   "source": [
    "import streamlit as st\n",
    "\n",
    "options = [\"Option 1\", \"Option 2\", \"Option 3\"]\n",
    "choice = st.radio(\"Choose one option:\", options)\n",
    "st.write(f\"You chose: {choice}\")\n"
   ]
  },
  {
   "cell_type": "markdown",
   "id": "d002c3a8",
   "metadata": {},
   "source": [
    "### File Uploader\n",
    "\n",
    "To allow users to upload files, use the st.file_uploader() function.\n",
    "\n",
    "Example"
   ]
  },
  {
   "cell_type": "code",
   "execution_count": null,
   "id": "19d688b1",
   "metadata": {},
   "outputs": [],
   "source": [
    "import streamlit as st\n",
    "\n",
    "uploaded_file = st.file_uploader(\"Choose a file to upload:\", type=[\"csv\", \"txt\", \"xlsx\"])\n",
    "if uploaded_file is not None:\n",
    "    st.write(f\"File uploaded: {uploaded_file.name}\")\n"
   ]
  },
  {
   "cell_type": "markdown",
   "id": "dd592e2b",
   "metadata": {},
   "source": [
    "### Download\n",
    "\n",
    "The download functionality allows users to download data or files generated in your Streamlit app.\n",
    "\n",
    "\n",
    "Example (downloading a CSV file):"
   ]
  },
  {
   "cell_type": "code",
   "execution_count": null,
   "id": "138e9066",
   "metadata": {},
   "outputs": [],
   "source": [
    "import streamlit as st\n",
    "import pandas as pd\n",
    "import io\n",
    "\n",
    "# Create a sample DataFrame\n",
    "data = {'Column1': [1, 2, 3], 'Column2': [4, 5, 6]}\n",
    "df = pd.DataFrame(data)\n",
    "\n",
    "# Display the DataFrame\n",
    "st.dataframe(df)\n",
    "\n",
    "# Download the DataFrame as a CSV file\n",
    "\n",
    "# Create a StringIO object to hold the CSV data\n",
    "csv_buffer = io.StringIO()\n",
    "\n",
    "# Write the contents of the DataFrame to the StringIO object in CSV format\n",
    "# The index column is excluded from the output by passing index=False\n",
    "df.to_csv(csv_buffer, index=False)\n",
    "\n",
    "# Get the contents of the StringIO object as a string\n",
    "csv_data = csv_buffer.getvalue()\n",
    "\n",
    "st.download_button(\n",
    "    label=\"Download CSV\",\n",
    "    data=csv_data,\n",
    "    file_name=\"sample_data.csv\",\n",
    "    mime=\"text/csv\"\n",
    ")\n"
   ]
  },
  {
   "cell_type": "markdown",
   "id": "ebb08315",
   "metadata": {},
   "source": [
    "##  Basic Data Processing and Visualization"
   ]
  },
  {
   "cell_type": "markdown",
   "id": "d02fa95b",
   "metadata": {},
   "source": [
    "### Uploading data files (CSV, Excel, etc.)\n",
    "\n",
    "Use the st.file_uploader() function to upload data files.\n",
    "\n",
    "Example:"
   ]
  },
  {
   "cell_type": "code",
   "execution_count": null,
   "id": "ced2cca3",
   "metadata": {},
   "outputs": [],
   "source": [
    "import streamlit as st\n",
    "\n",
    "uploaded_file = st.file_uploader(\"Upload a CSV or Excel file:\", type=[\"csv\", \"xlsx\"])\n"
   ]
  },
  {
   "cell_type": "markdown",
   "id": "d15a98c0",
   "metadata": {},
   "source": [
    "### Data manipulation with Pandas\n",
    "\n",
    "Read and manipulate data using the Pandas library.\n",
    "\n",
    "\n",
    "Example of reading a CSV file:"
   ]
  },
  {
   "cell_type": "code",
   "execution_count": null,
   "id": "abe52407",
   "metadata": {},
   "outputs": [],
   "source": [
    "import pandas as pd\n",
    "\n",
    "if uploaded_file is not None:\n",
    "    df = pd.read_csv(uploaded_file)\n",
    "    st.write(\"Data:\")\n",
    "    st.dataframe(df)\n"
   ]
  },
  {
   "cell_type": "markdown",
   "id": "623196d4",
   "metadata": {},
   "source": [
    "### Data visualization with Matplotlib and Plotly\n",
    "\n",
    "Visualize data using the Matplotlib or Plotly libraries.\n",
    "\n",
    "\n",
    "Example of creating a bar chart with Matplotlib:"
   ]
  },
  {
   "cell_type": "code",
   "execution_count": null,
   "id": "a90275e5",
   "metadata": {},
   "outputs": [],
   "source": [
    "import matplotlib.pyplot as plt\n",
    "\n",
    "if uploaded_file is not None:\n",
    "    df = pd.read_csv(uploaded_file)\n",
    "    st.write(\"Data:\")\n",
    "    st.dataframe(df)\n",
    "\n",
    "    st.write(\"Bar chart:\")\n",
    "    plt.bar(df['Category'], df['Value'])\n",
    "    plt.xlabel('Category')\n",
    "    plt.ylabel('Value')\n",
    "    st.pyplot(plt)\n"
   ]
  },
  {
   "cell_type": "markdown",
   "id": "1ae59ecb",
   "metadata": {},
   "source": [
    "Example of creating an interactive scatter plot with Plotly:"
   ]
  },
  {
   "cell_type": "code",
   "execution_count": null,
   "id": "942a1d40",
   "metadata": {},
   "outputs": [],
   "source": [
    "import plotly.express as px\n",
    "\n",
    "if uploaded_file is not None:\n",
    "    df = pd.read_csv(uploaded_file)\n",
    "    st.write(\"Data:\")\n",
    "    st.dataframe(df)\n",
    "\n",
    "    st.write(\"Scatter plot:\")\n",
    "    fig = px.scatter(df, x='Feature1', y='Feature2', color='Category', hover_name='Label')\n",
    "    st.plotly_chart(fig)\n"
   ]
  },
  {
   "cell_type": "markdown",
   "id": "10588a49",
   "metadata": {},
   "source": [
    "## Streamlit Layout and Components\n"
   ]
  },
  {
   "cell_type": "markdown",
   "id": "eee48284",
   "metadata": {},
   "source": [
    "### Layout options\n",
    "\n",
    "#### Columns: \n",
    "\n",
    "Organize content into multiple columns using st.columns()."
   ]
  },
  {
   "cell_type": "code",
   "execution_count": 7,
   "id": "30b9ee64",
   "metadata": {},
   "outputs": [],
   "source": [
    "import streamlit as st\n",
    "\n",
    "col1, col2, col3 = st.columns(3)\n",
    "\n",
    "col1.write(\"Column 1\")\n",
    "col2.write(\"Column 2\")\n",
    "col3.write(\"Column 3\")\n"
   ]
  },
  {
   "cell_type": "markdown",
   "id": "2971b134",
   "metadata": {},
   "source": [
    "#### Sidebars: \n",
    "Add content to a sidebar using st.sidebar"
   ]
  },
  {
   "cell_type": "code",
   "execution_count": null,
   "id": "2bed20b3",
   "metadata": {},
   "outputs": [],
   "source": [
    "import streamlit as st\n",
    "\n",
    "st.write(\"Main content\")\n",
    "st.sidebar.write(\"Sidebar content\")\n"
   ]
  },
  {
   "cell_type": "markdown",
   "id": "f1f5633f",
   "metadata": {},
   "source": [
    "#### Expanders: \n",
    "\n",
    "Create collapsible sections using st.expander()."
   ]
  },
  {
   "cell_type": "code",
   "execution_count": 9,
   "id": "f5bbd935",
   "metadata": {},
   "outputs": [],
   "source": [
    "import streamlit as st\n",
    "\n",
    "with st.expander(\"Section 1\"):\n",
    "    st.write(\"Content for Section 1\")\n",
    "\n",
    "with st.expander(\"Section 2\"):\n",
    "    st.write(\"Content for Section 2\")\n"
   ]
  },
  {
   "cell_type": "markdown",
   "id": "719f49c3",
   "metadata": {},
   "source": [
    "### Basic Streamlit components"
   ]
  },
  {
   "cell_type": "markdown",
   "id": "793ef7df",
   "metadata": {},
   "source": [
    "#### Progress bars:\n",
    "    \n",
    "Display progress using st.progress()"
   ]
  },
  {
   "cell_type": "code",
   "execution_count": 11,
   "id": "287b5876",
   "metadata": {},
   "outputs": [],
   "source": [
    "import streamlit as st\n",
    "import time\n",
    "\n",
    "progress = st.progress(0)\n",
    "for i in range(100):\n",
    "    progress.progress(i + 1)\n",
    "    time.sleep(0.1)\n"
   ]
  },
  {
   "cell_type": "markdown",
   "id": "8c75a96a",
   "metadata": {},
   "source": [
    "#### Spinners: \n",
    "    \n",
    "Show a loading indicator while executing a time-consuming task using st.spinner()."
   ]
  },
  {
   "cell_type": "code",
   "execution_count": 12,
   "id": "4639ffd9",
   "metadata": {},
   "outputs": [],
   "source": [
    "import streamlit as st\n",
    "import time\n",
    "\n",
    "with st.spinner(\"Please wait...\"):\n",
    "    time.sleep(5)\n",
    "st.write(\"Task completed.\")\n"
   ]
  },
  {
   "cell_type": "markdown",
   "id": "dc221fd5",
   "metadata": {},
   "source": [
    "##  Simple Streamlit Project "
   ]
  },
  {
   "cell_type": "markdown",
   "id": "a39bb509",
   "metadata": {},
   "source": [
    "Streamlit  Building a data dashboard using Visual Studio Code (VSCode), follow these steps:\n",
    "\n",
    "* Install Visual Studio Code (VSCode) from https://code.visualstudio.com/ if you haven't already.\n",
    "\n",
    "* Open VSCode and create a new folder for your project. You can do this by clicking on \"File\" > \"Open Folder...\" and selecting the desired location.\n",
    "\n",
    "."
   ]
  },
  {
   "cell_type": "markdown",
   "id": "77c102c6",
   "metadata": {},
   "source": [
    "In this example, we'll create a simple data dashboard using Streamlit and a real dataset from Kaggle. The dataset contains information about video game sales, ratings, and platforms.\n",
    "\n",
    "* 1) Download the dataset from Kaggle: Video Game Sales: https://www.kaggle.com/gregorut/videogamesales\n",
    "            \n",
    "            \n",
    "* 2 Install necessary libraries, if not already installed:"
   ]
  },
  {
   "cell_type": "code",
   "execution_count": null,
   "id": "f27e435f",
   "metadata": {},
   "outputs": [],
   "source": [
    "pip install streamlit pandas plotly"
   ]
  },
  {
   "cell_type": "markdown",
   "id": "32eccfe4",
   "metadata": {},
   "source": [
    "* 3 Create a new Python file (e.g., data_dashboard.py) and add the following code:"
   ]
  },
  {
   "cell_type": "code",
   "execution_count": null,
   "id": "e849b869",
   "metadata": {},
   "outputs": [],
   "source": [
    "import streamlit as st\n",
    "import pandas as pd\n",
    "import plotly.express as px\n",
    "\n",
    "# Read the dataset\n",
    "@st.cache\n",
    "def load_data():\n",
    "    df = pd.read_csv(\"vgsales.csv\")\n",
    "    return df\n",
    "\n",
    "data = load_data()\n",
    "\n",
    "# Title and introduction\n",
    "st.title(\"Video Game Sales Dashboard\")\n",
    "st.write(\"Explore video game sales, ratings, and platforms using this interactive dashboard.\")\n",
    "\n",
    "# Display raw data\n",
    "if st.checkbox(\"Show raw data\"):\n",
    "    st.subheader(\"Raw Data\")\n",
    "    st.dataframe(data)\n",
    "\n",
    "# Filter data by platform\n",
    "platforms = data['Platform'].unique()\n",
    "platform_filter = st.multiselect(\"Select platforms:\", platforms, default=platforms)\n",
    "filtered_data = data[data['Platform'].isin(platform_filter)]\n",
    "\n",
    "# Bar chart for the top N games by global sales\n",
    "st.subheader(\"Top N Games by Global Sales\")\n",
    "top_n = st.number_input(\"Select the top N games:\", min_value=5, max_value=100, value=10, step=1)\n",
    "top_games = filtered_data.nlargest(top_n, \"Global_Sales\")\n",
    "fig = px.bar(top_games, x=\"Name\", y=\"Global_Sales\", color=\"Platform\", hover_name=\"Name\", text=\"Global_Sales\")\n",
    "st.plotly_chart(fig)\n",
    "\n",
    "# Pie chart for platform market share\n",
    "st.subheader(\"Platform Market Share\")\n",
    "platform_share = filtered_data.groupby(\"Platform\")[\"Global_Sales\"].sum().reset_index()\n",
    "fig2 = px.pie(platform_share, names=\"Platform\", values=\"Global_Sales\", title=\"Platform Market Share\")\n",
    "st.plotly_chart(fig2)\n",
    "\n",
    "# Scatter plot for Year vs. Global Sales\n",
    "st.subheader(\"Year vs. Global Sales\")\n",
    "fig3 = px.scatter(filtered_data, x=\"Year\", y=\"Global_Sales\", color=\"Platform\", hover_name=\"Name\", opacity=0.6)\n",
    "st.plotly_chart(fig3)\n"
   ]
  },
  {
   "cell_type": "markdown",
   "id": "e32c3cea",
   "metadata": {},
   "source": [
    "4 Save the file and run the Streamlit app by executing the following command in your terminal or command prompt:"
   ]
  },
  {
   "cell_type": "code",
   "execution_count": null,
   "id": "5263c764",
   "metadata": {},
   "outputs": [],
   "source": [
    "streamlit run data_dashboard.py\n"
   ]
  },
  {
   "cell_type": "markdown",
   "id": "a736e575",
   "metadata": {},
   "source": [
    "This code creates a simple data dashboard with three interactive visualizations (a bar chart, a pie chart, and a scatter plot) for exploring video game sales, ratings, and platforms. Users can filter the data by platform and select the top N games to display in the bar chart."
   ]
  },
  {
   "cell_type": "code",
   "execution_count": null,
   "id": "1e15b0db",
   "metadata": {},
   "outputs": [],
   "source": []
  },
  {
   "cell_type": "markdown",
   "id": "54bd2653",
   "metadata": {},
   "source": [
    "### Introduction to Streamlit Sharing\n",
    "\n",
    "* Streamlit Sharing is a platform that allows you to easily deploy, manage, and share your Streamlit apps with others.\n",
    "\n",
    "\n",
    "* provides a simple way to showcase your work and make your app accessible on the web.\n",
    "\n",
    "\n",
    "* You can deploy apps directly from a GitHub repository, and Streamlit Sharing will automatically handle the hosting, updates, and app management.\n",
    "\n",
    "\n",
    "* Streamlit Sharing offers free tier access for developers to deploy their apps, making it an attractive choice for deploying small projects and prototypes.\n",
    "\n",
    "### Deploying your app on Streamlit Sharing\n",
    "\n",
    "\n",
    "* Before deploying your app, make sure your Streamlit app and all necessary files (e.g., dataset files, requirements.txt) are in a GitHub repository.\n",
    "\n",
    "\n",
    "#### Follow these steps to deploy your app on Streamlit Sharing:\n",
    "\n",
    "* Sign up for Streamlit Sharing: Go to https://share.streamlit.io and sign up using your GitHub account. If you don't have a GitHub account, you'll need to create one first.\n",
    "\n",
    "\n",
    "        \n",
    "* Request an invitation: If you haven't already received an invitation to use Streamlit Sharing, request one on the Streamlit Sharing website. Once you receive an invitation, you'll be able to deploy your apps.\n",
    "\n",
    "    \n",
    "* Deploy your app: Click the \"New App\" button on your Streamlit Sharing dashboard. Select the GitHub repository containing your app, and choose the appropriate branch and file (usually \"main\" or \"master\" branch and your main app file, e.g., \"data_dashboard.py\").\n",
    "\n",
    "\n",
    "* Configure your app: If your app requires additional settings, such as environment variables or secrets, you can configure them in the \"Advanced settings\" section when deploying your app.\n",
    "\n",
    "    \n",
    "* Deploy: Click the \"Deploy\" button to start the deployment process. Streamlit Sharing will set up the environment, install any required packages from your \"requirements.txt\" file, and launch your app. The process may take a few minutes.\n",
    "\n",
    "\n",
    "* Share your app: Once your app is deployed, you'll be provided with a unique URL that you can share with others to access your app. You can also manage, update, or delete your app from the Streamlit Sharing dashboard."
   ]
  },
  {
   "cell_type": "markdown",
   "id": "055d7030",
   "metadata": {},
   "source": [
    "# Assigment "
   ]
  },
  {
   "cell_type": "markdown",
   "id": "94cb4067",
   "metadata": {},
   "source": [
    "#### Use the \"Iris Dataset\" to create an  Interactive Data Explorer using VSCode and Deploying to Streamlit Share:\n",
    " \n",
    "### Dataset \n",
    "You can download the Iris dataset as a CSV file from the following link:\n",
    "https://archive.ics.uci.edu/ml/machine-learning-databases/iris/iris.data\n",
    "\n",
    "### Set up your development environment:\n",
    "\n",
    "* Install Visual Studio Code (VSCode) from https://code.visualstudio.com/ if you haven't already.\n",
    "* Create a new folder for your project in VSCode.\n",
    "* In the Explorer pane, create a new Python file (e.g., data_explorer.py).\n",
    "\n",
    "### Design the app layout and components in data_explorer.py:\n",
    "* Display the raw data\n",
    "* Question 1: Show the average sepal length for each species\n",
    "* Question 2: Display a scatter plot comparing two features\n",
    "* Question 3: Filter data based on species\n",
    "* Question 4: Display a pairplot for the selected species\n",
    "* Question 5: Show the distribution of a selected feature\n",
    "\n",
    "### Add required packages to \"requirements.txt\":\n",
    "\n",
    "Create a new file called \"requirements.txt\" in the project folder.\n",
    "Add the necessary packages, such as Streamlit, Pandas, and any visualization libraries you're using (e.g., Plotly, Matplotlib, Altair).\n",
    "\n",
    "#### Automatically create requirements.txt\n",
    " pip freeze > requirements.txt  \n",
    "\n",
    "### Run the app locally in VSCode:\n",
    "\n",
    "* Open the integrated terminal in VSCode.\n",
    "* Install the required packages by running pip install -r requirements.txt.\n",
    "* Run the Streamlit app using streamlit run data_explorer.py.\n",
    "\n",
    "### Deploy the app to Streamlit Share:\n",
    "\n",
    "* Push your project to a GitHub repository, including the Python file, \"requirements.txt\", and any necessary data files.\n",
    "* Sign up for Streamlit Share (https://share.streamlit.io/) using your GitHub account.\n",
    "* Click the \"New App\" button and select the GitHub repository containing your app.\n",
    "* Choose the appropriate branch (usually \"main\" or \"master\") and specify the app file (e.g., \"data_explorer.py\").\n",
    "* Click \"Deploy\" to deploy your app. Streamlit Share will install the packages from \"requirements.txt\" and run your app.\n",
    "* Once your app is deployed, you'll receive a unique URL that you can share with the instructor.\n",
    "\n",
    "\n",
    "By following these steps, you can create an interactive data explorer app using VSCode and deploy it to Streamlit Share for others to access and use."
   ]
  },
  {
   "cell_type": "markdown",
   "id": "f446b164",
   "metadata": {},
   "source": [
    "# Solution"
   ]
  },
  {
   "cell_type": "code",
   "execution_count": null,
   "id": "701cfe41",
   "metadata": {},
   "outputs": [],
   "source": [
    "import streamlit as st\n",
    "import pandas as pd\n",
    "import plotly.express as px\n",
    "import seaborn as sns\n",
    "import matplotlib.pyplot as plt\n",
    "\n",
    "\n",
    "\n",
    "\n",
    "########## upload the dataset using uploader ###############\n",
    "# uploaded_file = st.file_uploader(\"Upload your dataset (CSV file):\")\n",
    "\n",
    "# if uploaded_file:\n",
    "#     column_names = [\"sepal_length\", \"sepal_width\", \"petal_length\", \"petal_width\", \"species\"]\n",
    "#     data = pd.read_csv(uploaded_file, header=None, names=column_names)\n",
    "#     st.write(\"### Raw Data\")\n",
    "#     st.dataframe(data)\n",
    "\n",
    "\n",
    "\n",
    "def load_iris_data():\n",
    "    url = \"https://archive.ics.uci.edu/ml/machine-learning-databases/iris/iris.data\"\n",
    "    column_names = [\"sepal_length\", \"sepal_width\", \"petal_length\", \"petal_width\", \"species\"]\n",
    "    data = pd.read_csv(url, header=None, names=column_names)\n",
    "    return data\n",
    "\n",
    "data = load_iris_data()\n",
    "\n",
    "st.title(\"Iris Dataset Explorer\")\n",
    "st.write(\"Explore the Iris dataset by answering the following questions:\")\n",
    "\n",
    "# Display the raw data\n",
    "if st.checkbox(\"Show raw data\"):\n",
    "    st.subheader(\"Raw Data\")\n",
    "    st.dataframe(data)\n",
    "\n",
    "# Question 1: Show the average sepal length for each species\n",
    "if st.checkbox(\"Show the average sepal length for each species\"):\n",
    "    st.subheader(\"Average Sepal Length per Species\")\n",
    "    avg_sepal_length = data.groupby(\"species\")[\"sepal_length\"].mean()\n",
    "    st.write(avg_sepal_length)\n",
    "\n",
    "# Question 2: Display a scatter plot comparing two features\n",
    "st.subheader(\"Compare two features using a scatter plot\")\n",
    "feature_1 = st.selectbox(\"Select the first feature:\", data.columns[:-1])\n",
    "feature_2 = st.selectbox(\"Select the second feature:\", data.columns[:-1])\n",
    "\n",
    "scatter_plot = px.scatter(data, x=feature_1, y=feature_2, color=\"species\", hover_name=\"species\")\n",
    "st.plotly_chart(scatter_plot)\n",
    "\n",
    "# Question 3: Filter data based on species\n",
    "st.subheader(\"Filter data based on species\")\n",
    "selected_species = st.multiselect(\"Select species to display:\", data[\"species\"].unique())\n",
    "\n",
    "if selected_species:\n",
    "    filtered_data = data[data[\"species\"].isin(selected_species)]\n",
    "    st.dataframe(filtered_data)\n",
    "else:\n",
    "    st.write(\"No species selected.\")\n",
    "\n",
    "# Question 4: Display a pairplot for the selected species\n",
    "if st.checkbox(\"Show pairplot for the selected species\"):\n",
    "    st.subheader(\"Pairplot for the Selected Species\")\n",
    "\n",
    "    if selected_species:\n",
    "        sns.pairplot(filtered_data, hue=\"species\")\n",
    "    else:\n",
    "        sns.pairplot(data, hue=\"species\")\n",
    "        \n",
    "    st.pyplot()\n",
    "\n",
    "# Question 5: Show the distribution of a selected feature\n",
    "st.subheader(\"Distribution of a Selected Feature\")\n",
    "selected_feature = st.selectbox(\"Select a feature to display its distribution:\", data.columns[:-1])\n",
    "\n",
    "hist_plot = px.histogram(data, x=selected_feature, color=\"species\", nbins=30, marginal=\"box\", hover_data=data.columns)\n",
    "st.plotly_chart(hist_plot)\n"
   ]
  }
 ],
 "metadata": {
  "kernelspec": {
   "display_name": "Python 3 (ipykernel)",
   "language": "python",
   "name": "python3"
  },
  "language_info": {
   "codemirror_mode": {
    "name": "ipython",
    "version": 3
   },
   "file_extension": ".py",
   "mimetype": "text/x-python",
   "name": "python",
   "nbconvert_exporter": "python",
   "pygments_lexer": "ipython3",
   "version": "3.9.13"
  }
 },
 "nbformat": 4,
 "nbformat_minor": 5
}

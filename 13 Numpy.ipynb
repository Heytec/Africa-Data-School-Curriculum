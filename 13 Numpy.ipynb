{
 "cells": [
  {
   "cell_type": "markdown",
   "id": "748339ee",
   "metadata": {},
   "source": [
    "# NumPy"
   ]
  },
  {
   "cell_type": "markdown",
   "id": "5246f6d9",
   "metadata": {},
   "source": [
    "## Table of content \n",
    "\n",
    "### 1 Introduction \n",
    "\n",
    "* What is NumPy and why is it useful?\n",
    "* Applications of NumPy in real-world scenarios\n",
    "* Comparison with Python built-in lists\n",
    "\n",
    "### 2 Installation and importing \n",
    "\n",
    "* Installing NumPy using pip\n",
    "* Importing NumPy as np\n",
    "\n",
    "### 3 NumPy arrays\n",
    "* Creating NumPy arrays (1D, 2D, and 3D)\n",
    "* Array attributes (shape, size, dtype)\n",
    "* Indexing and slicing arrays\n",
    "* Reshaping and flattening arrays\n",
    "\n",
    "### 4 Array operations \n",
    "\n",
    "* Arithmetic operations (addition, subtraction, multiplication, division)\n",
    "* Broadcasting\n",
    "* Element-wise operations (sqrt, log, sin, cos)\n",
    "* Matrix operations (dot product, cross product, transpose)\n",
    "\n",
    "### 5 Array manipulation \n",
    "\n",
    "* Concatenation and splitting\n",
    "* Stacking and unstacking\n",
    "* Inserting and deleting elements\n",
    "\n",
    "### 6 Statistical functions\n",
    "* Descriptive statistics (mean, median, mode, variance, standard deviation)\n",
    "* Basic operations on arrays (sum, max, min, argmax, argmin)\n",
    "\n",
    "### 7 Random number generation \n",
    "\n",
    "* Generating random numbers (uniform, normal, binomial distributions)\n",
    "* Setting a random seed\n",
    "* Random sampling\n",
    "\n",
    "### 8 Assigment \n",
    "\n",
    "\n"
   ]
  },
  {
   "cell_type": "markdown",
   "id": "5be9805c",
   "metadata": {},
   "source": [
    "## Introduction"
   ]
  },
  {
   "cell_type": "markdown",
   "id": "443872d6",
   "metadata": {},
   "source": [
    "### What is NumPy and why is it useful?\n",
    "\n",
    "NumPy, short for Numerical Python, is a powerful Python library for numerical computing. \n",
    "\n",
    "It provides support for multi-dimensional arrays and a large collection of mathematical functions to perform operations on these arrays.\n",
    "\n",
    "NumPy is the foundation for many other scientific and data analysis libraries in Python, such as SciPy, Pandas, and Scikit-learn.\n",
    "\n",
    "Some advantages of NumPy include:\n",
    "\n",
    "* Efficient array operations: NumPy uses optimized C code under the hood, which makes it much faster than Python's built-in lists for numerical operations.\n",
    "\n",
    "\n",
    "* Broadcasting: NumPy allows you to perform operations on arrays with different shapes and sizes, making your code more concise and easier to read.\n",
    "\n",
    "\n",
    "* Mathematical functions: NumPy provides a wide range of mathematical functions that can be applied element-wise on arrays, simplifying complex mathematical operations."
   ]
  },
  {
   "cell_type": "markdown",
   "id": "244d8c4a",
   "metadata": {},
   "source": [
    "### Applications of NumPy in real-world scenarios\n",
    "\n",
    " NumPy is widely used in various fields, including:\n",
    "\n",
    "* Data analysis: NumPy provides the foundation for data manipulation and analysis libraries like Pandas.\n",
    "\n",
    "    \n",
    "* Machine learning: Libraries such as Scikit-learn and TensorFlow use NumPy for their core operations.\n",
    "\n",
    "\n",
    "* Image processing: NumPy arrays can represent images, enabling efficient image manipulation and processing.\n",
    "\n",
    "\n",
    "* Scientific computing: NumPy is used in various scientific domains, such as physics, biology, and engineering, for numerical \n",
    "simulations and modeling.\n",
    "\n",
    "    \n",
    "* Finance: NumPy can be used for financial modeling, risk analysis, and portfolio optimization."
   ]
  },
  {
   "cell_type": "markdown",
   "id": "8f556151",
   "metadata": {},
   "source": [
    "### Comparison with Python built-in lists\n",
    "\n",
    "While Python built-in lists are flexible and easy to use, they have some limitations when it comes to numerical computing. Here are some key differences between NumPy arrays and Python lists:\n",
    "\n",
    "* Performance: NumPy arrays are more efficient and faster than Python lists for numerical operations due to their underlying C implementation and contiguous memory allocation.\n",
    "\n",
    "    \n",
    "* Array operations: NumPy arrays support element-wise operations and broadcasting, making it easier to perform complex mathematical operations on arrays.\n",
    "\n",
    "\n",
    "* Data types: Python lists can store elements of different data types, whereas NumPy arrays can only store elements of the same data type. This restriction allows NumPy arrays to be more memory-efficient and perform operations faster.\n",
    "\n",
    "\n",
    "* Multidimensional support: NumPy arrays natively support multi-dimensional data, whereas Python lists require nested lists to represent multi-dimensional data, which can be less efficient and harder to work with.\n",
    "\n",
    "\n",
    "    \n",
    "In conclusion, NumPy is a powerful and essential library for numerical computing in Python. It offers numerous advantages over Python's built-in lists, making it a popular choice for various scientific and data analysis applications."
   ]
  },
  {
   "cell_type": "markdown",
   "id": "b237d54c",
   "metadata": {},
   "source": [
    "## Installation and importing"
   ]
  },
  {
   "cell_type": "markdown",
   "id": "9e673d06",
   "metadata": {},
   "source": [
    "NB : If you are working with Jupyter Notebook or Google Colab, NumPy should already be installed."
   ]
  },
  {
   "cell_type": "markdown",
   "id": "9efd512f",
   "metadata": {},
   "source": [
    "### Installing NumPy using pip\n",
    "Before you can use NumPy, you need to install it. The easiest way to install NumPy is using pip, the Python package manager. To install NumPy, open your terminal (or command prompt on Windows) and type the following command:"
   ]
  },
  {
   "cell_type": "raw",
   "id": "b84ab8ed",
   "metadata": {},
   "source": [
    "pip install numpy"
   ]
  },
  {
   "cell_type": "markdown",
   "id": "0fe27806",
   "metadata": {},
   "source": [
    "This command will download and install the latest version of NumPy. If you're using a Python environment manager like conda, you can also install NumPy using the following command:"
   ]
  },
  {
   "cell_type": "markdown",
   "id": "7c3afb91",
   "metadata": {},
   "source": [
    "conda install numpy\n"
   ]
  },
  {
   "cell_type": "markdown",
   "id": "d779b003",
   "metadata": {},
   "source": [
    "### Importing NumPy as np\n",
    "\n",
    "Once you have installed NumPy, you can start using it in your Python script or notebook. It is a common convention to import NumPy with the alias np. To import NumPy, add the following line at the beginning of your script or notebook:"
   ]
  },
  {
   "cell_type": "code",
   "execution_count": 1,
   "id": "da30f49a",
   "metadata": {},
   "outputs": [],
   "source": [
    "import numpy as np\n"
   ]
  },
  {
   "cell_type": "markdown",
   "id": "1ba9dbd6",
   "metadata": {},
   "source": [
    "##  NumPy arrays"
   ]
  },
  {
   "cell_type": "markdown",
   "id": "5c5cc1ff",
   "metadata": {},
   "source": [
    "### Creating NumPy Arrays (1D, 2D, and 3D)\n",
    "\n",
    "NumPy arrays are the fundamental data structures used for numerical computing in Python. Let's create some 1D, 2D, and 3D arrays:"
   ]
  },
  {
   "cell_type": "markdown",
   "id": "349db158",
   "metadata": {},
   "source": [
    "1D array is also known as a vector or a one-dimensional vector.\n",
    "\n",
    "\n",
    "2D array is also known as a matrix or a two-dimensional matrix.\n",
    "\n",
    "\n",
    "3D array is also known as a tensor or a three-dimensional tensor."
   ]
  },
  {
   "cell_type": "markdown",
   "id": "cbb6f584",
   "metadata": {},
   "source": [
    "#### 1D array is also known as a vector or a one-dimensional vector."
   ]
  },
  {
   "cell_type": "code",
   "execution_count": 3,
   "id": "f5262762",
   "metadata": {},
   "outputs": [
    {
     "name": "stdout",
     "output_type": "stream",
     "text": [
      "1D array: [1 2 3 4 5]\n"
     ]
    }
   ],
   "source": [
    "import numpy as np\n",
    "\n",
    "# Creating a 1D array from a list\n",
    "array_1d = np.array([1, 2, 3, 4, 5])\n",
    "print(\"1D array:\", array_1d)\n"
   ]
  },
  {
   "cell_type": "markdown",
   "id": "ba3bb315",
   "metadata": {},
   "source": [
    "#### 2D array is also known as a matrix or a two-dimensional matrix."
   ]
  },
  {
   "cell_type": "code",
   "execution_count": 4,
   "id": "24efc3cc",
   "metadata": {},
   "outputs": [
    {
     "name": "stdout",
     "output_type": "stream",
     "text": [
      "2D array:\n",
      " [[1 2 3]\n",
      " [4 5 6]\n",
      " [7 8 9]]\n"
     ]
    }
   ],
   "source": [
    "# Creating a 2D array from a nested list\n",
    "array_2d = np.array([[1, 2, 3], [4, 5, 6], [7, 8, 9]])\n",
    "print(\"2D array:\\n\", array_2d)\n"
   ]
  },
  {
   "cell_type": "markdown",
   "id": "6855df91",
   "metadata": {},
   "source": [
    "#### 3D array is also known as a tensor or a three-dimensional tensor."
   ]
  },
  {
   "cell_type": "code",
   "execution_count": 5,
   "id": "fe0edbd1",
   "metadata": {},
   "outputs": [
    {
     "name": "stdout",
     "output_type": "stream",
     "text": [
      "3D array:\n",
      " [[[1 2]\n",
      "  [3 4]]\n",
      "\n",
      " [[5 6]\n",
      "  [7 8]]]\n"
     ]
    }
   ],
   "source": [
    "# Creating a 3D array from a nested list\n",
    "array_3d = np.array([[[1, 2], [3, 4]], [[5, 6], [7, 8]]])\n",
    "print(\"3D array:\\n\", array_3d)\n"
   ]
  },
  {
   "cell_type": "markdown",
   "id": "d4ed142d",
   "metadata": {},
   "source": [
    "### Array Attributes (shape, size, dtype)\n",
    "\n",
    "NumPy arrays have several useful attributes:\n",
    "\n",
    "* shape: the dimensions of the array\n",
    "    \n",
    "* size: the total number of elements in the array\n",
    "    \n",
    "* dtype: the data type of the elements in the array"
   ]
  },
  {
   "cell_type": "code",
   "execution_count": 6,
   "id": "9cf5b0e0",
   "metadata": {},
   "outputs": [
    {
     "name": "stdout",
     "output_type": "stream",
     "text": [
      "Shape: (3, 3)\n",
      "Size: 9\n",
      "Data type: int32\n"
     ]
    }
   ],
   "source": [
    "print(\"Shape:\", array_2d.shape)  # (3, 3)\n",
    "print(\"Size:\", array_2d.size)    # 9\n",
    "print(\"Data type:\", array_2d.dtype)  # int64 (or int32 on some systems)\n"
   ]
  },
  {
   "cell_type": "markdown",
   "id": "ea70fd55",
   "metadata": {},
   "source": [
    "### Indexing and Slicing Arrays\n",
    "\n",
    "You can access the elements of a NumPy array using indices, similar to Python lists:"
   ]
  },
  {
   "cell_type": "code",
   "execution_count": 9,
   "id": "91f41192",
   "metadata": {},
   "outputs": [
    {
     "name": "stdout",
     "output_type": "stream",
     "text": [
      "1D array: [1 2 3 4 5]\n",
      "1\n",
      "5\n",
      "[2 3 4]\n"
     ]
    }
   ],
   "source": [
    "# Creating a 1D array from a list\n",
    "array_1d = np.array([1, 2, 3, 4, 5])\n",
    "print(\"1D array:\", array_1d)\n",
    "\n",
    "\n",
    "# Indexing a 1D array\n",
    "print(array_1d[0])  # 1\n",
    "\n",
    "print(array_1d[-1]) # 5\n",
    "\n",
    "# Slicing a 1D array\n",
    "print(array_1d[1:4])  # [2 3 4]\n"
   ]
  },
  {
   "cell_type": "markdown",
   "id": "5a741ed5",
   "metadata": {},
   "source": [
    "For multi-dimensional arrays, use a comma-separated tuple of indices:"
   ]
  },
  {
   "cell_type": "code",
   "execution_count": 10,
   "id": "9f4fde93",
   "metadata": {},
   "outputs": [
    {
     "name": "stdout",
     "output_type": "stream",
     "text": [
      "2D array:\n",
      " [[1 2 3]\n",
      " [4 5 6]\n",
      " [7 8 9]]\n",
      "6\n",
      "[[2 3]\n",
      " [5 6]]\n"
     ]
    }
   ],
   "source": [
    "# Creating a 2D array from a nested list\n",
    "array_2d = np.array([[1, 2, 3], [4, 5, 6], [7, 8, 9]])\n",
    "print(\"2D array:\\n\", array_2d)\n",
    "\n",
    "# Indexing a 2D array\n",
    "print(array_2d[1, 2])  # 6\n",
    "\n",
    "# Slicing a 2D array\n",
    "print(array_2d[0:2, 1:])  # [[2 3]\n",
    "                          #  [5 6]]\n"
   ]
  },
  {
   "cell_type": "markdown",
   "id": "89a293a5",
   "metadata": {},
   "source": [
    "### Reshaping and Flattening Arrays\n",
    "You can change the shape of an array using the reshape method:\n",
    "\n",
    "\n"
   ]
  },
  {
   "cell_type": "code",
   "execution_count": 11,
   "id": "58a315fa",
   "metadata": {},
   "outputs": [
    {
     "name": "stdout",
     "output_type": "stream",
     "text": [
      "Reshaped array:\n",
      " [[1]\n",
      " [2]\n",
      " [3]\n",
      " [4]\n",
      " [5]]\n"
     ]
    }
   ],
   "source": [
    "# Reshaping a 1D array to a 2D array\n",
    "reshaped_array = array_1d.reshape(5, 1)\n",
    "print(\"Reshaped array:\\n\", reshaped_array)\n"
   ]
  },
  {
   "cell_type": "markdown",
   "id": "8ba9d687",
   "metadata": {},
   "source": [
    "To flatten an array, you can use the flatten method or the ravel function:"
   ]
  },
  {
   "cell_type": "code",
   "execution_count": 12,
   "id": "d2d3037a",
   "metadata": {},
   "outputs": [
    {
     "name": "stdout",
     "output_type": "stream",
     "text": [
      "Flattened array: [1 2 3 4 5 6 7 8 9]\n",
      "Flattened array using ravel: [1 2 3 4 5 6 7 8 9]\n"
     ]
    }
   ],
   "source": [
    "# Flattening a 2D array\n",
    "flattened_array = array_2d.flatten()\n",
    "print(\"Flattened array:\", flattened_array)\n",
    "\n",
    "# Alternatively, use the ravel function\n",
    "flattened_array = np.ravel(array_2d)\n",
    "print(\"Flattened array using ravel:\", flattened_array)\n"
   ]
  },
  {
   "cell_type": "markdown",
   "id": "7805ea4c",
   "metadata": {},
   "source": [
    "## Array operations "
   ]
  },
  {
   "cell_type": "markdown",
   "id": "7afd9fd1",
   "metadata": {},
   "source": [
    "### Arithmetic Operations\n",
    "\n",
    "Arithmetic operations in NumPy can be performed element-wise on arrays."
   ]
  },
  {
   "cell_type": "markdown",
   "id": "5c1521c9",
   "metadata": {},
   "source": [
    "#### Addition"
   ]
  },
  {
   "cell_type": "code",
   "execution_count": 14,
   "id": "55d19df9",
   "metadata": {},
   "outputs": [
    {
     "name": "stdout",
     "output_type": "stream",
     "text": [
      "Addition: [5 7 9]\n"
     ]
    }
   ],
   "source": [
    "import numpy as np\n",
    "\n",
    "a = np.array([1, 2, 3])\n",
    "b = np.array([4, 5, 6])\n",
    "\n",
    "addition = a + b\n",
    "print(\"Addition:\", addition)\n"
   ]
  },
  {
   "cell_type": "markdown",
   "id": "592948ff",
   "metadata": {},
   "source": [
    "#### Subtraction"
   ]
  },
  {
   "cell_type": "code",
   "execution_count": 15,
   "id": "13d43981",
   "metadata": {},
   "outputs": [
    {
     "name": "stdout",
     "output_type": "stream",
     "text": [
      "Subtraction: [-3 -3 -3]\n"
     ]
    }
   ],
   "source": [
    "subtraction = a - b\n",
    "print(\"Subtraction:\", subtraction)\n"
   ]
  },
  {
   "cell_type": "markdown",
   "id": "c7e9e46c",
   "metadata": {},
   "source": [
    "#### Multiplication"
   ]
  },
  {
   "cell_type": "code",
   "execution_count": 16,
   "id": "31bde9c5",
   "metadata": {},
   "outputs": [
    {
     "name": "stdout",
     "output_type": "stream",
     "text": [
      "Multiplication: [ 4 10 18]\n"
     ]
    }
   ],
   "source": [
    "multiplication = a * b\n",
    "print(\"Multiplication:\", multiplication)\n"
   ]
  },
  {
   "cell_type": "markdown",
   "id": "b8f89aba",
   "metadata": {},
   "source": [
    "#### Division"
   ]
  },
  {
   "cell_type": "code",
   "execution_count": 17,
   "id": "13fb297e",
   "metadata": {},
   "outputs": [
    {
     "name": "stdout",
     "output_type": "stream",
     "text": [
      "Division: [0.25 0.4  0.5 ]\n"
     ]
    }
   ],
   "source": [
    "division = a / b\n",
    "print(\"Division:\", division)\n"
   ]
  },
  {
   "cell_type": "markdown",
   "id": "5793d880",
   "metadata": {},
   "source": [
    "### Broadcasting\n",
    "Broadcasting allows you to perform arithmetic operations on arrays of different shapes, as long as they are compatible."
   ]
  },
  {
   "cell_type": "markdown",
   "id": "9acd71b3",
   "metadata": {},
   "source": [
    "#### Broadcasting Rules\n",
    "NumPy follows these broadcasting rules:\n",
    "\n",
    "* If the arrays have a different number of dimensions, the smaller shape is padded with ones on its left side.\n",
    "* If the shape of the arrays does not match in any dimension, NumPy tries to stretch the dimensions with size 1 to match the other array's size in that dimension.\n",
    "* If any dimension sizes still do not match, a broadcasting error is raised.\n"
   ]
  },
  {
   "cell_type": "code",
   "execution_count": 18,
   "id": "d3a00481",
   "metadata": {},
   "outputs": [
    {
     "name": "stdout",
     "output_type": "stream",
     "text": [
      "Broadcasted sum:\n",
      " [[ 2  2  4]\n",
      " [ 5  5  7]\n",
      " [ 8  8 10]]\n"
     ]
    }
   ],
   "source": [
    "c = np.array([[1, 2, 3], [4, 5, 6], [7, 8, 9]])\n",
    "d = np.array([1, 0, 1])\n",
    "\n",
    "broadcasted_sum = c + d\n",
    "print(\"Broadcasted sum:\\n\", broadcasted_sum)\n"
   ]
  },
  {
   "cell_type": "markdown",
   "id": "870d0754",
   "metadata": {},
   "source": [
    "### Element-wise Operations"
   ]
  },
  {
   "cell_type": "markdown",
   "id": "59ca198f",
   "metadata": {},
   "source": [
    "#### Square Root"
   ]
  },
  {
   "cell_type": "code",
   "execution_count": 19,
   "id": "1dcffd82",
   "metadata": {},
   "outputs": [
    {
     "name": "stdout",
     "output_type": "stream",
     "text": [
      "Square root: [1.         1.41421356 1.73205081]\n"
     ]
    }
   ],
   "source": [
    "sqrt_array = np.sqrt(a)\n",
    "print(\"Square root:\", sqrt_array)\n"
   ]
  },
  {
   "cell_type": "markdown",
   "id": "6d18e632",
   "metadata": {},
   "source": [
    "#### Logarithm"
   ]
  },
  {
   "cell_type": "code",
   "execution_count": 20,
   "id": "77038bdb",
   "metadata": {},
   "outputs": [
    {
     "name": "stdout",
     "output_type": "stream",
     "text": [
      "Natural logarithm: [0.         0.69314718 1.09861229]\n"
     ]
    }
   ],
   "source": [
    "log_array = np.log(a)\n",
    "print(\"Natural logarithm:\", log_array)\n"
   ]
  },
  {
   "cell_type": "markdown",
   "id": "40169a07",
   "metadata": {},
   "source": [
    "#### Sine"
   ]
  },
  {
   "cell_type": "code",
   "execution_count": 21,
   "id": "9f5199dc",
   "metadata": {},
   "outputs": [
    {
     "name": "stdout",
     "output_type": "stream",
     "text": [
      "Sine: [0.84147098 0.90929743 0.14112001]\n"
     ]
    }
   ],
   "source": [
    "sin_array = np.sin(a)\n",
    "print(\"Sine:\", sin_array)\n"
   ]
  },
  {
   "cell_type": "markdown",
   "id": "35768b37",
   "metadata": {},
   "source": [
    "####  Cosine"
   ]
  },
  {
   "cell_type": "code",
   "execution_count": 22,
   "id": "79b10a6d",
   "metadata": {},
   "outputs": [
    {
     "name": "stdout",
     "output_type": "stream",
     "text": [
      "Cosine: [ 0.54030231 -0.41614684 -0.9899925 ]\n"
     ]
    }
   ],
   "source": [
    "cos_array = np.cos(a)\n",
    "print(\"Cosine:\", cos_array)\n"
   ]
  },
  {
   "cell_type": "markdown",
   "id": "33766015",
   "metadata": {},
   "source": [
    "### Matrix Operations\n",
    "\n",
    "NumPy supports various matrix operations, such as dot product, cross product, and transpose."
   ]
  },
  {
   "cell_type": "markdown",
   "id": "fc1e5250",
   "metadata": {},
   "source": [
    "#### Dot Product:\n",
    "The dot product, also known as the scalar product, is a mathematical operation between two vectors that results in a scalar. It is computed by multiplying the corresponding components of the two vectors and summing up the products. T\n"
   ]
  },
  {
   "cell_type": "code",
   "execution_count": 23,
   "id": "3c913dcb",
   "metadata": {},
   "outputs": [
    {
     "name": "stdout",
     "output_type": "stream",
     "text": [
      "Dot product: 32\n"
     ]
    }
   ],
   "source": [
    "dot_product = np.dot(a, b)\n",
    "print(\"Dot product:\", dot_product)\n"
   ]
  },
  {
   "cell_type": "markdown",
   "id": "ce6a85ec",
   "metadata": {},
   "source": [
    "#### Cross Product:\n",
    "\n",
    "The cross product, also known as the vector product, is a mathematical operation between two vectors that results in a vector. It is computed by taking the determinant of a 3x3 matrix formed by the components of the two vectors and then creating a new vector with the resulting components."
   ]
  },
  {
   "cell_type": "code",
   "execution_count": 25,
   "id": "f5bbd3db",
   "metadata": {},
   "outputs": [
    {
     "name": "stdout",
     "output_type": "stream",
     "text": [
      "Cross product: [-3  6 -3]\n"
     ]
    }
   ],
   "source": [
    "cross_product = np.cross(a, b)\n",
    "print(\"Cross product:\", cross_product)\n"
   ]
  },
  {
   "cell_type": "markdown",
   "id": "613734e1",
   "metadata": {},
   "source": [
    "#### Transpose:\n",
    "\n",
    "The transpose of a matrix is a new matrix obtained by flipping the rows and columns of the original matrix. "
   ]
  },
  {
   "cell_type": "code",
   "execution_count": 26,
   "id": "6de38a2a",
   "metadata": {},
   "outputs": [
    {
     "name": "stdout",
     "output_type": "stream",
     "text": [
      "Transpose:\n",
      " [[1 4 7]\n",
      " [2 5 8]\n",
      " [3 6 9]]\n"
     ]
    }
   ],
   "source": [
    "matrix = np.array([[1, 2, 3], [4, 5, 6], [7, 8, 9]])\n",
    "\n",
    "transpose = matrix.T\n",
    "\n",
    "print(\"Transpose:\\n\", transpose)\n"
   ]
  },
  {
   "cell_type": "markdown",
   "id": "76457a34",
   "metadata": {},
   "source": [
    "## Concatenating and Splitting Arrays"
   ]
  },
  {
   "cell_type": "markdown",
   "id": "51bf8487",
   "metadata": {},
   "source": [
    "### Concatenating Arrays\n",
    "You can concatenate multiple arrays along a specific axis using np.concatenate:"
   ]
  },
  {
   "cell_type": "code",
   "execution_count": 27,
   "id": "50f6c16e",
   "metadata": {},
   "outputs": [
    {
     "name": "stdout",
     "output_type": "stream",
     "text": [
      "Concatenated rows:\n",
      " [[ 1  2  3]\n",
      " [ 4  5  6]\n",
      " [ 7  8  9]\n",
      " [10 11 12]]\n"
     ]
    }
   ],
   "source": [
    "import numpy as np\n",
    "\n",
    "array1 = np.array([[1, 2, 3], [4, 5, 6]])\n",
    "array2 = np.array([[7, 8, 9], [10, 11, 12]])\n",
    "\n",
    "# Concatenate along rows (axis=0)\n",
    "concatenated_rows = np.concatenate((array1, array2), axis=0)\n",
    "print(\"Concatenated rows:\\n\", concatenated_rows)\n"
   ]
  },
  {
   "cell_type": "markdown",
   "id": "2520f9d6",
   "metadata": {},
   "source": [
    "### Splitting Arrays\n",
    "\n",
    "You can split an array into multiple subarrays using np.split, np.hsplit, or np.vsplit:"
   ]
  },
  {
   "cell_type": "code",
   "execution_count": 28,
   "id": "ba6ec980",
   "metadata": {},
   "outputs": [
    {
     "name": "stdout",
     "output_type": "stream",
     "text": [
      "Split arrays: [array([[1, 2, 3],\n",
      "       [4, 5, 6]]), array([[ 7,  8,  9],\n",
      "       [10, 11, 12]])]\n",
      "Horizontal split: [array([[1],\n",
      "       [4]]), array([[2],\n",
      "       [5]]), array([[3],\n",
      "       [6]])]\n",
      "Vertical split: [array([[1, 2, 3]]), array([[4, 5, 6]])]\n"
     ]
    }
   ],
   "source": [
    "# Split the concatenated array into two equal parts\n",
    "split_arrays = np.split(concatenated_rows, 2, axis=0)\n",
    "print(\"Split arrays:\", split_arrays)\n",
    "\n",
    "# Horizontal split (equivalent to np.split with axis=1)\n",
    "hsplit_arrays = np.hsplit(array1, 3)\n",
    "print(\"Horizontal split:\", hsplit_arrays)\n",
    "\n",
    "# Vertical split (equivalent to np.split with axis=0)\n",
    "vsplit_arrays = np.vsplit(array1, 2)\n",
    "print(\"Vertical split:\", vsplit_arrays)\n"
   ]
  },
  {
   "cell_type": "markdown",
   "id": "03d3e4e0",
   "metadata": {},
   "source": [
    "### Stacking and Unstacking Arrays"
   ]
  },
  {
   "cell_type": "markdown",
   "id": "0e7120a6",
   "metadata": {},
   "source": [
    "#### Stacking Arrays\n",
    "You can stack arrays vertically using np.vstack or horizontally using np.hstack:"
   ]
  },
  {
   "cell_type": "code",
   "execution_count": 29,
   "id": "269da746",
   "metadata": {},
   "outputs": [
    {
     "name": "stdout",
     "output_type": "stream",
     "text": [
      "Vertical stacking:\n",
      " [[ 1  2  3]\n",
      " [ 4  5  6]\n",
      " [ 7  8  9]\n",
      " [10 11 12]]\n",
      "Horizontal stacking:\n",
      " [[ 1  4  7 10]\n",
      " [ 2  5  8 11]\n",
      " [ 3  6  9 12]]\n"
     ]
    }
   ],
   "source": [
    "# Vertical stacking\n",
    "vstacked = np.vstack((array1, array2))\n",
    "print(\"Vertical stacking:\\n\", vstacked)\n",
    "\n",
    "# Horizontal stacking\n",
    "array3 = np.array([[1, 4], [2, 5], [3, 6]])\n",
    "array4 = np.array([[7, 10], [8, 11], [9, 12]])\n",
    "hstacked = np.hstack((array3, array4))\n",
    "print(\"Horizontal stacking:\\n\", hstacked)\n"
   ]
  },
  {
   "cell_type": "markdown",
   "id": "e8af7e16",
   "metadata": {},
   "source": [
    "### Inserting and Deleting Elements\n",
    "#### Inserting Elements\n",
    "You can insert elements into an array using np.insert:"
   ]
  },
  {
   "cell_type": "code",
   "execution_count": 32,
   "id": "b72a12c2",
   "metadata": {},
   "outputs": [
    {
     "name": "stdout",
     "output_type": "stream",
     "text": [
      "Inserted elements: [ 1  2 10 20 30  3  4  5]\n"
     ]
    }
   ],
   "source": [
    "array = np.array([1, 2, 3, 4, 5])\n",
    "inserted = np.insert(array, 2, [10, 20, 30])\n",
    "print(\"Inserted elements:\", inserted)  # [ 1  2 10 20 30  3  4  5]\n"
   ]
  },
  {
   "cell_type": "markdown",
   "id": "2f9e77bd",
   "metadata": {},
   "source": [
    "#### Deleting Elements\n",
    "You can delete elements from an array using np.delete:"
   ]
  },
  {
   "cell_type": "code",
   "execution_count": 34,
   "id": "34e07828",
   "metadata": {},
   "outputs": [
    {
     "name": "stdout",
     "output_type": "stream",
     "text": [
      "Deleted elements: [1 4 5]\n"
     ]
    }
   ],
   "source": [
    "deleted = np.delete(array, [1, 2])\n",
    "print(\"Deleted elements:\", deleted)  # [1 3 5]\n"
   ]
  },
  {
   "cell_type": "markdown",
   "id": "9739ff5f",
   "metadata": {},
   "source": [
    "## Statistical functions "
   ]
  },
  {
   "cell_type": "markdown",
   "id": "0a23666e",
   "metadata": {},
   "source": [
    "### Descriptive Statistics (Mean, Median, Mode, Variance, Standard Deviation)\n",
    "\n",
    "NumPy provides several functions for computing basic descriptive statistics on arrays."
   ]
  },
  {
   "cell_type": "code",
   "execution_count": 36,
   "id": "c559ef79",
   "metadata": {},
   "outputs": [],
   "source": [
    "import numpy as np\n",
    "\n",
    "data = np.array([4, 5, 1, 2, 7, 2, 6, 3, 5, 2])\n"
   ]
  },
  {
   "cell_type": "markdown",
   "id": "bc04fec2",
   "metadata": {},
   "source": [
    "#### Mean\n",
    "\n",
    "The mean is the average value of a set of data. It is calculated by adding up all the values in the set and dividing by the total number of values. The mean is sensitive to extreme values and outliers."
   ]
  },
  {
   "cell_type": "code",
   "execution_count": 42,
   "id": "4c324702",
   "metadata": {},
   "outputs": [
    {
     "name": "stdout",
     "output_type": "stream",
     "text": [
      "Mean: 3.7\n"
     ]
    }
   ],
   "source": [
    "mean = np.mean(data)\n",
    "print(\"Mean:\", mean)  # 3.7\n"
   ]
  },
  {
   "cell_type": "markdown",
   "id": "a2468af4",
   "metadata": {},
   "source": [
    "#### Median\n",
    "The median is the middle value in a set of data when the data is arranged in order from least to greatest. If there is an even number of values in the set, the median is the average of the two middle values. The median is not sensitive to extreme values and outliers."
   ]
  },
  {
   "cell_type": "code",
   "execution_count": 43,
   "id": "1c151d32",
   "metadata": {},
   "outputs": [
    {
     "name": "stdout",
     "output_type": "stream",
     "text": [
      "Median: 3.5\n"
     ]
    }
   ],
   "source": [
    "median = np.median(data)\n",
    "print(\"Median:\", median)  # 3.5\n"
   ]
  },
  {
   "cell_type": "markdown",
   "id": "2bcf91e6",
   "metadata": {},
   "source": [
    "#### Mode\n",
    "\n",
    "The mode is the value that occurs most frequently in a set of data. A set of data can have more than one mode, or it can have no mode if no value occurs more than once.\n",
    "\n",
    "\n",
    "While NumPy does not have a built-in function for calculating the mode, you can use the scipy.stats module:"
   ]
  },
  {
   "cell_type": "code",
   "execution_count": 44,
   "id": "98dbda16",
   "metadata": {},
   "outputs": [
    {
     "name": "stdout",
     "output_type": "stream",
     "text": [
      "Mode: 2 Frequency: 3\n"
     ]
    },
    {
     "name": "stderr",
     "output_type": "stream",
     "text": [
      "C:\\Users\\John\\AppData\\Local\\Temp\\ipykernel_16272\\2048821873.py:3: FutureWarning: Unlike other reduction functions (e.g. `skew`, `kurtosis`), the default behavior of `mode` typically preserves the axis it acts along. In SciPy 1.11.0, this behavior will change: the default value of `keepdims` will become False, the `axis` over which the statistic is taken will be eliminated, and the value None will no longer be accepted. Set `keepdims` to True or False to avoid this warning.\n",
      "  mode = stats.mode(data)\n"
     ]
    }
   ],
   "source": [
    "from scipy import stats\n",
    "\n",
    "mode = stats.mode(data)\n",
    "print(\"Mode:\", mode.mode[0], \"Frequency:\", mode.count[0])  # Mode: 2 Frequency: 3\n"
   ]
  },
  {
   "cell_type": "markdown",
   "id": "dbf97f44",
   "metadata": {},
   "source": [
    "#### Variance,\n",
    "\n",
    "The variance measures the spread or variability of a set of data. It is calculated by finding the average of the squared differences between each value and the mean. A high variance indicates that the data is spread out, while a low variance indicates that the data is clustered closely around the mean.\n"
   ]
  },
  {
   "cell_type": "code",
   "execution_count": 45,
   "id": "563b8d18",
   "metadata": {},
   "outputs": [
    {
     "name": "stdout",
     "output_type": "stream",
     "text": [
      "Variance: 3.6100000000000003\n"
     ]
    }
   ],
   "source": [
    "variance = np.var(data)\n",
    "print(\"Variance:\", variance)  # 3.61\n"
   ]
  },
  {
   "cell_type": "markdown",
   "id": "90ce8b2c",
   "metadata": {},
   "source": [
    "####  Standard Deviation\n",
    "\n",
    "The standard deviation is another measure of the spread or variability of a set of data. It is the square root of the variance. A high standard deviation indicates that the data is more spread out, while a low standard deviation indicates that the data is clustered closely around the mean.\n"
   ]
  },
  {
   "cell_type": "code",
   "execution_count": 46,
   "id": "a4eba8d2",
   "metadata": {},
   "outputs": [
    {
     "name": "stdout",
     "output_type": "stream",
     "text": [
      "Standard Deviation: 1.9000000000000001\n"
     ]
    }
   ],
   "source": [
    "std_dev = np.std(data)\n",
    "print(\"Standard Deviation:\", std_dev)  # 1.9\n"
   ]
  },
  {
   "cell_type": "markdown",
   "id": "2bf35f9d",
   "metadata": {},
   "source": [
    "### Basic Operations on Arrays (sum, max, min, argmax, argmin)"
   ]
  },
  {
   "cell_type": "markdown",
   "id": "e7225844",
   "metadata": {},
   "source": [
    "#### sum\n",
    "\n",
    "The sum of an array is the total of all its elements. This is calculated by adding up all the elements in the array."
   ]
  },
  {
   "cell_type": "code",
   "execution_count": 47,
   "id": "88b53e62",
   "metadata": {},
   "outputs": [
    {
     "name": "stdout",
     "output_type": "stream",
     "text": [
      "Sum: 37\n"
     ]
    }
   ],
   "source": [
    "array_sum = np.sum(data)\n",
    "print(\"Sum:\", array_sum)  # 37\n"
   ]
  },
  {
   "cell_type": "markdown",
   "id": "ddce3aa1",
   "metadata": {},
   "source": [
    "#### max\n",
    "\n",
    "The max of an array is the largest value in the array. This is calculated by finding the highest value among all the elements in the array."
   ]
  },
  {
   "cell_type": "code",
   "execution_count": 48,
   "id": "6de8befa",
   "metadata": {},
   "outputs": [
    {
     "name": "stdout",
     "output_type": "stream",
     "text": [
      "Max: 7\n"
     ]
    }
   ],
   "source": [
    "array_max = np.max(data)\n",
    "print(\"Max:\", array_max)  # 7\n"
   ]
  },
  {
   "cell_type": "markdown",
   "id": "0d9c721a",
   "metadata": {},
   "source": [
    "#### min\n",
    "\n",
    "The min of an array is the smallest value in the array. This is calculated by finding the lowest value among all the elements in the array."
   ]
  },
  {
   "cell_type": "code",
   "execution_count": 49,
   "id": "435f4b7c",
   "metadata": {},
   "outputs": [
    {
     "name": "stdout",
     "output_type": "stream",
     "text": [
      "Min: 1\n"
     ]
    }
   ],
   "source": [
    "array_min = np.min(data)\n",
    "print(\"Min:\", array_min)  # 1\n"
   ]
  },
  {
   "cell_type": "markdown",
   "id": "c45b82f2",
   "metadata": {},
   "source": [
    "#### argmax\n",
    "\n",
    "The argmax of an array is the index of the element with the highest value in the array. This is useful when you need to find the position of the maximum value in an array"
   ]
  },
  {
   "cell_type": "code",
   "execution_count": 50,
   "id": "b77c788e",
   "metadata": {},
   "outputs": [
    {
     "name": "stdout",
     "output_type": "stream",
     "text": [
      "Argmax: 4\n"
     ]
    }
   ],
   "source": [
    "array_argmax = np.argmax(data)\n",
    "print(\"Argmax:\", array_argmax)  # 4 (index of the maximum value)\n"
   ]
  },
  {
   "cell_type": "markdown",
   "id": "910095ce",
   "metadata": {},
   "source": [
    "#### argmin\n",
    "\n",
    "The argmin of an array is the index of the element with the lowest value in the array. This is useful when you need to find the position of the minimum value in an array."
   ]
  },
  {
   "cell_type": "code",
   "execution_count": 51,
   "id": "862c45bd",
   "metadata": {},
   "outputs": [
    {
     "name": "stdout",
     "output_type": "stream",
     "text": [
      "Argmin: 2\n"
     ]
    }
   ],
   "source": [
    "array_argmin = np.argmin(data)\n",
    "print(\"Argmin:\", array_argmin)  # 2 (index of the minimum value)\n"
   ]
  },
  {
   "cell_type": "markdown",
   "id": "5ed2429b",
   "metadata": {},
   "source": [
    "##  Random number generation "
   ]
  },
  {
   "cell_type": "markdown",
   "id": "55fbe98b",
   "metadata": {},
   "source": [
    "### Generating random numbers (uniform, normal, binomial distributions)"
   ]
  },
  {
   "cell_type": "markdown",
   "id": "a80b8941",
   "metadata": {},
   "source": [
    "NumPy provides a random module for generating random numbers from various probability distributions.\n",
    "\n",
    "#### Uniform Distribution\n",
    "\n",
    "To generate random numbers from a uniform distribution, use np.random.rand for values between 0 and 1, or np.random.uniform for a custom range:"
   ]
  },
  {
   "cell_type": "code",
   "execution_count": 52,
   "id": "ae35d5ef",
   "metadata": {},
   "outputs": [
    {
     "name": "stdout",
     "output_type": "stream",
     "text": [
      "Uniform random number: 0.32941327240975127\n",
      "Uniform random array: [0.02959948 0.2213208  0.45456477 0.49110147 0.3578427 ]\n",
      "Custom uniform random array: [8.64902108 5.26314412 5.06969645 8.31049514 7.38806587]\n"
     ]
    }
   ],
   "source": [
    "import numpy as np\n",
    "\n",
    "# Generate a single random number between 0 and 1\n",
    "uniform_random = np.random.rand()\n",
    "print(\"Uniform random number:\", uniform_random)\n",
    "\n",
    "# Generate an array of random numbers from a uniform distribution\n",
    "uniform_array = np.random.rand(5)\n",
    "print(\"Uniform random array:\", uniform_array)\n",
    "\n",
    "# Generate random numbers between a custom range\n",
    "custom_uniform_array = np.random.uniform(5, 10, size=5)\n",
    "print(\"Custom uniform random array:\", custom_uniform_array)\n"
   ]
  },
  {
   "cell_type": "markdown",
   "id": "25a36cc5",
   "metadata": {},
   "source": [
    "#### Normal Distribution\n",
    "To generate random numbers from a normal distribution, use np.random.randn for a standard normal distribution (mean 0, standard deviation 1), or np.random.normal for a custom distribution:"
   ]
  },
  {
   "cell_type": "code",
   "execution_count": 54,
   "id": "7d733134",
   "metadata": {},
   "outputs": [
    {
     "name": "stdout",
     "output_type": "stream",
     "text": [
      "Normal random number: 1.314997099478541\n",
      "Normal random array: [-0.95727423  0.74239927  0.83080033 -0.64724782  0.01144382]\n",
      "Custom normal random array: [9.28539906 7.43227066 5.67089528 3.93418276 7.94359399]\n"
     ]
    }
   ],
   "source": [
    "# Generate a single random number from a standard normal distribution\n",
    "normal_random = np.random.randn()\n",
    "print(\"Normal random number:\", normal_random)\n",
    "\n",
    "# Generate an array of random numbers from a standard normal distribution\n",
    "normal_array = np.random.randn(5)\n",
    "print(\"Normal random array:\", normal_array)\n",
    "\n",
    "# Generate random numbers from a custom normal distribution (mean 5, standard deviation 2)\n",
    "custom_normal_array = np.random.normal(5, 2, size=5)\n",
    "print(\"Custom normal random array:\", custom_normal_array)\n"
   ]
  },
  {
   "cell_type": "markdown",
   "id": "1a3470da",
   "metadata": {},
   "source": [
    "### Setting a Random Seed"
   ]
  },
  {
   "cell_type": "markdown",
   "id": "6418fb7f",
   "metadata": {},
   "source": [
    "To obtain reproducible results, set a random seed using np.random.seed:\n",
    " \n"
   ]
  },
  {
   "cell_type": "code",
   "execution_count": 55,
   "id": "a2e73cf2",
   "metadata": {},
   "outputs": [
    {
     "name": "stdout",
     "output_type": "stream",
     "text": [
      "Random array with seed 42: [0.37454012 0.95071431 0.73199394 0.59865848 0.15601864]\n"
     ]
    }
   ],
   "source": [
    "np.random.seed(42)\n",
    "\n",
    "random_array = np.random.rand(5)\n",
    "print(\"Random array with seed 42:\", random_array)\n"
   ]
  },
  {
   "cell_type": "markdown",
   "id": "1cfc0f14",
   "metadata": {},
   "source": [
    "### Random Sampling\n",
    "To randomly sample elements from an array, use np.random.choice:"
   ]
  },
  {
   "cell_type": "code",
   "execution_count": 56,
   "id": "b4836a25",
   "metadata": {},
   "outputs": [
    {
     "name": "stdout",
     "output_type": "stream",
     "text": [
      "Sample without replacement: [1 2 6 4 5]\n",
      "Sample with replacement: [5 2 8 6 2]\n"
     ]
    }
   ],
   "source": [
    "data = np.array([1, 2, 3, 4, 5, 6, 7, 8, 9])\n",
    "\n",
    "# Sample 5 elements without replacement\n",
    "sample_no_replacement = np.random.choice(data, 5, replace=False)\n",
    "print(\"Sample without replacement:\", sample_no_replacement)\n",
    "\n",
    "# Sample 5 elements with replacement\n",
    "sample_with_replacement = np.random.choice(data, 5, replace=True)\n",
    "print(\"Sample with replacement:\", sample_with_replacement)\n"
   ]
  },
  {
   "cell_type": "markdown",
   "id": "3bb4a319",
   "metadata": {},
   "source": [
    "## Recap of Covered Topics\n",
    "\n",
    "\n",
    "In this curriculum, we've introduced you to the following NumPy topics:\n",
    "\n",
    "Introduction to NumPy\n",
    "\n",
    "\n",
    "Installation and importing\n",
    "\n",
    "\n",
    "NumPy arrays\n",
    "\n",
    "\n",
    "Basic array operations\n",
    "\n",
    "\n",
    "Array manipulation\n",
    "\n",
    "\n",
    "Basic statistical functions\n",
    "\n",
    "\n",
    "Random number generation\n",
    "\n",
    "\n",
    "Throughout these topics, you've learned about creating and manipulating arrays, performing arithmetic and element-wise operations, computing descriptive statistics, and generating random numbers."
   ]
  },
  {
   "cell_type": "markdown",
   "id": "1b299e64",
   "metadata": {},
   "source": [
    "# NumPy Assignment"
   ]
  },
  {
   "cell_type": "markdown",
   "id": "3a810f14",
   "metadata": {},
   "source": [
    "### Title: NumPy Assignment\n",
    "\n",
    "In this assignment, you'll practice using NumPy to solve a problem. You have been given a dataset that represents the height (in centimeters) of 10 students in a class.\n",
    "\n",
    "\n",
    "\n",
    "Dataset:"
   ]
  },
  {
   "cell_type": "code",
   "execution_count": 57,
   "id": "c3cbf705",
   "metadata": {},
   "outputs": [],
   "source": [
    " heights = np.array([160, 155, 172, 165, 180, 158, 175, 163, 171, 168])"
   ]
  },
  {
   "cell_type": "markdown",
   "id": "ed374065",
   "metadata": {},
   "source": [
    "Your task is to:\n",
    "\n",
    "* Calculate the mean, median, and standard deviation of the students' heights.\n",
    "\n",
    "\n",
    "* Create a new array with the heights normalized, i.e., each height value should be transformed to have a mean of 0 and a standard deviation of 1.\n",
    "\n",
    "\n",
    "* Determine the tallest and shortest students in the class using NumPy's argmax and argmin functions.\n",
    "\n",
    "\n",
    "* Calculate the difference between the tallest and shortest students' heights.\n",
    "\n",
    "\n",
    "* Randomly select 5 heights from the dataset without replacement.\n",
    "\n",
    "\n",
    "Complete the assignment by writing Python code using NumPy. Remember to first import NumPy and use its functions to perform the required calculations. Good luck!\n",
    "\n",
    "Note: The purpose of this assignment is to test your understanding of NumPy concepts covered in this curriculum. Try to complete the assignment without referring back to the curriculum, but if you get stuck, feel free to review the topics and examples provided."
   ]
  },
  {
   "cell_type": "markdown",
   "id": "15cd78e9",
   "metadata": {},
   "source": [
    "# Solution "
   ]
  },
  {
   "cell_type": "code",
   "execution_count": 58,
   "id": "4492e188",
   "metadata": {},
   "outputs": [
    {
     "name": "stdout",
     "output_type": "stream",
     "text": [
      "Mean: 166.70, Median: 166.5, Standard Deviation: 7.54\n",
      "Normalized Heights: [-0.88891945 -1.55229217  0.70317509 -0.22554673  1.76457144 -1.15426854\n",
      "  1.10119872 -0.49089581  0.57050054  0.17247691]\n",
      "Tallest student index: 4, Shortest student index: 1\n",
      "Height difference: 25 cm\n",
      "Randomly selected heights: [171 155 158 160 163]\n"
     ]
    }
   ],
   "source": [
    "import numpy as np\n",
    "\n",
    "# Dataset\n",
    "heights = np.array([160, 155, 172, 165, 180, 158, 175, 163, 171, 168])\n",
    "\n",
    "# 1. Calculate the mean, median, and standard deviation of the students' heights\n",
    "mean_heights = np.mean(heights)\n",
    "median_heights = np.median(heights)\n",
    "std_dev_heights = np.std(heights)\n",
    "\n",
    "print(f\"Mean: {mean_heights:.2f}, Median: {median_heights}, Standard Deviation: {std_dev_heights:.2f}\")\n",
    "\n",
    "# 2. Create a new array with the heights normalized\n",
    "normalized_heights = (heights - mean_heights) / std_dev_heights\n",
    "print(\"Normalized Heights:\", normalized_heights)\n",
    "\n",
    "# 3. Determine the tallest and shortest students in the class\n",
    "tallest_student_idx = np.argmax(heights)\n",
    "shortest_student_idx = np.argmin(heights)\n",
    "print(f\"Tallest student index: {tallest_student_idx}, Shortest student index: {shortest_student_idx}\")\n",
    "\n",
    "# 4. Calculate the difference between the tallest and shortest students' heights\n",
    "height_diff = heights[tallest_student_idx] - heights[shortest_student_idx]\n",
    "print(f\"Height difference: {height_diff} cm\")\n",
    "\n",
    "# 5. Randomly select 5 heights from the dataset without replacement\n",
    "np.random.seed(42)  # Optional: for reproducibility\n",
    "random_selection = np.random.choice(heights, size=5, replace=False)\n",
    "print(\"Randomly selected heights:\", random_selection)\n"
   ]
  },
  {
   "cell_type": "code",
   "execution_count": null,
   "id": "f06c46a3",
   "metadata": {},
   "outputs": [],
   "source": []
  }
 ],
 "metadata": {
  "kernelspec": {
   "display_name": "Python 3 (ipykernel)",
   "language": "python",
   "name": "python3"
  },
  "language_info": {
   "codemirror_mode": {
    "name": "ipython",
    "version": 3
   },
   "file_extension": ".py",
   "mimetype": "text/x-python",
   "name": "python",
   "nbconvert_exporter": "python",
   "pygments_lexer": "ipython3",
   "version": "3.9.13"
  }
 },
 "nbformat": 4,
 "nbformat_minor": 5
}

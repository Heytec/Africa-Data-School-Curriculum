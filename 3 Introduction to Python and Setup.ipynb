{
 "cells": [
  {
   "cell_type": "markdown",
   "id": "5122484d",
   "metadata": {},
   "source": [
    "# Introduction to Python and Setup"
   ]
  },
  {
   "cell_type": "markdown",
   "id": "5064bc2d",
   "metadata": {},
   "source": [
    "### Table of Contents\n",
    "\n",
    "---\n",
    "***\n",
    "___\n",
    "\n",
    "1 Introduction to Python\n",
    "   * A brief history of Python\n",
    "   * Python is popular\n",
    "   * Python applications and use cases\n",
    "   \n",
    "   \n",
    "2 Installing Python\n",
    "   * Downloading and installing Python\n",
    "   * Setting up the Python environment\n",
    "   \n",
    "3 Getting Started with Replit Python \n",
    "   * Running Python code in the REPL\n",
    "   \n",
    "4 Writing and running your first Python script\n",
    "\n",
    "5 Assignment  Lab or Practical Work \n"
   ]
  },
  {
   "cell_type": "markdown",
   "id": "34db871c",
   "metadata": {},
   "source": [
    "## Introduction to Python"
   ]
  },
  {
   "cell_type": "markdown",
   "id": "4368ce0e",
   "metadata": {},
   "source": [
    "Python is a popular high-level programming language that is widely used for web development, scientific computing, data analysis, artificial intelligence, and more. It was first released in 1991 by Guido van Rossum and has since grown into a powerful tool for programmers and developers."
   ]
  },
  {
   "cell_type": "markdown",
   "id": "4dd4aeca",
   "metadata": {},
   "source": [
    "## Brief history of Python"
   ]
  },
  {
   "cell_type": "markdown",
   "id": "46ec3360",
   "metadata": {},
   "source": [
    "Python was created by Guido van Rossum in the late 1980s and was first released in 1991. It was named after the Monty Python comedy group. Python was designed to be easy to read and write, with a syntax that emphasizes code readability."
   ]
  },
  {
   "cell_type": "markdown",
   "id": "335b7bd2",
   "metadata": {},
   "source": [
    "## Why Python is popular"
   ]
  },
  {
   "cell_type": "markdown",
   "id": "77c1f4a1",
   "metadata": {},
   "source": [
    "Python is popular for several reasons:\n",
    "\n",
    "* It is easy to learn and use.\n",
    "* It has a simple and consistent syntax.\n",
    "* It has a large and active community of users and developers.\n",
    "* It has a vast library of modules and packages for various applications.\n",
    "* It is versatile and can be used for a wide range of applications."
   ]
  },
  {
   "cell_type": "markdown",
   "id": "5dc8b004",
   "metadata": {},
   "source": [
    "## Python applications and use cases"
   ]
  },
  {
   "cell_type": "markdown",
   "id": "9b3b84f0",
   "metadata": {},
   "source": [
    "Python is used for a wide range of applications, including:\n",
    "\n",
    "* Web development\n",
    "* Scientific computing and data analysis\n",
    "* Artificial intelligence and machine learning\n",
    "* Game development\n",
    "* Robotics\n",
    "* Finance and trading\n",
    "* Automation and scripting\n",
    "* Education"
   ]
  },
  {
   "cell_type": "markdown",
   "id": "8705d683",
   "metadata": {},
   "source": [
    "## Installing Python"
   ]
  },
  {
   "cell_type": "markdown",
   "id": "5953e0c3",
   "metadata": {},
   "source": [
    "Before we can start using Python, we need to install it on our computer.\n",
    "\n",
    "### Downloading and installing Python\n",
    "\n",
    "You can download the latest version of Python from the official website at https://www.python.org/downloads/. Select the appropriate version for your operating system and follow the installation instructions."
   ]
  },
  {
   "cell_type": "markdown",
   "id": "f13e0395",
   "metadata": {},
   "source": [
    "### Setting up the Python environment\n",
    "After installing Python, we need to set up our environment to start writing and running Python code. There are several ways to do this, but we'll use the Python Replit for now."
   ]
  },
  {
   "cell_type": "markdown",
   "id": "2e437242",
   "metadata": {},
   "source": [
    "## Getting Started with Replit Python"
   ]
  },
  {
   "cell_type": "markdown",
   "id": "423f4761",
   "metadata": {},
   "source": [
    "Replit is an online integrated development environment (IDE) that allows you to write, run, and share code from your browser. It supports various programming languages, including Python. Replit makes it easy for beginners and professionals alike to start coding in Python without installing anything on their computers. In this tutorial, we will walk you through the steps of getting started with Replit Python."
   ]
  },
  {
   "cell_type": "markdown",
   "id": "861df4e6",
   "metadata": {},
   "source": [
    "### Step 1: Create a Replit Account\n",
    "\n",
    "To get started, you'll need a Replit account. Visit the Replit website (https://replit.com/) and click \"Sign up\" in the top right corner. You can sign up using your Google, GitHub, Facebook, or Apple account, or with an email address and password. Once you've signed up, log in to your account."
   ]
  },
  {
   "cell_type": "markdown",
   "id": "d2630f6c",
   "metadata": {},
   "source": [
    "### Step 2: Create a New Python Repl\n",
    "\n",
    "* Click on the \"+ New Repl\" button located on the top right side of your dashboard.\n",
    "* In the \"Create a Repl\" pop-up window, choose the \"Python\" language from the list.\n",
    "* Give your Repl a name and, optionally, a description.\n",
    "* Click on the \"Create Repl\" button.\n",
    "\n",
    "Your new Python Repl will be created, and you'll be taken to the Replit coding environment.\n"
   ]
  },
  {
   "cell_type": "markdown",
   "id": "4ebf2b28",
   "metadata": {},
   "source": [
    "### Step 3: Understand the Replit Interface\n",
    "\n",
    "The Replit interface consists of the following sections:\n",
    "\n",
    "* The file explorer on the left side, where you can add, delete, or navigate between files.\n",
    "* The code editor in the center, where you write and edit your Python code.\n",
    "* The terminal on the right side, where you can run your code and see the output."
   ]
  },
  {
   "cell_type": "markdown",
   "id": "c1a313e5",
   "metadata": {},
   "source": [
    "### Step 4: Write Your First Python Code\n",
    "\n",
    "In the code editor, you'll see a default Python script:"
   ]
  },
  {
   "cell_type": "code",
   "execution_count": 4,
   "id": "2fb290af",
   "metadata": {},
   "outputs": [
    {
     "name": "stdout",
     "output_type": "stream",
     "text": [
      "Hello, World!\n"
     ]
    }
   ],
   "source": [
    "print(\"Hello, World!\")\n"
   ]
  },
  {
   "cell_type": "markdown",
   "id": "e6f6bc42",
   "metadata": {},
   "source": [
    "This is a simple Python program that prints \"Hello, World!\" to the console. You can modify this code, or delete it and write your own Python script."
   ]
  },
  {
   "cell_type": "markdown",
   "id": "59b4ada8",
   "metadata": {},
   "source": [
    "### Step 5: Run Your Python Code\n",
    "\n",
    "To run your Python code, click the green \"Run\" button located at the top center of the interface. The code will be executed in the terminal, and you'll see the output of your program.\n",
    "\n",
    "Congratulations, you've just run your first Python code in the REPL!"
   ]
  },
  {
   "cell_type": "markdown",
   "id": "5166062c",
   "metadata": {},
   "source": [
    "### Step 6: Save and Share Your Repl\n",
    "\n",
    "Your Repl is automatically saved as you make changes. However, you can also click the \"Version History\" button to create a snapshot of your work at a specific point in time. To share your Repl with others, click the \"Share\" button and choose the desired sharing option."
   ]
  },
  {
   "cell_type": "markdown",
   "id": "4a5a6b0a",
   "metadata": {},
   "source": [
    "### Conclusion\n",
    "\n",
    "Replit is a powerful and user-friendly platform for coding in Python. By following these simple steps, you can quickly create, run, and share Python projects from the comfort of your browser. As you become more familiar with Replit, you can explore its advanced features such as collaboration tools, built-in packages, and hosting options to further enhance your Python development experience"
   ]
  },
  {
   "cell_type": "markdown",
   "id": "6fc54c3e",
   "metadata": {},
   "source": [
    "# Assignment  Lab or Practical Work "
   ]
  },
  {
   "cell_type": "markdown",
   "id": "0d8a09d0",
   "metadata": {},
   "source": [
    "## Introduction to Python using Replit\n",
    "\n",
    "\n",
    "### Objective:\n",
    "The goal of this assignment is to introduce you to Python programming and the Replit environment. You will learn basic Python concepts and use Replit to write, run, and share your Python scripts.\n"
   ]
  },
  {
   "cell_type": "markdown",
   "id": "1010baa3",
   "metadata": {},
   "source": [
    "## Tasks:\n",
    "\n",
    "### 1 Create a new Python Repl:\n",
    "\n",
    "* Follow the instructions in the \"Getting Started with Replit Python\" tutorial to create a new Python Repl.\n",
    "* Name your Repl \"PythonIntroAssignment\"."
   ]
  },
  {
   "cell_type": "markdown",
   "id": "faf7b2b1",
   "metadata": {},
   "source": [
    "### 2 Familiarize yourself with Python syntax:\n",
    "\n",
    "* In your Python Repl, experiment with basic Python concepts, such as printing messages to the console, assigning values to variables, and performing arithmetic operations.\n",
    "* Example: To print \"Hello, World!\" to the console, you can use the following command:"
   ]
  },
  {
   "cell_type": "code",
   "execution_count": 8,
   "id": "c845d5fb",
   "metadata": {},
   "outputs": [
    {
     "name": "stdout",
     "output_type": "stream",
     "text": [
      "Hello, World!\n"
     ]
    }
   ],
   "source": [
    "# answer\n",
    "print(\"Hello, World!\")\n"
   ]
  },
  {
   "cell_type": "markdown",
   "id": "63789cb1",
   "metadata": {},
   "source": [
    "Example: To add two numbers, you can use the following commands:"
   ]
  },
  {
   "cell_type": "code",
   "execution_count": 9,
   "id": "1a10263d",
   "metadata": {},
   "outputs": [
    {
     "name": "stdout",
     "output_type": "stream",
     "text": [
      "The sum of 5 and 3 is 8\n"
     ]
    }
   ],
   "source": [
    "num1 = 5\n",
    "num2 = 3\n",
    "sum = num1 + num2\n",
    "print(\"The sum of\", num1, \"and\", num2, \"is\", sum)\n"
   ]
  },
  {
   "cell_type": "markdown",
   "id": "9bf9d3a1",
   "metadata": {},
   "source": [
    "### 3 Write a Python script that prompts the user for their name and greets them:\n",
    "\n",
    "*In your Python Repl, write a Python script that asks the user for their name using the input() function.\n",
    "*Example:"
   ]
  },
  {
   "cell_type": "code",
   "execution_count": 11,
   "id": "c1422c8c",
   "metadata": {},
   "outputs": [
    {
     "name": "stdout",
     "output_type": "stream",
     "text": [
      "Please enter your name: \n"
     ]
    }
   ],
   "source": [
    "name = input(\"Please enter your name: \")"
   ]
  },
  {
   "cell_type": "markdown",
   "id": "76f18d9f",
   "metadata": {},
   "source": [
    "Print a personalized greeting to the console using the entered name.\n",
    "Example:"
   ]
  },
  {
   "cell_type": "code",
   "execution_count": 12,
   "id": "6c496fa9",
   "metadata": {},
   "outputs": [
    {
     "name": "stdout",
     "output_type": "stream",
     "text": [
      "Hello, ! Welcome to Python programming.\n"
     ]
    }
   ],
   "source": [
    "print(\"Hello, \" + name + \"! Welcome to Python programming.\")\n"
   ]
  },
  {
   "cell_type": "markdown",
   "id": "50511e72",
   "metadata": {},
   "source": [
    "### 4 Write a Python script that prompts the user for two numbers and prints their sum:\n",
    "\n",
    "* In your Python Repl, write a Python script that asks the user for two numbers using the input() function.\n",
    "* Convert the entered values from strings to integers using the int() function.\n",
    "* Example:"
   ]
  },
  {
   "cell_type": "code",
   "execution_count": 13,
   "id": "cfbd694e",
   "metadata": {},
   "outputs": [
    {
     "name": "stdout",
     "output_type": "stream",
     "text": [
      "Please enter the first number: 6\n",
      "Please enter the second number: 6\n"
     ]
    }
   ],
   "source": [
    "num1 = int(input(\"Please enter the first number: \"))\n",
    "num2 = int(input(\"Please enter the second number: \"))\n"
   ]
  },
  {
   "cell_type": "markdown",
   "id": "c0c41e7c",
   "metadata": {},
   "source": [
    "* Calculate the sum of the two numbers and print the result to the console.\n",
    "* Example:"
   ]
  },
  {
   "cell_type": "code",
   "execution_count": 14,
   "id": "620a6e78",
   "metadata": {},
   "outputs": [
    {
     "name": "stdout",
     "output_type": "stream",
     "text": [
      "The sum of 6 and 6 is 12\n"
     ]
    }
   ],
   "source": [
    "sum = num1 + num2\n",
    "print(\"The sum of\", num1, \"and\", num2, \"is\", sum)\n"
   ]
  },
  {
   "cell_type": "markdown",
   "id": "6ef0dc50",
   "metadata": {},
   "source": [
    "### 5 Share your Python Repl:\n",
    "\n",
    "* Once you have completed the tasks above, share your Repl by following the instructions in the \"Getting Started with Replit Python\" tutorial.\n",
    "* Submit the link to your shared Repl as your assignment."
   ]
  },
  {
   "cell_type": "markdown",
   "id": "60bd0e83",
   "metadata": {},
   "source": [
    "Note: If you encounter any difficulties or have questions about Python syntax, you can refer to the Python documentation (https://docs.python.org/3/) or ask for help from your instructor or peers."
   ]
  },
  {
   "cell_type": "code",
   "execution_count": null,
   "id": "e985c6d3",
   "metadata": {},
   "outputs": [],
   "source": []
  }
 ],
 "metadata": {
  "kernelspec": {
   "display_name": "Python 3 (ipykernel)",
   "language": "python",
   "name": "python3"
  },
  "language_info": {
   "codemirror_mode": {
    "name": "ipython",
    "version": 3
   },
   "file_extension": ".py",
   "mimetype": "text/x-python",
   "name": "python",
   "nbconvert_exporter": "python",
   "pygments_lexer": "ipython3",
   "version": "3.9.13"
  }
 },
 "nbformat": 4,
 "nbformat_minor": 5
}

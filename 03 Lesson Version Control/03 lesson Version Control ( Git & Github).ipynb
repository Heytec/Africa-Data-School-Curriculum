{
 "cells": [
  {
   "cell_type": "markdown",
   "metadata": {},
   "source": [
    "# GIT"
   ]
  },
  {
   "cell_type": "markdown",
   "metadata": {},
   "source": [
    "### Step 0: Install git  "
   ]
  },
  {
   "cell_type": "markdown",
   "metadata": {},
   "source": [
    " Getting Started - Installing Git\n",
    "https://git-scm.com/book/en/v2/Getting-Started-Installing-Git\n",
    "\n"
   ]
  },
  {
   "cell_type": "markdown",
   "metadata": {},
   "source": [
    "!['imageone'](workflow.png)\n",
    "\n",
    "EvanWill 2017 https://uidaholib.github.io/get-git/3workflow.html"
   ]
  },
  {
   "cell_type": "markdown",
   "metadata": {},
   "source": [
    "### Create directory/Folder using CMD "
   ]
  },
  {
   "cell_type": "code",
   "execution_count": null,
   "metadata": {},
   "outputs": [],
   "source": [
    "1 # Open Git Bash\n",
    "\n",
    "2 # make directory ADSJAN\n",
    "mkdir ADSJAN\n",
    "\n",
    "3 # enter  ADSJAN\n",
    "cd    ADS JAN\n",
    "\n",
    "4)# create files \n",
    "touch  notebook1.ipynb"
   ]
  },
  {
   "cell_type": "markdown",
   "metadata": {},
   "source": [
    "### Step 1: Create a local git repository "
   ]
  },
  {
   "cell_type": "code",
   "execution_count": null,
   "metadata": {},
   "outputs": [],
   "source": [
    "1 # Initializing a repository /setup repo /create repo \n",
    "git init"
   ]
  },
  {
   "cell_type": "markdown",
   "metadata": {},
   "source": [
    "### Step 2: Add a file to the staging environment"
   ]
  },
  {
   "cell_type": "code",
   "execution_count": null,
   "metadata": {},
   "outputs": [],
   "source": [
    "# Staging files \n",
    "\n",
    " # Stages the current directory and all its content\n",
    "git add ."
   ]
  },
  {
   "cell_type": "markdown",
   "metadata": {},
   "source": [
    "### Step 3: Create a commit"
   ]
  },
  {
   "cell_type": "code",
   "execution_count": null,
   "metadata": {},
   "outputs": [],
   "source": [
    "# Commits with a one-line message  \n",
    "git commit -m “myfirstcommit” "
   ]
  },
  {
   "cell_type": "markdown",
   "metadata": {},
   "source": [
    "# GITHUB"
   ]
  },
  {
   "cell_type": "markdown",
   "metadata": {},
   "source": [
    "If you only want to keep track of your code locally, you don't need to use GitHub. But if you want to work with a team, you can use GitHub to collaboratively modify the project's code."
   ]
  },
  {
   "cell_type": "markdown",
   "metadata": {},
   "source": [
    "### Create a GitHub account "
   ]
  },
  {
   "cell_type": "markdown",
   "metadata": {},
   "source": [
    "https://github.com/"
   ]
  },
  {
   "cell_type": "markdown",
   "metadata": {},
   "source": [
    "### Step 4: Create a new repository on GitHub"
   ]
  },
  {
   "cell_type": "markdown",
   "metadata": {},
   "source": [
    "* To create a new repo on GitHub, log in and go to the GitHub home page. You can find the “New repository” option under the “+” sign next to your profile picture, in the top right corner of the navbar:"
   ]
  },
  {
   "cell_type": "markdown",
   "metadata": {},
   "source": [
    "* After clicking the button, GitHub will ask you to name your repo and provide a brief description:"
   ]
  },
  {
   "cell_type": "markdown",
   "metadata": {},
   "source": [
    "* When you're done filling out the information, press the 'Create repository' button to make your new repo."
   ]
  },
  {
   "cell_type": "markdown",
   "metadata": {},
   "source": [
    "### Step 5: Push local Repo  to GitHub"
   ]
  },
  {
   "cell_type": "code",
   "execution_count": null,
   "metadata": {},
   "outputs": [],
   "source": [
    "git remote add origin https://github.com/YOUR-USERNAME/YOUR-REPOSITORY\n",
    "git branch -M main\n",
    "git push -u origin main"
   ]
  },
  {
   "cell_type": "markdown",
   "metadata": {},
   "source": [
    "### Step 6 : Get a project on GitHub  back to your computer"
   ]
  },
  {
   "cell_type": "markdown",
   "metadata": {},
   "source": [
    "#### Cloning a repository using the command line\n",
    "\n",
    "https://docs.github.com/en/github/creating-cloning-and-archiving-repositories/cloning-a-repository"
   ]
  },
  {
   "cell_type": "markdown",
   "metadata": {},
   "source": [
    "#step1\n",
    "* On GitHub, navigate to the main page of the repository.\n",
    "\n",
    "#step2\n",
    "* Above the list of files, click  Code.\n",
    "\n",
    "#step3\n",
    "* To clone the repository using HTTPS, under \"Clone with HTTPS\", click \n",
    "\n",
    "#step4\n",
    "* Open Git Bash.\n",
    "\n",
    "#step5\n",
    "* Change the current working directory to the location where you want the cloned directory.\n",
    "\n",
    "#step6\n",
    "* $ git clone https://github.com/YOUR-USERNAME/YOUR-REPOSITORY\n",
    "\n",
    "#step7 \n",
    "* Press Enter to create your local clone.\n"
   ]
  },
  {
   "cell_type": "markdown",
   "metadata": {},
   "source": [
    "### Reading article :\n",
    "\n",
    "https://product.hubspot.com/blog/git-and-github-tutorial-for-beginners"
   ]
  },
  {
   "cell_type": "markdown",
   "metadata": {},
   "source": [
    "### Watching Material:\n",
    "    \n",
    "https://www.youtube.com/watch?v=8JJ101D3knE"
   ]
  },
  {
   "cell_type": "code",
   "execution_count": null,
   "metadata": {},
   "outputs": [],
   "source": []
  }
 ],
 "metadata": {
  "kernelspec": {
   "display_name": "Python 3 (ipykernel)",
   "language": "python",
   "name": "python3"
  },
  "language_info": {
   "codemirror_mode": {
    "name": "ipython",
    "version": 3
   },
   "file_extension": ".py",
   "mimetype": "text/x-python",
   "name": "python",
   "nbconvert_exporter": "python",
   "pygments_lexer": "ipython3",
   "version": "3.9.13"
  }
 },
 "nbformat": 4,
 "nbformat_minor": 4
}

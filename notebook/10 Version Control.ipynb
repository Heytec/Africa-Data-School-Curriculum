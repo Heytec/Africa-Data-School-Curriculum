{
 "cells": [
  {
   "cell_type": "markdown",
   "id": "a05ca17e",
   "metadata": {},
   "source": [
    "# Version Control"
   ]
  },
  {
   "cell_type": "markdown",
   "id": "ad8d4df7",
   "metadata": {},
   "source": [
    "## Table of content \n",
    "\n",
    "\n",
    "### 1 Introduction to Version Control\n",
    "\n",
    "### 2 GIT\n",
    "\n",
    "* Installing Git\n",
    "* To get started with Git using Git Bash\n",
    " \n",
    "### 3 Github\n",
    "* Push Your REPO to GitHub\n",
    "* Cloning a GitHub Repository to Your Computer\n",
    "* Most common terms you'll encounter when using GitHub\n",
    "* GitHub, it's essential to know some basic Git commands\n",
    "\n",
    "### 4 Assignment Lab or Practical Work"
   ]
  },
  {
   "cell_type": "markdown",
   "id": "653b4d30",
   "metadata": {},
   "source": [
    "## Introduction to Version Control\n",
    "\n",
    "Version control is a critical tool for software development and collaboration. It allows developers to track changes to code over time, work collaboratively on code, and easily roll back to previous versions if needed. In this section, we will explore the importance of version control, the concepts of repositories, commits, branches, and merging, and the differences between \n",
    "centralized and distributed version control systems.\n",
    "\n",
    "### Here are some of the key reasons why you should use a version control system:\n",
    "\n",
    "* 1 Collaboration: \n",
    "\n",
    "VCS allows multiple developers to work on the same codebase simultaneously without interfering with each other’s changes. It enables them to merge their changes together and resolve any conflicts that arise.\n",
    "\n",
    "\n",
    "* 2 History and Tracking: \n",
    "\n",
    "VCS records every change made to a file or set of files, allowing developers to track who made the changes, when they were made, and what changes were made. This information can be useful for debugging, auditing, and quality control purposes.\n",
    "\n",
    "* 3 Backups and Recovery: \n",
    "\n",
    "VCS automatically creates backups of all changes, so if there is an issue with a file or codebase, developers can easily revert back to a previous version of the file or codebase.\n",
    "\n",
    "* 4 Experimentation: \n",
    "\n",
    "VCS allows developers to create new branches to experiment with new features or ideas without affecting the main codebase. This way, they can explore new ideas and approaches without disrupting the stable code.\n",
    "\n",
    "* 5 Continuous Integration: \n",
    "\n",
    "VCS can integrate with continuous integration tools to automate the testing and deployment of code changes, ensuring that the codebase is always in a working state and reducing the risk of errors or bugs.\n",
    "\n",
    "\n",
    "### Types of version control systems\n",
    "\n",
    "There are primarily two types of version control systems: centralized version control systems (CVCS) and distributed version control systems (DVCS).\n",
    "\n",
    "#### Centralized Version Control Systems (CVCS):\n",
    "\n",
    "In a CVCS, there is a central repository where all files and versions are stored. Developers make changes to a local copy of the code and then commit their changes to the central repository. \n",
    "\n",
    "Examples of CVCS include:\n",
    "\n",
    " * SVN (Subversion): A widely used open-source centralized version control system that has been around since the early 2000s.\n",
    " \n",
    "\n",
    " * Perforce: A popular commercial centralized version control system used primarily in the gaming and entertainment industries.\n",
    "\n",
    "#### Distributed Version Control Systems (DVCS): \n",
    "\n",
    "In a DVCS, developers work with their own local copy of the code, and changes can be committed to a local repository or pushed to a remote repository. The remote repository can be hosted on a server or in the cloud. \n",
    "\n",
    "Examples of DVCS include:\n",
    "\n",
    "* Git: A popular open-source distributed version control system developed by Linus Torvalds, known for its speed and flexibility.\n",
    "\n",
    "\n",
    "* Mercurial: Another popular open-source distributed version control system with similar functionality to Git.\n",
    "\n",
    "\n",
    "\n",
    "\n",
    "\n",
    "\n",
    "\n",
    "\n",
    "### Conclusion\n",
    "\n",
    "Version control is a critical tool for software development and collaboration. It allows developers to track changes to code over time, work collaboratively on code, and easily roll back to previous versions if needed. With version control, developers can create repositories, make commits, create branches, and merge changes. There are two types of version control systems: centralized and distributed. While both have their advantages and disadvantages, most modern software development teams use distributed version control systems like Git."
   ]
  },
  {
   "cell_type": "markdown",
   "id": "5ad22ee9",
   "metadata": {},
   "source": [
    "# GIT"
   ]
  },
  {
   "cell_type": "markdown",
   "id": "b072724b",
   "metadata": {},
   "source": [
    "Git is a free and open-source distributed version control system (DVCS) that was created by Linus Torvalds in 2005. It is widely used in software development to manage code revisions and track changes made to source code files."
   ]
  },
  {
   "cell_type": "markdown",
   "id": "b1e33428",
   "metadata": {},
   "source": [
    " Git is a powerful tool that has become an essential part of the software development process for many developers and teams."
   ]
  },
  {
   "cell_type": "markdown",
   "id": "9e480163",
   "metadata": {},
   "source": [
    "###  Installing Git "
   ]
  },
  {
   "cell_type": "markdown",
   "id": "3da63055",
   "metadata": {},
   "source": [
    "#### Windows\n",
    "* Download the Git installer: Visit https://git-scm.com/download/win to download the latest version of Git for Windows.\n",
    "\n",
    "* Run the installer: Locate the downloaded installer file and double-click on it to run the installation process.\n",
    "\n",
    "* Customize the installation (optional): Proceed through the installer screens, accepting the default settings or customizing them as needed.\n",
    "\n",
    "* Install Git: Click 'Install' to begin the installation process.\n",
    "\n",
    "* Complete the installation: Click 'Finish' once the installation is complete.\n",
    "\n",
    "* Verify the installation: Open a new command prompt or Git Bash, and type git --version to check the installed Git version."
   ]
  },
  {
   "cell_type": "markdown",
   "id": "d5c9c1c9",
   "metadata": {},
   "source": [
    "#### macOS\n",
    "* Check for existing Git: Open the Terminal app and type git --version. If Git is already installed, you'll see the installed version. If not, you'll receive a prompt to install the Xcode Command Line Tools.\n",
    "* Install Git using Xcode Command Line Tools (if not already installed): Type xcode-select --install in the Terminal app and follow the on-screen instructions. This will install Git along with other command line tools. If you prefer to install Git separately, proceed to step 3.\n",
    "* Install Git using Homebrew (alternative method): If you have Homebrew installed, you can install Git by typing brew install git in the Terminal app.\n",
    "* Verify the installation: Type git --version in the Terminal app to check the installed Git version."
   ]
  },
  {
   "cell_type": "markdown",
   "id": "486b45a6",
   "metadata": {},
   "source": [
    "### To get started with Git using Git Bash, follow these step-by-step instructions:"
   ]
  },
  {
   "cell_type": "markdown",
   "id": "28e9d1c6",
   "metadata": {},
   "source": [
    "#### 1 Open Git Bash: \n",
    "Search for Git Bash in the Start menu (Windows) or Launchpad (macOS), and open it.\n",
    "\n",
    "#### 2 Configure Git: \n",
    "Before you start using Git, you need to configure your name and email address, which will be used for commit messages. Run the following commands, replacing \"Your Name\" and \"youremail@example.com\" with your own information:"
   ]
  },
  {
   "cell_type": "code",
   "execution_count": null,
   "id": "b549dca8",
   "metadata": {},
   "outputs": [],
   "source": [
    "git config --global user.name \"Your Name\"\n",
    "git config --global user.email \"youremail@example.com\""
   ]
  },
  {
   "cell_type": "markdown",
   "id": "8070e6fb",
   "metadata": {},
   "source": [
    "#### 3 Create directory/Folder"
   ]
  },
  {
   "cell_type": "markdown",
   "id": "f898e068",
   "metadata": {},
   "source": [
    "* #####  Open Git Bash:\n",
    "Search for Git Bash in the Start menu (Windows) or Launchpad (macOS), and open it.\n",
    "\n",
    "* #####  make your  folder: \n",
    "you can create it using the mkdir command in the gitbash"
   ]
  },
  {
   "cell_type": "code",
   "execution_count": null,
   "id": "c5cd6869",
   "metadata": {},
   "outputs": [],
   "source": [
    "# make directory ADSnotes\n",
    "\n",
    "mkdir ADSnotes\n",
    "\n",
    "# enter ADSnotes\n",
    "\n",
    "cd    ADSnotes\n",
    "\n",
    "# create files (OPTIONAL)\n",
    "touch  notebook1.ipynb"
   ]
  },
  {
   "cell_type": "markdown",
   "id": "f291db0e",
   "metadata": {},
   "source": [
    "Replace \"ADSnotes\" with the name of the folder you want to create."
   ]
  },
  {
   "cell_type": "markdown",
   "id": "d711ea66",
   "metadata": {},
   "source": [
    "GIT WORKFLOW"
   ]
  },
  {
   "cell_type": "markdown",
   "id": "3bb833a6",
   "metadata": {},
   "source": [
    "!['imageone'](data/images/workflow.png)\n",
    "\n",
    "EvanWill 2017 https://uidaholib.github.io/get-git/3workflow.html"
   ]
  },
  {
   "cell_type": "markdown",
   "id": "ad1c8b94",
   "metadata": {},
   "source": [
    "#### 4 Now, initialize a new Git repository in the current folder by running:"
   ]
  },
  {
   "cell_type": "code",
   "execution_count": null,
   "id": "3e84f287",
   "metadata": {},
   "outputs": [],
   "source": [
    "git init"
   ]
  },
  {
   "cell_type": "markdown",
   "id": "d87eb2aa",
   "metadata": {},
   "source": [
    "#### 5 Add a file to the staging environment"
   ]
  },
  {
   "cell_type": "code",
   "execution_count": null,
   "id": "f798f305",
   "metadata": {},
   "outputs": [],
   "source": [
    "# Staging files \n",
    "\n",
    " # Stages the current directory and all its content\n",
    "git add ."
   ]
  },
  {
   "cell_type": "markdown",
   "id": "1a880553",
   "metadata": {},
   "source": [
    "The . will stage all files in the folder. To stage only specific files, replace the . with the file names separated by spaces."
   ]
  },
  {
   "cell_type": "markdown",
   "id": "f85286ac",
   "metadata": {},
   "source": [
    "#### 6 Commit the changes: Commit the staged files with a descriptive message using the git commit command:"
   ]
  },
  {
   "cell_type": "code",
   "execution_count": null,
   "id": "b6a3dc14",
   "metadata": {},
   "outputs": [],
   "source": [
    "# Commits with a one-line message  \n",
    "git commit -m \"Your commit message here\"\n"
   ]
  },
  {
   "cell_type": "markdown",
   "id": "05d19bdd",
   "metadata": {},
   "source": [
    "#### 7 Check the status: Use the git status command to view the current state of your repository:"
   ]
  },
  {
   "cell_type": "code",
   "execution_count": null,
   "id": "11535329",
   "metadata": {},
   "outputs": [],
   "source": [
    "git status"
   ]
  },
  {
   "cell_type": "markdown",
   "id": "d340a5a9",
   "metadata": {},
   "source": [
    "#### 8 Review the commit history: To view a log of all commits in the repository, use the git log command:"
   ]
  },
  {
   "cell_type": "code",
   "execution_count": null,
   "id": "23572fc2",
   "metadata": {},
   "outputs": [],
   "source": [
    "git log"
   ]
  },
  {
   "cell_type": "markdown",
   "id": "5b079a7b",
   "metadata": {},
   "source": [
    "## Github"
   ]
  },
  {
   "cell_type": "markdown",
   "id": "e7f3b329",
   "metadata": {},
   "source": [
    "* GitHub is a web-based platform for hosting Git repositories.\n",
    "\n",
    "\n",
    "* It provides a wide range of tools and features to help developers collaborate on code and manage software projects.\n",
    "\n",
    "\n",
    "* GitHub offers both free and paid plans, with the free plan providing basic functionality and the paid plans offering more advanced features.\n",
    "\n",
    "\n",
    "* GitHub allows developers to host their Git repositories on their servers, and provides a web-based interface that makes it easy to manage and track changes to code.\n",
    "\n",
    "\n",
    "* It offers features like pull requests, which allow developers to propose changes to a codebase and have them reviewed by other developers, and issues, which can be used to track bugs, feature requests, and other tasks related to a project.\n",
    "\n",
    "\n",
    "* GitHub also offers collaboration tools like code reviews, project management tools, and team communication features, making it a powerful platform for software development teams.\n",
    "\n",
    "\n",
    "* GitHub has become one of the most popular platforms for hosting open-source projects, and many software development teams use GitHub to manage their code and collaborate with other developers.\n",
    "\n",
    "\n",
    "* By using GitHub, developers can benefit from the power and flexibility of Git, while also taking advantage of the many tools and features provided by the GitHub platform.\n",
    "\n",
    "\n",
    "* GitHub also provides a wide range of integrations and extensions that can be used to extend its functionality and integrate it with other development tools and services.\n",
    "\n",
    "\n",
    "* In addition to hosting Git repositories, GitHub also offers a wide range of resources, including documentation, tutorials, and community forums, that can be used to learn about Git, software development best practices, and other topics related to software development."
   ]
  },
  {
   "cell_type": "markdown",
   "id": "6c5bba8c",
   "metadata": {},
   "source": [
    " ### Push Your REPO to GitHub"
   ]
  },
  {
   "cell_type": "markdown",
   "id": "34be39c9",
   "metadata": {},
   "source": [
    "#### 9   Create a GitHub Account\n",
    "The first step is to create a GitHub account. Go to the GitHub website (https://github.com/) and click on the \"Sign up\" button in the top-right corner. Follow the instructions to create your account."
   ]
  },
  {
   "cell_type": "markdown",
   "id": "d1fba2f5",
   "metadata": {},
   "source": [
    "#### 10 Create a New Repository\n",
    "    \n",
    "* Once you have created your account, you can create a new repository. \n",
    "*Click on the \"+\" icon in the top-right corner of the GitHub website and select \"New repository\" from the drop-down menu. Give your repository a name and click on the \"Create repository\" button."
   ]
  },
  {
   "cell_type": "markdown",
   "id": "7214d392",
   "metadata": {},
   "source": [
    "#### 11 Push local Repo to GitHub\n"
   ]
  },
  {
   "cell_type": "code",
   "execution_count": null,
   "id": "c25893e1",
   "metadata": {},
   "outputs": [],
   "source": [
    "git remote add origin https://github.com/YOUR-USERNAME/YOUR-REPOSITORY\n",
    "git branch -M main\n",
    "git push -u origin main"
   ]
  },
  {
   "cell_type": "markdown",
   "id": "a3a25354",
   "metadata": {},
   "source": [
    "### Cloning a GitHub Repository to Your Computer\n",
    "If you want to work on a project hosted on GitHub, you can clone it to your local computer using Git. Here are the steps to do so:"
   ]
  },
  {
   "cell_type": "markdown",
   "id": "06a6a5bf",
   "metadata": {},
   "source": [
    "#### Step 1: Navigate to the Repository on GitHub\n",
    "Go to the main page of the repository that you want to clone.\n",
    "\n",
    "#### Step 2: Click the Code Button\n",
    "Click the \"Code\" button located above the list of files in the repository.\n",
    "\n",
    "#### Step 3: Select the Clone URL\n",
    "Under the \"Clone with HTTPS\" section, select the URL for the repository that you want to clone.\n",
    "\n",
    "#### Step 4: Open Git Bash\n",
    "Open Git Bash, a command line interface for Git.\n",
    "\n",
    "#### Step 5: Change the Directory\n",
    "Use the \"cd\" command to navigate to the directory where you want to store your cloned repository. For example, if you want to store your cloned repository in the \"Documents\" folder on your computer, you can run the following command:"
   ]
  },
  {
   "cell_type": "code",
   "execution_count": null,
   "id": "15b6af05",
   "metadata": {},
   "outputs": [],
   "source": [
    "$ cd Documents/"
   ]
  },
  {
   "cell_type": "markdown",
   "id": "ec3fe278",
   "metadata": {},
   "source": [
    "#### Step 6: Clone the Repository\n",
    "Run the \"git clone\" command, followed by the URL of the repository that you want to clone. For example:"
   ]
  },
  {
   "cell_type": "code",
   "execution_count": null,
   "id": "a678bbb3",
   "metadata": {},
   "outputs": [],
   "source": [
    "$ git clone https://github.com/YOUR-USERNAME/YOUR-REPOSITORY\n"
   ]
  },
  {
   "cell_type": "markdown",
   "id": "de887c36",
   "metadata": {},
   "source": [
    "#### Step 7: Confirm the Clone\n",
    "Press Enter to create your local clone. Git will download a copy of the repository to your computer.\n",
    "\n",
    "After you have cloned the repository to your local computer, you can work on the files and make changes using your favorite text editor or integrated development environment (IDE). Once you have made changes, you can commit them to your local repository and push them back to GitHub using Git."
   ]
  },
  {
   "cell_type": "markdown",
   "id": "e2f70191",
   "metadata": {},
   "source": [
    "### Most common terms you'll encounter when using GitHub"
   ]
  },
  {
   "cell_type": "markdown",
   "id": "aaaffcfc",
   "metadata": {},
   "source": [
    "#### Here are some commonly used terms on GitHub:\n",
    "\n",
    "- **Repository (Repo):** A digital location where a project's files and revision history are stored. Each project on GitHub has its own repository.\n",
    "- **Fork:** A copy of a repository that is created by a user in their own GitHub account, allowing them to modify the project without affecting the original.\n",
    "- **Clone:** A local copy of a remote repository on your computer, allowing you to work on the project files and sync changes back to the remote repository.\n",
    "- **Pull Request (PR):** A request made by a contributor to merge their changes from their fork or branch into the main repository or another branch. This process typically involves code review and discussions before the changes are merged.\n",
    "- **Merge:** The act of combining changes from one branch or fork into another.\n",
    "- **Branch:** A parallel version of a repository that allows developers to work on different features or fixes simultaneously without interfering with the main (or other) branches.\n",
    "- **Commit:** A snapshot of changes made to a repository. Each commit has a unique ID and is accompanied by a message describing the changes.\n",
    "- **Issue:** A discussion thread for reporting bugs, suggesting enhancements, or asking questions related to a project on GitHub.\n",
    "- **Push:** The process of uploading your local repository changes to a remote repository, like GitHub.\n",
    "- **Fetch:** The process of downloading changes from a remote repository to your local machine without merging them.\n",
    "- **Pull:** The process of fetching changes from a remote repository and merging them into your local repository.\n",
    "- **Git:** The distributed version control system that underlies GitHub and allows users to track changes, create branches, and collaborate on projects.\n",
    "- **Markdown:** A lightweight markup language used on GitHub for formatting text, such as README files and comments.\n",
    "- **Contributor:** A person who contributes to a project by submitting changes, reporting issues, or participating in discussions.\n",
    "- **Star:** A feature on GitHub that allows users to bookmark their favorite repositories for easy access and to show appreciation for the project.\n",
    "\n",
    "\n",
    "These are some of the most common terms you'll encounter when using GitHub. Familiarizing yourself with them will help you navigate and contribute to projects on the platform more effectively."
   ]
  },
  {
   "cell_type": "markdown",
   "id": "e11a8176",
   "metadata": {},
   "source": [
    "#### GitHub, it's essential to know some basic Git commands"
   ]
  },
  {
   "cell_type": "markdown",
   "id": "d5c9d461",
   "metadata": {},
   "source": [
    "In addition to the commonly used terms on GitHub, it's essential to know some basic Git commands for working with repositories. Here are some fundamental Git commands you'll often use:\n",
    "\n",
    "1. `git init` - Initializes a new Git repository in the current directory.\n",
    "2. `git clone <repository>` - Creates a local copy of a remote repository.\n",
    "3. `git add <file>` - Adds a file (or changes in a file) to the staging area, preparing it for a commit.\n",
    "4. `git add .` - Adds all changes in the working directory to the staging area.\n",
    "5. `git status` - Displays the status of your working directory.\n",
    "6. `git commit -m \"<message>\"` - Creates a new commit with the changes in the staging area and a descriptive message.\n",
    "7. `git log` - Displays the commit history of the current branch.\n",
    "8. `git diff` - Shows the differences between the working directory and the latest commit.\n",
    "9. `git diff <commit1> <commit2>` - Shows the differences between two specific commits.\n",
    "10. `git remote add <name> <repository>` - Adds a remote repository to your local repository with a reference name.\n",
    "11. `git fetch <remote>` - Fetches changes from a remote repository but doesn't merge them.\n",
    "12. `git pull <remote> <branch>` - Fetches changes from a remote repository and merges them into your local repository.\n",
    "13. `git push <remote> <branch>` - Pushes your local changes to a remote repository.\n",
    "14. `git branch` - Lists all branches in your local repository.\n",
    "15. `git branch <branch-name>` - Creates a new branch with the given name.\n",
    "16. `git checkout <branch>` - Switches to the specified branch.\n",
    "17. `git merge <branch>` - Merges the specified branch into the current branch.\n",
    "18. `git stash` - Temporarily saves changes in the working directory that are not yet committed.\n",
    "19. `git stash apply` - Applies the most recent stashed changes to the working directory.\n",
    "20. `git stash list` - Lists all stashed changes in the repository.\n",
    "21. `git stash drop` - Removes the most recent stashed changes.\n",
    "\n",
    "\n",
    "\n",
    "These Git commands are frequently used when working with repositories on GitHub and other platforms that utilize Git for version control. Mastering these commands will make your workflow more efficient and help you collaborate with others more effectively."
   ]
  },
  {
   "cell_type": "markdown",
   "id": "13fb3327",
   "metadata": {},
   "source": [
    "# Assignment Lab or Practical Work"
   ]
  },
  {
   "cell_type": "markdown",
   "id": "ef1ee95e",
   "metadata": {},
   "source": [
    "1. **Create a GitHub account**: If you don't already have a GitHub account, sign up for one at https://github.com/join.\n",
    "\n",
    "\n",
    "\n",
    "2. **Create a new repository**: Once logged in, create a new repository by clicking on the \"+\" icon in the upper-right corner and selecting \"New repository\". Give it a name (e.g., \"my-first-repo\") and make sure it's set to public. \n",
    "\n",
    "\n",
    "\n",
    "3. **Clone the repository**: Open your command prompt or terminal and navigate to a directory where you'd like to store your project. Run the following command to clone your repository (replace `<your-username>` with your actual GitHub username):\n",
    "\n"
   ]
  },
  {
   "cell_type": "raw",
   "id": "32c6bcfc",
   "metadata": {},
   "source": [
    "git clone https://github.com/<your-username>/my-first-repo.git"
   ]
  },
  {
   "cell_type": "markdown",
   "id": "706325cc",
   "metadata": {},
   "source": [
    "\n",
    "4. **Navigate to the cloned repository**: In your command prompt or terminal, navigate to the cloned repository using the `cd` command:\n",
    "\n"
   ]
  },
  {
   "cell_type": "markdown",
   "id": "0c33eb5f",
   "metadata": {},
   "source": [
    "cd my-first-repo"
   ]
  },
  {
   "cell_type": "markdown",
   "id": "b3bcb21d",
   "metadata": {},
   "source": [
    "5. **Create a new file**: Create a new file in the repository called \"hello.txt\" and add some text to it (e.g., \"Hello, GitHub!\").\n",
    "\n",
    "\n",
    "6. **Stage the new file**: In your command prompt or terminal, use the following command to stage the new file:\n",
    "\n"
   ]
  },
  {
   "cell_type": "raw",
   "id": "28390ddf",
   "metadata": {},
   "source": [
    "git add hello.txt"
   ]
  },
  {
   "cell_type": "markdown",
   "id": "0dac0851",
   "metadata": {},
   "source": [
    "7. **Commit the changes**: Commit the staged changes with a meaningful message using the following command:\n",
    "\n"
   ]
  },
  {
   "cell_type": "raw",
   "id": "c19b22fe",
   "metadata": {},
   "source": [
    "git commit -m \"Add hello.txt file\""
   ]
  },
  {
   "cell_type": "markdown",
   "id": "9a55d1f5",
   "metadata": {},
   "source": [
    "8. **Push the changes**: Push the committed changes to the remote repository using the following command:\n",
    "\n"
   ]
  },
  {
   "cell_type": "raw",
   "id": "b6989d92",
   "metadata": {},
   "source": [
    "git push origin main"
   ]
  },
  {
   "cell_type": "markdown",
   "id": "677ca89d",
   "metadata": {},
   "source": [
    "\n",
    "\n",
    "\n",
    "9. **Create a new branch**: In your command prompt or terminal, create a new branch called \"feature\" and switch to it using the following command:\n",
    "\n"
   ]
  },
  {
   "cell_type": "raw",
   "id": "dbb97661",
   "metadata": {},
   "source": [
    "git checkout -b feature"
   ]
  },
  {
   "cell_type": "markdown",
   "id": "19610d4c",
   "metadata": {},
   "source": [
    "10. **Edit the file**: Edit the \"hello.txt\" file by adding a new line of text (e.g., \"This is a new feature.\").\n",
    "\n",
    "\n",
    "11. **Stage, commit, and push the changes**: Stage the changes, commit them with a meaningful message, and push them to the remote repository:\n",
    "\n"
   ]
  },
  {
   "cell_type": "raw",
   "id": "e9356757",
   "metadata": {},
   "source": [
    "git add hello.txt\n",
    "\n",
    "git commit -m \"Add new feature to hello.txt\"\n",
    "\n",
    "git push origin feature"
   ]
  },
  {
   "cell_type": "markdown",
   "id": "4093b37f",
   "metadata": {},
   "source": [
    "12. **Create a pull request**: \n",
    "\n",
    "Go to your repository on GitHub and click on the \"Pull requests\" tab. Click on \"New pull request\" and select \"feature\" as the branch to merge into \"main\". Review the changes, add a description, and then click on \"Create pull request\".\n",
    "\n",
    "\n",
    "13. **Merge the pull request**: \n",
    "\n",
    "Review the pull request, ensure that there are no conflicts, and then click on \"Merge pull request\". Confirm the merge and delete the \"feature\" branch if desired.\n",
    "\n",
    "\n",
    "14. **Update your local main branch**: \n",
    "In your command prompt or terminal, switch back to the \"main\" branch and pull the latest changes:\n",
    "\n"
   ]
  },
  {
   "cell_type": "raw",
   "id": "5b37b968",
   "metadata": {},
   "source": [
    "git checkout main\n",
    "\n",
    "\n",
    "git pull origin main\n",
    "\n"
   ]
  },
  {
   "cell_type": "code",
   "execution_count": null,
   "id": "10c4d3a9",
   "metadata": {},
   "outputs": [],
   "source": []
  }
 ],
 "metadata": {
  "kernelspec": {
   "display_name": "Python 3 (ipykernel)",
   "language": "python",
   "name": "python3"
  },
  "language_info": {
   "codemirror_mode": {
    "name": "ipython",
    "version": 3
   },
   "file_extension": ".py",
   "mimetype": "text/x-python",
   "name": "python",
   "nbconvert_exporter": "python",
   "pygments_lexer": "ipython3",
   "version": "3.9.13"
  }
 },
 "nbformat": 4,
 "nbformat_minor": 5
}

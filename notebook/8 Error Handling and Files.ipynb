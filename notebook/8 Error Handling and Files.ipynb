{
 "cells": [
  {
   "cell_type": "markdown",
   "id": "904d0056",
   "metadata": {},
   "source": [
    "# Error Handling and File I/O"
   ]
  },
  {
   "cell_type": "markdown",
   "id": "d6bf59bb",
   "metadata": {},
   "source": [
    "## Table of Contents\n",
    "\n",
    "### 1 Error handling\n",
    "\n",
    "* try, except, finally\n",
    "* Raising exceptions\n",
    "\n",
    "### 2 File I/O\n",
    "\n",
    "* Opening and closing files\n",
    "* Reading and writing to files\n",
    "* Working with different file modes\n",
    "\n",
    "### 3 Assignment Lab or Practical Work"
   ]
  },
  {
   "cell_type": "markdown",
   "id": "667d5cef",
   "metadata": {},
   "source": [
    "## Error handling\n",
    "Error handling is used to catch and handle errors that might occur in your Python code."
   ]
  },
  {
   "cell_type": "markdown",
   "id": "2a2f6cf7",
   "metadata": {},
   "source": [
    "### try, except, finally\n",
    "In Python, you can use a try block to enclose code that might raise an error. If an error occurs, the except block is executed. The finally block is always executed, regardless of whether an error occurs or not. Here's an example"
   ]
  },
  {
   "cell_type": "code",
   "execution_count": 1,
   "id": "cb3dfded",
   "metadata": {},
   "outputs": [
    {
     "name": "stdout",
     "output_type": "stream",
     "text": [
      "Enter a number: 6\n",
      "Thanks for playing!\n"
     ]
    }
   ],
   "source": [
    "try:\n",
    "    x = int(input(\"Enter a number: \"))\n",
    "except ValueError:\n",
    "    print(\"That's not a valid number.\")\n",
    "finally:\n",
    "    print(\"Thanks for playing!\")\n"
   ]
  },
  {
   "cell_type": "markdown",
   "id": "8900f783",
   "metadata": {},
   "source": [
    "### Raising exceptions\n",
    "\n",
    "You can also raise your own exceptions in Python using the raise keyword. Here's an example"
   ]
  },
  {
   "cell_type": "code",
   "execution_count": 2,
   "id": "76f1412f",
   "metadata": {},
   "outputs": [
    {
     "name": "stdout",
     "output_type": "stream",
     "text": [
      "Enter a number: 6\n"
     ]
    }
   ],
   "source": [
    "x = input(\"Enter a number: \")\n",
    "if not x.isdigit():\n",
    "    raise ValueError(\"That's not a valid number.\")\n"
   ]
  },
  {
   "cell_type": "markdown",
   "id": "e66db4b0",
   "metadata": {},
   "source": [
    "## File I/O\n",
    "File I/O is used to read from and write to files on your computer."
   ]
  },
  {
   "cell_type": "markdown",
   "id": "3fd4ae30",
   "metadata": {},
   "source": [
    "### Opening and closing files\n",
    "In Python, you can open a file using the open() function. Here's an example"
   ]
  },
  {
   "cell_type": "code",
   "execution_count": 7,
   "id": "8f397893",
   "metadata": {},
   "outputs": [],
   "source": [
    "file = open(\"data/example.txt\", \"r\")"
   ]
  },
  {
   "cell_type": "markdown",
   "id": "a8faa0d4",
   "metadata": {},
   "source": [
    "By default, files are opened in read mode (\"r\"). You can also open files in write mode (\"w\") or append mode (\"a\"). Once you're done with a file, you should close it using the close() method:"
   ]
  },
  {
   "cell_type": "code",
   "execution_count": 8,
   "id": "0e89f973",
   "metadata": {},
   "outputs": [],
   "source": [
    "file.close()"
   ]
  },
  {
   "cell_type": "markdown",
   "id": "a0ac2b7f",
   "metadata": {},
   "source": [
    "### Reading and writing to files\n",
    "Once you've opened a file, you can read from or write to it using the read() and write() methods, respectively. Here's an example:"
   ]
  },
  {
   "cell_type": "code",
   "execution_count": 11,
   "id": "f31ce6df",
   "metadata": {},
   "outputs": [
    {
     "name": "stdout",
     "output_type": "stream",
     "text": [
      "Hello, world!\n"
     ]
    }
   ],
   "source": [
    "file = open(\"data/example.txt\", \"w\")\n",
    "file.write(\"Hello, world!\")\n",
    "file.close()\n",
    "\n",
    "file = open(\"data/example.txt\", \"r\")\n",
    "print(file.read())\n",
    "file.close()\n"
   ]
  },
  {
   "cell_type": "markdown",
   "id": "0c67cb19",
   "metadata": {},
   "source": [
    "### Working with different file modes\n",
    "There are several different file modes you can use when working with files in Python. Here are a few examples:\n",
    "\n",
    "#### \"r\"\n",
    "Read mode. This is the default mode. You can read from the file, but you can't write to it."
   ]
  },
  {
   "cell_type": "code",
   "execution_count": null,
   "id": "b01cc129",
   "metadata": {},
   "outputs": [],
   "source": [
    "file = open(\"data/example.txt\", \"r\")\n"
   ]
  },
  {
   "cell_type": "markdown",
   "id": "0c67cea4",
   "metadata": {},
   "source": [
    "#### \"w\"\n",
    "Write mode. You can write to the file, but any existing content will be overwritten."
   ]
  },
  {
   "cell_type": "code",
   "execution_count": null,
   "id": "d3d6d44d",
   "metadata": {},
   "outputs": [],
   "source": [
    "file = open(\"data/example.txt\", \"w\")"
   ]
  },
  {
   "cell_type": "markdown",
   "id": "e069b55e",
   "metadata": {},
   "source": [
    "#### \"a\"\n",
    "Append mode. You can write to the end of the file without overwriting any existing content."
   ]
  },
  {
   "cell_type": "code",
   "execution_count": 13,
   "id": "57e2ccb6",
   "metadata": {},
   "outputs": [],
   "source": [
    "file = open(\"data/example.txt\", \"a\")\n"
   ]
  },
  {
   "cell_type": "code",
   "execution_count": null,
   "id": "6e30f542",
   "metadata": {},
   "outputs": [],
   "source": [
    "# Assignment Lab or Practical Work"
   ]
  },
  {
   "cell_type": "markdown",
   "id": "b5d7417e",
   "metadata": {},
   "source": [
    "## Error Handling and File I/O Assignment using Replit\n",
    "\n",
    "### Objective:\n",
    "The goal of this assignment is to help you practice error handling and file input/output (I/O) in Python. You will use Replit to write, run, and share Python scripts that demonstrate your understanding of try-except-finally, raising exceptions, and various file operations.\n",
    "\n",
    "###Tasks:\n",
    "\n",
    "### 1 Create a new Python Repl:\n",
    "\n",
    "* Follow the instructions in the \"Getting Started with Replit Python\" tutorial to create a new Python Repl.\n",
    "* Name your Repl \"ErrorHandlingFileIOAssignment\"."
   ]
  },
  {
   "cell_type": "markdown",
   "id": "75c4619a",
   "metadata": {},
   "source": [
    "### 2 Write a Python script that demonstrates error handling:\n",
    "\n",
    "* In your Python Repl, write a Python script that prompts the user for two integers using the input() function and attempts to divide the first integer by the second.\n",
    "* Use a try-except block to handle a potential ZeroDivisionError and print an error message if the user attempts to divide by zero.\n",
    "* Use a finally block to print a message indicating that the script has finished executing.\n"
   ]
  },
  {
   "cell_type": "markdown",
   "id": "8f0df87e",
   "metadata": {},
   "source": [
    "### 3 Write a Python script that demonstrates raising exceptions:\n",
    "\n",
    "* In your Python Repl, write a Python script that defines a function called positive_square_root that takes a single argument.\n",
    "* In the function, raise a ValueError if the input is a negative number.\n",
    "* Call the function with a positive number, catch the exception if it occurs, and print the square root of the input number.\n"
   ]
  },
  {
   "cell_type": "markdown",
   "id": "ba1982ba",
   "metadata": {},
   "source": [
    "### 4 Write a Python script that demonstrates file I/O:\n",
    "\n",
    "* In your Python Repl, create a text file named \"sample.txt\" with some sample text.\n",
    "* Write a Python script that performs the following tasks:\n",
    "* Open the file in read mode and read the contents of the file.\n",
    "*  Print the contents of the file to the console.\n",
    "* Open the file in append mode and write a new line to the file.\n",
    "* Open the file in read mode again and read the updated contents of the file.\n",
    "* Print the updated contents of the file to the console.\n",
    "* Close the file after each operation.\n"
   ]
  },
  {
   "cell_type": "markdown",
   "id": "cb252618",
   "metadata": {},
   "source": [
    "# Solution"
   ]
  },
  {
   "cell_type": "code",
   "execution_count": null,
   "id": "d8d8a00a",
   "metadata": {},
   "outputs": [],
   "source": [
    "# 2 Write a Python script that demonstrates error handling:\n",
    "try:\n",
    "    num1 = int(input(\"Enter the first integer: \"))\n",
    "    num2 = int(input(\"Enter the second integer: \"))\n",
    "    result = num1 / num2\n",
    "    print(\"Result:\", result)\n",
    "except ZeroDivisionError:\n",
    "    print(\"Error: Division by zero.\")\n",
    "finally:\n",
    "    print(\"Script execution complete.\")\n",
    "    \n",
    "# 3 Write a Python script that demonstrates raising exceptions:\n",
    "\n",
    "import math\n",
    "\n",
    "def positive_square_root(number):\n",
    "    if number < 0:\n",
    "        raise ValueError(\"Invalid input: negative number\")\n",
    "    return math.sqrt(number)\n",
    "\n",
    "try:\n",
    "    result = positive_square_root(9)\n",
    "    print(\"Square root:\", result)\n",
    "except ValueError as e:\n",
    "    print(e)\n",
    "\n",
    "### 4 Write a Python script that demonstrates file I/O:\n",
    "\n",
    "with open(\"sample.txt\", \"r\") as file:\n",
    "    content = file.read()\n",
    "print(\"Original content:\\n\", content)\n",
    "\n",
    "with open(\"sample.txt\", \"a\") as file:\n",
    "    file.write(\"\\nThis is a new line.\")\n",
    "\n",
    "with open(\"sample.txt\", \"r\") as file:\n",
    "    updated_content = file.read()\n",
    "print(\"Updated content:\\n\", updated_content)\n",
    "\n"
   ]
  },
  {
   "cell_type": "code",
   "execution_count": null,
   "id": "05a9fd69",
   "metadata": {},
   "outputs": [],
   "source": []
  }
 ],
 "metadata": {
  "kernelspec": {
   "display_name": "Python 3 (ipykernel)",
   "language": "python",
   "name": "python3"
  },
  "language_info": {
   "codemirror_mode": {
    "name": "ipython",
    "version": 3
   },
   "file_extension": ".py",
   "mimetype": "text/x-python",
   "name": "python",
   "nbconvert_exporter": "python",
   "pygments_lexer": "ipython3",
   "version": "3.9.13"
  }
 },
 "nbformat": 4,
 "nbformat_minor": 5
}

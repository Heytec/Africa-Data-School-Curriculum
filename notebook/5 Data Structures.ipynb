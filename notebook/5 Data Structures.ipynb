{
 "cells": [
  {
   "cell_type": "code",
   "execution_count": null,
   "id": "c38fd766",
   "metadata": {},
   "outputs": [],
   "source": [
    "Data Structures"
   ]
  },
  {
   "cell_type": "markdown",
   "id": "8099174d",
   "metadata": {},
   "source": [
    "## Table of Contents\n",
    "\n",
    "### 1 Lists\n",
    "\n",
    "* Creating and accessing lists\n",
    "* List methods\n",
    "* List comprehension\n",
    "\n",
    "\n",
    "### 2Tuples\n",
    "\n",
    "* Creating and accessing tuples\n",
    "* Tuple methods\n",
    "\n",
    "### 3 Dictionaries\n",
    "* Creating and accessing dictionaries\n",
    "* Dictionary methods\n",
    "\n",
    "### 4 Sets\n",
    "\n",
    "\n",
    "### 5 Assignment Lab or Practical Work"
   ]
  },
  {
   "cell_type": "markdown",
   "id": "aaa846ce",
   "metadata": {},
   "source": [
    "## Lists\n",
    "Lists are used to store collections of items. They can contain items of different types and can be modified."
   ]
  },
  {
   "cell_type": "markdown",
   "id": "eb1ead4f",
   "metadata": {},
   "source": [
    "### Creating and accessing lists\n",
    "In Python, lists are created using square brackets []. Here's an example:"
   ]
  },
  {
   "cell_type": "code",
   "execution_count": 3,
   "id": "f4167841",
   "metadata": {},
   "outputs": [],
   "source": [
    "fruits = [\"apple\", \"banana\", \"cherry\"]\n"
   ]
  },
  {
   "cell_type": "markdown",
   "id": "c157044c",
   "metadata": {},
   "source": [
    "You can access items in a list by their index. The first item has an index of 0. Here's an example:"
   ]
  },
  {
   "cell_type": "code",
   "execution_count": 4,
   "id": "746eda5d",
   "metadata": {},
   "outputs": [
    {
     "name": "stdout",
     "output_type": "stream",
     "text": [
      "apple\n"
     ]
    }
   ],
   "source": [
    "fruits = [\"apple\", \"banana\", \"cherry\"]\n",
    "print(fruits[0])    # prints \"apple\"\n"
   ]
  },
  {
   "cell_type": "markdown",
   "id": "e812b60d",
   "metadata": {},
   "source": [
    "### List methods\n",
    "Lists have built-in methods that can be used to modify them. Here are a few examples:"
   ]
  },
  {
   "cell_type": "code",
   "execution_count": 5,
   "id": "40648491",
   "metadata": {},
   "outputs": [],
   "source": [
    "fruits = [\"apple\", \"banana\", \"cherry\"]\n",
    "\n",
    "# append()\n",
    "fruits.append(\"orange\")\n",
    "\n",
    "# insert()\n",
    "fruits.insert(1, \"kiwi\")\n",
    "\n",
    "# remove()\n",
    "fruits.remove(\"banana\")\n",
    "\n",
    "# pop()\n",
    "fruits.pop()\n",
    "\n",
    "# clear()\n",
    "fruits.clear()\n"
   ]
  },
  {
   "cell_type": "markdown",
   "id": "4c949613",
   "metadata": {},
   "source": [
    "Here are some common methods that you can use with lists:\n",
    "\n",
    "* append(): adds an item to the end of the list.\n",
    "* insert(): adds an item at a specified position in the list.\n",
    "* remove(): removes the first occurrence of an item from the list.\n",
    "* pop(): removes the item at a specified position in the list, and returns it.\n",
    "* clear(): removes all items from the list.\n",
    "* index(): returns the index of the first occurrence of an item in the list.\n",
    "* count(): returns the number of times an item appears in the list.\n",
    "* sort(): sorts the items in the list.\n",
    "* reverse(): reverses the order of the items in the list."
   ]
  },
  {
   "cell_type": "code",
   "execution_count": 17,
   "id": "9615a663",
   "metadata": {},
   "outputs": [
    {
     "name": "stdout",
     "output_type": "stream",
     "text": [
      "['apple', 'banana', 'cherry', 'orange']\n",
      "['apple', 'grape', 'banana', 'cherry', 'orange']\n",
      "['apple', 'banana', 'cherry', 'orange']\n",
      "banana\n",
      "['apple', 'cherry', 'orange']\n",
      "[]\n",
      "1\n",
      "2\n",
      "['apple', 'banana', 'banana', 'cherry']\n",
      "['cherry', 'banana', 'banana', 'apple']\n"
     ]
    }
   ],
   "source": [
    "# Create a list\n",
    "fruits = [\"apple\", \"banana\", \"cherry\"]\n",
    "\n",
    "# Append an item to the end of the list\n",
    "fruits.append(\"orange\")\n",
    "print(fruits)    # prints [\"apple\", \"banana\", \"cherry\", \"orange\"]\n",
    "\n",
    "# Insert an item at a specific position in the list\n",
    "fruits.insert(1, \"grape\")\n",
    "print(fruits)    # prints [\"apple\", \"grape\", \"banana\", \"cherry\", \"orange\"]\n",
    "\n",
    "# Remove the first occurrence of an item from the list\n",
    "fruits.remove(\"grape\")\n",
    "print(fruits)    # prints [\"apple\", \"banana\", \"cherry\", \"orange\"]\n",
    "\n",
    "# Remove the item at a specific position in the list and return it\n",
    "banana = fruits.pop(1)\n",
    "print(banana)    # prints \"banana\"\n",
    "print(fruits)    # prints [\"apple\", \"cherry\", \"orange\"]\n",
    "\n",
    "# Remove all items from the list\n",
    "fruits.clear()\n",
    "print(fruits)    # prints []\n",
    "\n",
    "# Get the index of the first occurrence of an item in the list\n",
    "fruits = [\"apple\", \"banana\", \"cherry\", \"banana\"]\n",
    "index = fruits.index(\"banana\")\n",
    "print(index)    # prints 1\n",
    "\n",
    "# Get the number of times an item appears in the list\n",
    "count = fruits.count(\"banana\")\n",
    "print(count)    # prints 2\n",
    "\n",
    "# Sort the items in the list\n",
    "fruits.sort()\n",
    "print(fruits)    # prints [\"apple\", \"banana\", \"banana\", \"cherry\"]\n",
    "\n",
    "# Reverse the order of the items in the list\n",
    "fruits.reverse()\n",
    "print(fruits)    # prints [\"cherry\", \"banana\", \"banana\", \"apple\"]\n"
   ]
  },
  {
   "cell_type": "markdown",
   "id": "b4c2ce82",
   "metadata": {},
   "source": [
    "### List comprehension\n",
    "List comprehension is a way of creating a new list by iterating over an existing list and applying an operation to each item. Here's an example:"
   ]
  },
  {
   "cell_type": "code",
   "execution_count": 6,
   "id": "30ad72b0",
   "metadata": {},
   "outputs": [
    {
     "name": "stdout",
     "output_type": "stream",
     "text": [
      "['APPLE', 'BANANA', 'CHERRY']\n"
     ]
    }
   ],
   "source": [
    "fruits = [\"apple\", \"banana\", \"cherry\"]\n",
    "\n",
    "new_fruits = [fruit.upper() for fruit in fruits]\n",
    "print(new_fruits)    # prints [\"APPLE\", \"BANANA\", \"CHERRY\"]\n"
   ]
  },
  {
   "cell_type": "markdown",
   "id": "1f7e87c8",
   "metadata": {},
   "source": [
    "## Tuples\n",
    "Tuples are similar to lists, but they are immutable (cannot be modified)"
   ]
  },
  {
   "cell_type": "markdown",
   "id": "939e4941",
   "metadata": {},
   "source": [
    "### Creating and accessing tuples\n",
    "In Python, tuples are created using parentheses (). Here's an example:"
   ]
  },
  {
   "cell_type": "code",
   "execution_count": 7,
   "id": "6009a9a6",
   "metadata": {},
   "outputs": [],
   "source": [
    "fruits = (\"apple\", \"banana\", \"cherry\")\n"
   ]
  },
  {
   "cell_type": "markdown",
   "id": "1cdc8be1",
   "metadata": {},
   "source": [
    "You can access items in a tuple by their index, just like with a list. Here's an example:"
   ]
  },
  {
   "cell_type": "code",
   "execution_count": 22,
   "id": "f11f132d",
   "metadata": {},
   "outputs": [
    {
     "name": "stdout",
     "output_type": "stream",
     "text": [
      "apple\n"
     ]
    }
   ],
   "source": [
    "fruits = (\"apple\", \"banana\", \"cherry\")\n",
    "print(fruits[0])    # prints \"apple\"\n"
   ]
  },
  {
   "cell_type": "markdown",
   "id": "e69c9770",
   "metadata": {},
   "source": [
    "### Tuple methods\n",
    "Tuples have built-in methods that can be used to perform operations on them. However, since tuples are immutable, these methods do not modify the original tuple. Here are a few examples:"
   ]
  },
  {
   "cell_type": "code",
   "execution_count": 9,
   "id": "4218b8de",
   "metadata": {},
   "outputs": [],
   "source": [
    "fruits = (\"apple\", \"banana\", \"cherry\")\n",
    "\n",
    "# count()\n",
    "count_fruits = fruits.count(\"apple\")\n",
    "\n",
    "# index()\n",
    "index = fruits.index(\"banana\")\n"
   ]
  },
  {
   "cell_type": "markdown",
   "id": "49bdeba7",
   "metadata": {},
   "source": [
    "### Dictionaries\n",
    "Dictionaries are used to store key-value pairs. Each key is associated with a value, and the key-value pairs are separated by commas."
   ]
  },
  {
   "cell_type": "markdown",
   "id": "ebca0765",
   "metadata": {},
   "source": [
    "### Creating and accessing dictionaries\n",
    "In Python, dictionaries are created using curly braces {}. Here's an example:"
   ]
  },
  {
   "cell_type": "code",
   "execution_count": 13,
   "id": "25058294",
   "metadata": {},
   "outputs": [],
   "source": [
    "person = {\n",
    "    \"name\": \"Alice\",\n",
    "    \"age\": 30,\n",
    "    \"city\": \"New York\"\n",
    "}\n"
   ]
  },
  {
   "cell_type": "markdown",
   "id": "3968bf86",
   "metadata": {},
   "source": [
    "You can access values in a dictionary by their keys. Here's an example:"
   ]
  },
  {
   "cell_type": "code",
   "execution_count": 14,
   "id": "47e5dc73",
   "metadata": {},
   "outputs": [
    {
     "name": "stdout",
     "output_type": "stream",
     "text": [
      "Alice\n"
     ]
    }
   ],
   "source": [
    "person = {\n",
    "    \"name\": \"Alice\",\n",
    "    \"age\": 30,\n",
    "    \"city\": \"New York\"\n",
    "}\n",
    "\n",
    "print(person[\"name\"])   # prints \"Alice\"\n"
   ]
  },
  {
   "cell_type": "markdown",
   "id": "b56236c5",
   "metadata": {},
   "source": [
    "### Dictionary methods\n",
    "Dictionaries have built-in methods that can be used to perform operations on them. Here are a few examples:"
   ]
  },
  {
   "cell_type": "code",
   "execution_count": 15,
   "id": "de7f0f47",
   "metadata": {},
   "outputs": [],
   "source": [
    "person = {\n",
    "    \"name\": \"Alice\",\n",
    "    \"age\": 30,\n",
    "    \"city\": \"New York\"\n",
    "}\n",
    "\n",
    "# keys()\n",
    "keys = person.keys()\n",
    "\n",
    "# values()\n",
    "values = person.values()\n",
    "\n",
    "# items()\n",
    "#Get all items of a dictionary with items()\n",
    "items = person.items()\n"
   ]
  },
  {
   "cell_type": "markdown",
   "id": "96d43fc5",
   "metadata": {},
   "source": [
    "## Sets\n",
    "\n",
    "A set is a collection of unique values that are unordered and unindexed. Sets are defined using curly braces { }."
   ]
  },
  {
   "cell_type": "markdown",
   "id": "a4f55153",
   "metadata": {},
   "source": [
    "### Creating and accessing sets\n",
    "Here's an example of creating a set:"
   ]
  },
  {
   "cell_type": "code",
   "execution_count": 18,
   "id": "2a271eac",
   "metadata": {},
   "outputs": [],
   "source": [
    "fruits = {\"apple\", \"banana\", \"cherry\"}"
   ]
  },
  {
   "cell_type": "markdown",
   "id": "2f5c7b25",
   "metadata": {},
   "source": [
    "### Set methods\n",
    "Here are some common methods that you can use with sets:\n"
   ]
  },
  {
   "cell_type": "markdown",
   "id": "e082ce2a",
   "metadata": {},
   "source": [
    "* add(): adds an item to the set.\n",
    "* remove(): removes the specified item from the set.\n",
    "* discard(): removes the specified item from the set, but does not raise an error if the item is not in the set.\n",
    "* pop(): removes an arbitrary item from the set, and returns it.\n",
    "* clear(): removes all items from the set.\n",
    "* union(): returns a set containing the union of two or more sets.\n",
    "* intersection(): returns a set containing the intersection of two or more sets.\n",
    "* difference(): returns a set containing the difference between two sets.\n",
    "* symmetric_difference(): returns a set containing the symmetric difference between two sets."
   ]
  },
  {
   "cell_type": "code",
   "execution_count": 21,
   "id": "5862ea31",
   "metadata": {},
   "outputs": [
    {
     "name": "stdout",
     "output_type": "stream",
     "text": [
      "{'apple', 'mango', 'cherry', 'banana'}\n",
      "{'apple', 'mango', 'cherry'}\n",
      "{'apple', 'mango', 'cherry'}\n",
      "apple\n",
      "{'mango', 'cherry'}\n",
      "set()\n",
      "{'orange', 'pineapple', 'banana'}\n",
      "set()\n",
      "set()\n",
      "{'orange', 'pineapple', 'banana'}\n"
     ]
    }
   ],
   "source": [
    "# Create two sets\n",
    "fruits1 = {\"apple\", \"banana\", \"cherry\"}\n",
    "fruits2 = {\"banana\", \"orange\", \"pineapple\"}\n",
    "\n",
    "# Add an item to a set\n",
    "fruits1.add(\"mango\")\n",
    "print(fruits1)    # prints {\"apple\", \"banana\", \"cherry\", \"mango\"}\n",
    "\n",
    "# Remove an item from a set\n",
    "fruits1.remove(\"banana\")\n",
    "print(fruits1)    # prints {\"apple\", \"cherry\", \"mango\"}\n",
    "\n",
    "# Remove an item from a set using discard(), which doesn't raise an error if the item isn't in the set\n",
    "fruits1.discard(\"banana\")\n",
    "print(fruits1)    # prints {\"apple\", \"cherry\", \"mango\"}\n",
    "\n",
    "# Remove an arbitrary item from a set using pop()\n",
    "item = fruits1.pop()\n",
    "print(item)       # prints \"apple\"\n",
    "print(fruits1)    # prints {\"cherry\", \"mango\"}\n",
    "\n",
    "# Clear all items from a set\n",
    "fruits1.clear()\n",
    "print(fruits1)    # prints set()\n",
    "\n",
    "# Get the union of two sets\n",
    "all_fruits = fruits1.union(fruits2)\n",
    "print(all_fruits)    # prints {\"banana\", \"cherry\", \"mango\", \"orange\", \"pineapple\"}\n",
    "\n",
    "# Get the intersection of two sets\n",
    "common_fruits = fruits1.intersection(fruits2)\n",
    "print(common_fruits)    # prints set()\n",
    "\n",
    "# Get the difference between two sets\n",
    "diff_fruits = fruits1.difference(fruits2)\n",
    "print(diff_fruits)    # prints set()\n",
    "\n",
    "# Get the symmetric difference between two sets\n",
    "sym_diff_fruits = fruits1.symmetric_difference(fruits2)\n",
    "print(sym_diff_fruits)    # prints {\"banana\", \"cherry\", \"mango\", \"orange\", \"pineapple\"}\n"
   ]
  },
  {
   "cell_type": "code",
   "execution_count": null,
   "id": "1897a08e",
   "metadata": {},
   "outputs": [],
   "source": []
  },
  {
   "cell_type": "markdown",
   "id": "6cdf3530",
   "metadata": {},
   "source": [
    "## Data Structures Assignment using Replit\n",
    "\n",
    "### Objective:\n",
    "The goal of this assignment is to help you practice data structures in Python. You will use Replit to write, run, and share Python scripts that demonstrate your understanding of lists, tuples, dictionaries, and sets, along with their methods and comprehension techniques.\n",
    "\n",
    "### Tasks:"
   ]
  },
  {
   "cell_type": "markdown",
   "id": "d5db1da3",
   "metadata": {},
   "source": [
    "### 1 Create a new Python Repl:\n",
    "\n",
    "* Follow the instructions in the \"Getting Started with Replit Python\" tutorial to create a new Python Repl.\n",
    "* Name your Repl \"Day5DataStructuresAssignment\""
   ]
  },
  {
   "cell_type": "markdown",
   "id": "6c8f1269",
   "metadata": {},
   "source": [
    "### 2 Write a Python script that demonstrates the use of lists:\n",
    "\n",
    "* In your Python Repl, create a list of integers and perform the following operations:\n",
    "* Add an element to the end of the list using the append() method.\n",
    "* Remove an element from the list using the remove() method.\n",
    "* Sort the list in ascending order using the sort() method.\n",
    "* Use list comprehension to create a new list containing the squares of the original list's elements.\n",
    "* Print the original and the new lists to the console.\n"
   ]
  },
  {
   "cell_type": "markdown",
   "id": "df410cbd",
   "metadata": {},
   "source": [
    "### 3 Write a Python script that demonstrates the use of tuples:\n",
    "\n",
    "* In your Python Repl, create a tuple of strings and perform the following operations:\n",
    "* Access elements of the tuple using indexing.\n",
    "* Count the occurrences of a specific element in the tuple using the count() method.\n",
    "* Print the tuple and the count of the specific element to the console.\n"
   ]
  },
  {
   "cell_type": "markdown",
   "id": "34a1138f",
   "metadata": {},
   "source": [
    "### 4 Write a Python script that demonstrates the use of dictionaries:\n",
    "\n",
    "* In your Python Repl, create a dictionary with keys as names (strings) and values as ages (integers).\n",
    "* Perform the following operations:\n",
    "* Add a new key-value pair to the dictionary.\n",
    "* Update the value of an existing key in the dictionary.\n",
    "* Remove a key-value pair from the dictionary using the pop() method.\n",
    "* Print the dictionary to the console.\n"
   ]
  },
  {
   "cell_type": "markdown",
   "id": "fba93673",
   "metadata": {},
   "source": [
    "### 5 Write a Python script that demonstrates the use of sets:\n",
    "\n",
    "* In your Python Repl, create two sets of integers.\n",
    "* Perform the following operations:\n",
    "* Calculate the union of the two sets using the union() method.\n",
    "* Calculate the intersection of the two sets using the intersection() method.\n",
    "* Calculate the difference between the two sets using the difference() method.\n",
    "* Print the original sets and the results of the operations to the console."
   ]
  },
  {
   "cell_type": "markdown",
   "id": "477d9a00",
   "metadata": {},
   "source": [
    "### 6 Share your Python Repl:\n",
    "\n",
    "Once you have completed the tasks above, share your Repl by following the instructions in the \"Getting Started with Replit Python\" tutorial.\n",
    "Submit the link to your shared Repl as your assignment.\n",
    "\n",
    "Note: If you encounter any difficulties or have questions about Python data structures, you can refer to the Python documentation (https://docs.python.org/3/tutorial/datastructures.html) or ask for help from your instructor or peers."
   ]
  },
  {
   "cell_type": "markdown",
   "id": "91b6436b",
   "metadata": {},
   "source": [
    "# Solutions"
   ]
  },
  {
   "cell_type": "code",
   "execution_count": 1,
   "id": "31df6c92",
   "metadata": {},
   "outputs": [
    {
     "name": "stdout",
     "output_type": "stream",
     "text": [
      "Original list: [1, 2, 3, 5, 9]\n",
      "Squared list: [1, 4, 9, 25, 81]\n",
      "Second element of tuple: banana\n",
      "Tuple: ('apple', 'banana', 'orange', 'apple', 'grape')\n",
      "Number of apples in tuple: 2\n",
      "Dictionary: {'Alice': 26, 'Bob': 30, 'David': 28}\n",
      "Set 1:  {1, 2, 3, 4, 5}\n",
      "Set 2:  {3, 4, 5, 6, 7}\n",
      "Union of Set 1 and Set 2:  {1, 2, 3, 4, 5, 6, 7}\n",
      "Intersection of Set 1 and Set 2:  {3, 4, 5}\n",
      "Difference of Set 1 and Set 2:  {1, 2}\n"
     ]
    }
   ],
   "source": [
    "### 2 Write a Python script that demonstrates the use of lists:\n",
    "# answer\n",
    "integer_list = [5, 2, 7, 1, 9]\n",
    "integer_list.append(3)\n",
    "integer_list.remove(7)\n",
    "integer_list.sort()\n",
    "squared_list = [x**2 for x in integer_list]\n",
    "print(\"Original list:\", integer_list)\n",
    "print(\"Squared list:\", squared_list)\n",
    "\n",
    "\n",
    "### 3 Write a Python script that demonstrates the use of tuples:\n",
    "#answer\n",
    "fruit_tuple = (\"apple\", \"banana\", \"orange\", \"apple\", \"grape\")\n",
    "print(\"Second element of tuple:\", fruit_tuple[1])\n",
    "apple_count = fruit_tuple.count(\"apple\")\n",
    "print(\"Tuple:\", fruit_tuple)\n",
    "print(\"Number of apples in tuple:\", apple_count)\n",
    "\n",
    "\n",
    "### 4 Write a Python script that demonstrates the use of dictionaries:\n",
    "\n",
    "# answer\n",
    "ages = {\"Alice\": 25, \"Bob\": 30, \"Charlie\": 22}\n",
    "ages[\"David\"] = 28\n",
    "ages[\"Alice\"] = 26\n",
    "ages.pop(\"Charlie\")\n",
    "print(\"Dictionary:\", ages)\n",
    "\n",
    "### 5 Write a Python script that demonstrates the use of sets:\n",
    "\n",
    "# Create two sets of integers\n",
    "set1 = {1, 2, 3, 4, 5}\n",
    "set2 = {3, 4, 5, 6, 7}\n",
    "\n",
    "# Calculate the union of the two sets using the union() method\n",
    "union_set = set1.union(set2)\n",
    "\n",
    "# Calculate the intersection of the two sets using the intersection() method\n",
    "intersection_set = set1.intersection(set2)\n",
    "\n",
    "# Calculate the difference between the two sets using the difference() method\n",
    "diff_set = set1.difference(set2)\n",
    "\n",
    "# Print the original sets and the results of the operations to the console\n",
    "print(\"Set 1: \", set1)\n",
    "print(\"Set 2: \", set2)\n",
    "print(\"Union of Set 1 and Set 2: \", union_set)\n",
    "print(\"Intersection of Set 1 and Set 2: \", intersection_set)\n",
    "print(\"Difference of Set 1 and Set 2: \", diff_set)\n",
    "\n"
   ]
  },
  {
   "cell_type": "code",
   "execution_count": null,
   "id": "f9a7114a",
   "metadata": {},
   "outputs": [],
   "source": []
  }
 ],
 "metadata": {
  "kernelspec": {
   "display_name": "Python 3 (ipykernel)",
   "language": "python",
   "name": "python3"
  },
  "language_info": {
   "codemirror_mode": {
    "name": "ipython",
    "version": 3
   },
   "file_extension": ".py",
   "mimetype": "text/x-python",
   "name": "python",
   "nbconvert_exporter": "python",
   "pygments_lexer": "ipython3",
   "version": "3.9.13"
  }
 },
 "nbformat": 4,
 "nbformat_minor": 5
}

{
 "cells": [
  {
   "cell_type": "markdown",
   "id": "180c93be",
   "metadata": {},
   "source": [
    "# Control Flow and Loops"
   ]
  },
  {
   "cell_type": "markdown",
   "id": "60215f20",
   "metadata": {},
   "source": [
    "## Table of Contents\n",
    "\n",
    "### 1 Conditional statements\n",
    " * if, elif, and else\n",
    " \n",
    "### 2 Loops\n",
    "* for loops\n",
    "* while loops\n",
    "\n",
    "### 3 Loop control statements\n",
    "* break\n",
    "* continue\n",
    "\n",
    "### 4 Assignment Lab or Practical Work"
   ]
  },
  {
   "cell_type": "markdown",
   "id": "b6d22851",
   "metadata": {},
   "source": [
    "## Conditional statements\n",
    "Conditional statements are used to execute different blocks of code depending on whether a condition is true or false."
   ]
  },
  {
   "cell_type": "markdown",
   "id": "02a40f49",
   "metadata": {},
   "source": [
    "### if, elif, and else\n",
    "\n",
    "The if statement is used to execute a block of code if a condition is true. The elif statement is used to execute a block of code if another condition is true. The else statement is used to execute a block of code if none of the previous conditions are true. Here's an example:"
   ]
  },
  {
   "cell_type": "code",
   "execution_count": 1,
   "id": "f3ed3fe6",
   "metadata": {},
   "outputs": [
    {
     "name": "stdout",
     "output_type": "stream",
     "text": [
      "x is greater than y\n"
     ]
    }
   ],
   "source": [
    "x = 10\n",
    "y = 5\n",
    "\n",
    "if x > y:\n",
    "    print(\"x is greater than y\")\n",
    "elif x < y:\n",
    "    print(\"x is less than y\")\n",
    "else:\n",
    "    print(\"x is equal to y\")\n"
   ]
  },
  {
   "cell_type": "markdown",
   "id": "5b9809fc",
   "metadata": {},
   "source": [
    "## Loops\n",
    "Loops are used to execute the same block of code multiple times."
   ]
  },
  {
   "cell_type": "markdown",
   "id": "43dab07b",
   "metadata": {},
   "source": [
    "### for loops\n",
    "A for loop is used to iterate over a sequence (such as a list or a string) and execute a block of code for each item in the sequence. Here's an example:"
   ]
  },
  {
   "cell_type": "code",
   "execution_count": 3,
   "id": "84f2affb",
   "metadata": {},
   "outputs": [
    {
     "name": "stdout",
     "output_type": "stream",
     "text": [
      "apple\n",
      "banana\n",
      "cherry\n"
     ]
    }
   ],
   "source": [
    "fruits = [\"apple\", \"banana\", \"cherry\"]\n",
    "\n",
    "for fruit in fruits:\n",
    "    print(fruit)\n"
   ]
  },
  {
   "cell_type": "markdown",
   "id": "cb659e7c",
   "metadata": {},
   "source": [
    "### while loops\n",
    "A while loop is used to execute a block of code as long as a condition is true. Here's an example:"
   ]
  },
  {
   "cell_type": "code",
   "execution_count": 4,
   "id": "dce5c781",
   "metadata": {},
   "outputs": [
    {
     "name": "stdout",
     "output_type": "stream",
     "text": [
      "1\n",
      "2\n",
      "3\n",
      "4\n",
      "5\n"
     ]
    }
   ],
   "source": [
    "i = 1\n",
    "\n",
    "while i < 6:\n",
    "    print(i)\n",
    "    i += 1\n"
   ]
  },
  {
   "cell_type": "markdown",
   "id": "4e167cce",
   "metadata": {},
   "source": [
    "## Loop control statements\n",
    "Loop control statements are used to change the behavior of loops."
   ]
  },
  {
   "cell_type": "markdown",
   "id": "428b0da5",
   "metadata": {},
   "source": [
    "### break\n",
    "The break statement is used to exit a loop prematurely. Here's an example:"
   ]
  },
  {
   "cell_type": "code",
   "execution_count": 5,
   "id": "d7b557bd",
   "metadata": {},
   "outputs": [
    {
     "name": "stdout",
     "output_type": "stream",
     "text": [
      "apple\n",
      "banana\n"
     ]
    }
   ],
   "source": [
    "fruits = [\"apple\", \"banana\", \"cherry\"]\n",
    "\n",
    "for fruit in fruits:\n",
    "    print(fruit)\n",
    "    if fruit == \"banana\":\n",
    "        break\n"
   ]
  },
  {
   "cell_type": "markdown",
   "id": "7355185f",
   "metadata": {},
   "source": [
    "### continue\n",
    "The continue statement is used to skip an iteration of a loop. Here's an example:"
   ]
  },
  {
   "cell_type": "code",
   "execution_count": 6,
   "id": "b9075907",
   "metadata": {},
   "outputs": [
    {
     "name": "stdout",
     "output_type": "stream",
     "text": [
      "apple\n",
      "cherry\n"
     ]
    }
   ],
   "source": [
    "fruits = [\"apple\", \"banana\", \"cherry\"]\n",
    "\n",
    "for fruit in fruits:\n",
    "    if fruit == \"banana\":\n",
    "        continue\n",
    "    print(fruit)\n"
   ]
  },
  {
   "cell_type": "markdown",
   "id": "378ca0f9",
   "metadata": {},
   "source": [
    "# Assignment Lab or Practical Work"
   ]
  },
  {
   "cell_type": "markdown",
   "id": "9aee1399",
   "metadata": {},
   "source": [
    "##  Control Flow and Loops Assignment using Replit\n",
    "\n",
    "### Objective:\n",
    "\n",
    "The goal of this assignment is to help you practice control flow and loops in Python. You will use Replit to write, run, and share Python scripts that demonstrate your understanding of conditional statements, for loops, while loops, and loop control statements."
   ]
  },
  {
   "cell_type": "markdown",
   "id": "c3641eca",
   "metadata": {},
   "source": [
    "Tasks:\n",
    "\n",
    "### 1 Create a new Python Repl:\n",
    "\n",
    "* Follow the instructions in the \"Getting Started with Replit Python\" tutorial to create a new Python Repl.\n",
    "* Name your Repl \"Day3ControlFlowLoopsAssignment\"."
   ]
  },
  {
   "cell_type": "markdown",
   "id": "a2c0a372",
   "metadata": {},
   "source": [
    "### 2 Write a Python script that demonstrates the use of conditional statements:\n",
    "\n",
    "* In your Python Repl, write a Python script that prompts the user for an integer using the input() function.\n",
    "* Convert the entered value from a string to an integer using the int() function.\n",
    "* Use if, elif, and else statements to check if the entered integer is positive, negative, or zero, and print the result to the console.\n",
    "* Example:"
   ]
  },
  {
   "cell_type": "code",
   "execution_count": 9,
   "id": "fa4c29df",
   "metadata": {},
   "outputs": [
    {
     "name": "stdout",
     "output_type": "stream",
     "text": [
      "Enter an integer: 1\n",
      "The number is positive.\n"
     ]
    }
   ],
   "source": [
    "number = int(input(\"Enter an integer: \"))\n",
    "\n",
    "if number > 0:\n",
    "    print(\"The number is positive.\")\n",
    "elif number < 0:\n",
    "    print(\"The number is negative.\")\n",
    "else:\n",
    "    print(\"The number is zero.\")\n"
   ]
  },
  {
   "cell_type": "markdown",
   "id": "bccbfd30",
   "metadata": {},
   "source": [
    "### 3 Write a Python script that demonstrates the use of a for loop:\n",
    "\n",
    "* In your Python Repl, write a Python script that uses a for loop to iterate over a range of integers from 1 to 10 (inclusive).\n",
    "* For each integer in the range, print the integer and its square to the console.\n",
    "Example/ANS:"
   ]
  },
  {
   "cell_type": "code",
   "execution_count": 11,
   "id": "6785c226",
   "metadata": {},
   "outputs": [
    {
     "name": "stdout",
     "output_type": "stream",
     "text": [
      "Integer: 1  Square: 1\n",
      "Integer: 2  Square: 4\n",
      "Integer: 3  Square: 9\n",
      "Integer: 4  Square: 16\n",
      "Integer: 5  Square: 25\n",
      "Integer: 6  Square: 36\n",
      "Integer: 7  Square: 49\n",
      "Integer: 8  Square: 64\n",
      "Integer: 9  Square: 81\n",
      "Integer: 10  Square: 100\n"
     ]
    }
   ],
   "source": [
    "for i in range(1, 11):\n",
    "    print(\"Integer:\", i, \" Square:\", i**2)\n"
   ]
  },
  {
   "cell_type": "markdown",
   "id": "178423a4",
   "metadata": {},
   "source": [
    "### 4 Write a Python script that demonstrates the use of a while loop:\n",
    "\n",
    "* In your Python Repl, write a Python script that uses a while loop to calculate the factorial of a given positive integer.\n",
    "* Prompt the user for a positive integer using the input() function and convert the entered value to an integer.\n",
    "* Calculate the factorial of the entered number using a while loop, and print the result to the console.\n",
    "Example:"
   ]
  },
  {
   "cell_type": "code",
   "execution_count": 12,
   "id": "76dfafc1",
   "metadata": {},
   "outputs": [
    {
     "name": "stdout",
     "output_type": "stream",
     "text": [
      "Enter a positive integer: 5\n",
      "Factorial of 5 is 120\n"
     ]
    }
   ],
   "source": [
    "number = int(input(\"Enter a positive integer: \"))\n",
    "factorial = 1\n",
    "counter = 1\n",
    "\n",
    "while counter <= number:\n",
    "    factorial *= counter\n",
    "    counter += 1\n",
    "\n",
    "print(\"Factorial of\", number, \"is\", factorial)\n"
   ]
  },
  {
   "cell_type": "markdown",
   "id": "24e510ed",
   "metadata": {},
   "source": [
    "### 5 Write a Python script that demonstrates the use of loop control statements:\n",
    "\n",
    "* In your Python Repl, write a Python script that uses a for loop to iterate over a range of integers from 1 to 20 (inclusive).\n",
    "* For each integer in the range, use if statements and the continue statement to skip even numbers and only print odd numbers to the console.\n",
    "* When the loop reaches an integer greater than or equal to 15, use the break statement to exit the loop.\n",
    "* Example:"
   ]
  },
  {
   "cell_type": "code",
   "execution_count": 13,
   "id": "81476ced",
   "metadata": {},
   "outputs": [
    {
     "name": "stdout",
     "output_type": "stream",
     "text": [
      "1\n",
      "3\n",
      "5\n",
      "7\n",
      "9\n",
      "11\n",
      "13\n"
     ]
    }
   ],
   "source": [
    "for i in range(1, 21):\n",
    "    if i >= 15:\n",
    "        break\n",
    "    if i % 2 == 0:\n",
    "        continue\n",
    "    print(i)\n"
   ]
  },
  {
   "cell_type": "markdown",
   "id": "a3d08c56",
   "metadata": {},
   "source": [
    "### 6 Share your Python Repl:\n",
    "\n",
    "* Once you have completed the tasks above, share your Repl by following the instructions in the \"Getting Started with Replit Python\" tutorial.\n",
    "* Submit the link to your shared Repl as your assignment.\n",
    "\n",
    "\n",
    "\n",
    "Note: If you encounter any difficulties or have questions about Python control flow and loops, you can refer to the Python documentation"
   ]
  },
  {
   "cell_type": "code",
   "execution_count": null,
   "id": "d92e7197",
   "metadata": {},
   "outputs": [],
   "source": []
  }
 ],
 "metadata": {
  "kernelspec": {
   "display_name": "Python 3 (ipykernel)",
   "language": "python",
   "name": "python3"
  },
  "language_info": {
   "codemirror_mode": {
    "name": "ipython",
    "version": 3
   },
   "file_extension": ".py",
   "mimetype": "text/x-python",
   "name": "python",
   "nbconvert_exporter": "python",
   "pygments_lexer": "ipython3",
   "version": "3.9.13"
  }
 },
 "nbformat": 4,
 "nbformat_minor": 5
}

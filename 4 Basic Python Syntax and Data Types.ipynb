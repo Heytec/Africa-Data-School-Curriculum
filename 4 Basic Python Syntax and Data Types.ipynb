{
 "cells": [
  {
   "cell_type": "markdown",
   "id": "5bc33d59",
   "metadata": {},
   "source": [
    "#  Basic Python Syntax and Data Types"
   ]
  },
  {
   "cell_type": "markdown",
   "id": "7c6134e1",
   "metadata": {},
   "source": [
    "## Table of Contents\n",
    "\n",
    "1 Variables and data types\n",
    " * Numbers (integers and floats)\n",
    " * Strings\n",
    " * Booleans\n",
    "    \n",
    "2 Basic operators\n",
    "* Arithmetic operators\n",
    "* Comparison operators\n",
    "* Logical operators\n",
    "\n",
    "3 Basic input and output\n",
    "* input() function\n",
    "* print() function\n",
    "\n",
    "4 Assignment Lab or Practical Work"
   ]
  },
  {
   "cell_type": "markdown",
   "id": "413b2429",
   "metadata": {},
   "source": [
    "## Variables and data types\n",
    "\n",
    "In Python, a variable is used to store a value. Variables can be assigned different types of data, such as numbers, strings, or booleans."
   ]
  },
  {
   "cell_type": "markdown",
   "id": "c509cd40",
   "metadata": {},
   "source": [
    "### Numbers (integers and floats)\n",
    "\n",
    "In Python, numbers can be integers (whole numbers) or floats (numbers with decimal points). Here are a few examples:"
   ]
  },
  {
   "cell_type": "code",
   "execution_count": null,
   "id": "770d63cb",
   "metadata": {},
   "outputs": [],
   "source": [
    "x = 42              # an integer\n",
    "y = 3.14            # a floating-point number\n"
   ]
  },
  {
   "cell_type": "markdown",
   "id": "76bbf450",
   "metadata": {},
   "source": [
    "### Strings\n",
    "Strings are sequences of characters, enclosed in single or double quotes. Here are a few examples:"
   ]
  },
  {
   "cell_type": "code",
   "execution_count": null,
   "id": "ee350849",
   "metadata": {},
   "outputs": [],
   "source": [
    "name = 'Alice'\n",
    "greeting = \"Hello, world!\"\n"
   ]
  },
  {
   "cell_type": "markdown",
   "id": "73c7eb6e",
   "metadata": {},
   "source": [
    "### Booleans\n",
    "Booleans are true/false values. In Python, the two possible boolean values are True and False. Here are a few examples:"
   ]
  },
  {
   "cell_type": "code",
   "execution_count": null,
   "id": "0ca82835",
   "metadata": {},
   "outputs": [],
   "source": [
    "is_python_fun = True\n",
    "is_coding_hard = False"
   ]
  },
  {
   "cell_type": "markdown",
   "id": "4d04ae77",
   "metadata": {},
   "source": [
    "## Basic operators\n",
    "\n",
    "Operators are used to perform operations on variables and values in Python. Here are a few basic operators:"
   ]
  },
  {
   "cell_type": "markdown",
   "id": "08288dfe",
   "metadata": {},
   "source": [
    "### Arithmetic operators\n",
    "Arithmetic operators are used to perform mathematical operations. Here are a few examples:"
   ]
  },
  {
   "cell_type": "code",
   "execution_count": null,
   "id": "a7537553",
   "metadata": {},
   "outputs": [],
   "source": [
    "x = 10\n",
    "y = 5\n",
    "\n",
    "# addition\n",
    "z = x + y\n",
    "print(z)    # prints 15\n",
    "\n",
    "# subtraction\n",
    "z = x - y\n",
    "print(z)    # prints 5\n",
    "\n",
    "# multiplication\n",
    "z = x * y\n",
    "print(z)    # prints 50\n",
    "\n",
    "# division\n",
    "z = x / y\n",
    "print(z)    # prints 2.0\n"
   ]
  },
  {
   "cell_type": "markdown",
   "id": "f8c0e4f7",
   "metadata": {},
   "source": [
    "### Comparison operators\n",
    "Comparison operators are used to compare two values. Here are a few examples:"
   ]
  },
  {
   "cell_type": "code",
   "execution_count": null,
   "id": "fd903842",
   "metadata": {},
   "outputs": [],
   "source": [
    "x = 10\n",
    "y = 5\n",
    "\n",
    "# greater than\n",
    "print(x > y)    # prints True\n",
    "\n",
    "# less than\n",
    "print(x < y)    # prints False\n",
    "\n",
    "# equal to\n",
    "print(x == y)   # prints False\n",
    "\n",
    "# not equal to\n",
    "print(x != y)   # prints True\n"
   ]
  },
  {
   "cell_type": "markdown",
   "id": "8fa1cca2",
   "metadata": {},
   "source": [
    "### Logical operators\n",
    "\n",
    "Logical operators are used to combine multiple conditions. Here are a few examples:"
   ]
  },
  {
   "cell_type": "code",
   "execution_count": null,
   "id": "f212df7e",
   "metadata": {},
   "outputs": [],
   "source": [
    "x = 10\n",
    "y = 5\n",
    "z = 7\n",
    "\n",
    "# and\n",
    "print(x > y and y < z)    # prints True\n",
    "\n",
    "# or\n",
    "print(x > y or y > z)     # prints True\n",
    "\n",
    "# not\n",
    "print(not(x > y))         # prints False\n"
   ]
  },
  {
   "cell_type": "markdown",
   "id": "971abe7b",
   "metadata": {},
   "source": [
    "## Basic input and output\n",
    "\n",
    "In Python, we can use the input() function to prompt the user for input, and the print() function to output text.\n",
    "\n"
   ]
  },
  {
   "cell_type": "markdown",
   "id": "8633f48b",
   "metadata": {},
   "source": [
    "### input() function\n",
    "The input() function prompts the user to enter input. Here's an example:"
   ]
  },
  {
   "cell_type": "code",
   "execution_count": null,
   "id": "751dcc72",
   "metadata": {},
   "outputs": [],
   "source": [
    "name = input(\"Enter your name: \")\n",
    "print(\"Hello, \" + name + \"!\")\n"
   ]
  },
  {
   "cell_type": "markdown",
   "id": "459d5a3f",
   "metadata": {},
   "source": [
    "### print() function\n",
    "The print() function outputs text. Here's an example:"
   ]
  },
  {
   "cell_type": "code",
   "execution_count": null,
   "id": "13645c82",
   "metadata": {},
   "outputs": [],
   "source": [
    "print(\"Hello, world!\")\n"
   ]
  },
  {
   "cell_type": "markdown",
   "id": "c4ab2b3e",
   "metadata": {},
   "source": [
    "You can also use the print() function to output the value of a variable:"
   ]
  },
  {
   "cell_type": "code",
   "execution_count": null,
   "id": "665d0501",
   "metadata": {},
   "outputs": [],
   "source": [
    "x = 42\n",
    "print(\"The value of x is:\", x)\n"
   ]
  },
  {
   "cell_type": "markdown",
   "id": "ec34594b",
   "metadata": {},
   "source": [
    "# Assignment Lab or Practical Work"
   ]
  },
  {
   "cell_type": "markdown",
   "id": "a2b86ef8",
   "metadata": {},
   "source": [
    "## Basic Python Syntax and Data Types Assignment using Replit"
   ]
  },
  {
   "cell_type": "markdown",
   "id": "edc89a26",
   "metadata": {},
   "source": [
    "### Objective:\n",
    "The goal of this assignment is to help you practice basic Python syntax and understand common data types. You will use Replit to write, run, and share Python scripts that demonstrate your understanding of variables, numbers, strings, booleans, basic operators, and input/output functions."
   ]
  },
  {
   "cell_type": "markdown",
   "id": "469664f1",
   "metadata": {},
   "source": [
    "## Tasks:\n",
    "\n",
    "### 1 Create a new Python Repl:\n",
    "\n",
    "* Follow the instructions in the \"Getting Started with Replit Python\" tutorial to create a new Python Repl.\n",
    "* Name your Repl \"Day2PythonBasicsAssignment\"."
   ]
  },
  {
   "cell_type": "markdown",
   "id": "85e5787e",
   "metadata": {},
   "source": [
    "### 2 Demonstrate the use of variables and data types:\n",
    "\n",
    "* In your Python Repl, create variables of different data types (integers, floats, strings, and booleans) and assign them appropriate values.\n",
    "* Use the print() function to display the variables and their types in the console.\n",
    "* Example:"
   ]
  },
  {
   "cell_type": "code",
   "execution_count": 1,
   "id": "5fb47dd9",
   "metadata": {},
   "outputs": [
    {
     "name": "stdout",
     "output_type": "stream",
     "text": [
      "my_integer: 7 Type: <class 'int'>\n",
      "my_float: 3.14 Type: <class 'float'>\n",
      "my_string: Hello, Python! Type: <class 'str'>\n",
      "my_boolean: True Type: <class 'bool'>\n"
     ]
    }
   ],
   "source": [
    "my_integer = 7\n",
    "my_float = 3.14\n",
    "my_string = \"Hello, Python!\"\n",
    "my_boolean = True\n",
    "\n",
    "print(\"my_integer:\", my_integer, \"Type:\", type(my_integer))\n",
    "print(\"my_float:\", my_float, \"Type:\", type(my_float))\n",
    "print(\"my_string:\", my_string, \"Type:\", type(my_string))\n",
    "print(\"my_boolean:\", my_boolean, \"Type:\", type(my_boolean))\n"
   ]
  },
  {
   "cell_type": "markdown",
   "id": "8d66cd18",
   "metadata": {},
   "source": [
    "### 3 Perform arithmetic operations:\n",
    "\n",
    "* In your Python Repl, write a Python script that demonstrates the use of arithmetic operators (addition, subtraction, multiplication, division, modulo, and exponentiation) with integer and float variables.\n",
    "* Print the results of the operations in the console.\n",
    "* Example:"
   ]
  },
  {
   "cell_type": "code",
   "execution_count": 3,
   "id": "7abb1a44",
   "metadata": {},
   "outputs": [
    {
     "name": "stdout",
     "output_type": "stream",
     "text": [
      "Addition: 13\n",
      "Subtraction: 7\n",
      "Multiplication: 30\n",
      "Division: 3.3333333333333335\n",
      "Modulo: 1\n",
      "Exponentiation: 15.625\n"
     ]
    }
   ],
   "source": [
    "num1 = 10\n",
    "num2 = 3\n",
    "num3 = 2.5\n",
    "\n",
    "print(\"Addition:\", num1 + num2)\n",
    "print(\"Subtraction:\", num1 - num2)\n",
    "print(\"Multiplication:\", num1 * num2)\n",
    "print(\"Division:\", num1 / num2)\n",
    "print(\"Modulo:\", num1 % num2)\n",
    "print(\"Exponentiation:\", num3 ** num2)\n"
   ]
  },
  {
   "cell_type": "markdown",
   "id": "2eec7dd7",
   "metadata": {},
   "source": [
    "### 4 Demonstrate the use of comparison and logical operators:\n",
    "\n",
    "* In your Python Repl, write a Python script that demonstrates the use of comparison operators (equal to, not equal to, greater than, less than, greater than or equal to, less than or equal to) and logical operators (and, or, not) with integer and boolean variables.\n",
    "* Print the results of the operations in the console.\n",
    "* Example:"
   ]
  },
  {
   "cell_type": "code",
   "execution_count": 4,
   "id": "1e152a21",
   "metadata": {},
   "outputs": [
    {
     "name": "stdout",
     "output_type": "stream",
     "text": [
      "Equal to: True\n",
      "Not equal to: True\n",
      "Greater than: False\n",
      "Less than: True\n",
      "Greater than or equal to: True\n",
      "Less than or equal to: True\n",
      "Logical AND: False\n",
      "Logical OR: True\n",
      "Logical NOT: False\n"
     ]
    }
   ],
   "source": [
    "a = 5\n",
    "b = 7\n",
    "c = 5\n",
    "d = True\n",
    "e = False\n",
    "\n",
    "print(\"Equal to:\", a == c)\n",
    "print(\"Not equal to:\", a != b)\n",
    "print(\"Greater than:\", a > b)\n",
    "print(\"Less than:\", a < b)\n",
    "print(\"Greater than or equal to:\", a >= c)\n",
    "print(\"Less than or equal to:\", a <= c)\n",
    "print(\"Logical AND:\", d and e)\n",
    "print(\"Logical OR:\", d or e)\n",
    "print(\"Logical NOT:\", not d)\n"
   ]
  },
  {
   "cell_type": "markdown",
   "id": "421a7cca",
   "metadata": {},
   "source": [
    "5 Create a Python script that takes user input and performs basic calculations:\n",
    "\n",
    "* In your Python Repl, write a Python script that prompts the user for two numbers using the input() function.\n",
    "* Convert the entered values from strings to integers or floats as needed.\n",
    "* Perform addition, subtraction, multiplication, and division operations on the entered numbers."
   ]
  },
  {
   "cell_type": "markdown",
   "id": "209b576b",
   "metadata": {},
   "source": [
    "### 6 Share your Python Repl:\n",
    "\n",
    "Once you have completed the tasks above, share your Repl by following the instructions in the \"Getting Started with Replit Python\" tutorial.\n",
    "Submit the link to your shared Repl as your assignment.\n",
    "\n",
    "\n",
    "Note: If you encounter any difficulties or have questions about Python syntax, you can refer to the Python documentation (https://docs.python.org/3/) or ask for help from your instructor or peers."
   ]
  },
  {
   "cell_type": "code",
   "execution_count": null,
   "id": "8ba7aea0",
   "metadata": {},
   "outputs": [],
   "source": []
  }
 ],
 "metadata": {
  "kernelspec": {
   "display_name": "Python 3 (ipykernel)",
   "language": "python",
   "name": "python3"
  },
  "language_info": {
   "codemirror_mode": {
    "name": "ipython",
    "version": 3
   },
   "file_extension": ".py",
   "mimetype": "text/x-python",
   "name": "python",
   "nbconvert_exporter": "python",
   "pygments_lexer": "ipython3",
   "version": "3.9.13"
  }
 },
 "nbformat": 4,
 "nbformat_minor": 5
}

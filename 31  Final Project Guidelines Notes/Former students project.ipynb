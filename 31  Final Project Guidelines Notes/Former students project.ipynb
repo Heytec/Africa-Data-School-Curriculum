{
 "cells": [
  {
   "cell_type": "markdown",
   "metadata": {},
   "source": [
    "# Standards \n"
   ]
  },
  {
   "cell_type": "markdown",
   "metadata": {},
   "source": [
    "Shopify RetentionProf\n",
    "Increase retention with automated customer segmentations\n",
    "https://apps.shopify.com/retentionprof\n",
    "\n",
    "Nestmetric is an AI that helps you find your next customer\n",
    "http://www.nestmetric.com/"
   ]
  },
  {
   "cell_type": "markdown",
   "metadata": {},
   "source": [
    "### Former students project \n",
    "\n",
    "\n",
    "\n"
   ]
  },
  {
   "cell_type": "markdown",
   "metadata": {},
   "source": [
    "* Use your existing CCTV cameras to perform consumer analytics offline. No extra investment on infrastructure needed for data inferencing.\n",
    "\n",
    "https://www.taivision.io/\n",
    "    \n",
    "* Automated Technical Analysis for Cryptocurrency Trading.\n",
    "\n",
    "https://automated-technical-analysis.herokuapp.com/\n",
    "    \n",
    "* NSE STOCK PRICES\n",
    "\n",
    "https://nse-stocks-analysis.herokuapp.com/\n",
    "\n",
    "* Management Mornitoring Application\n",
    "\n",
    "https://javic-app-ads.herokuapp.com/\n",
    "    \n",
    "* Farmer Profiling Web App\n",
    "\n",
    "https://farmer-profiling.herokuapp.com/\n"
   ]
  },
  {
   "cell_type": "code",
   "execution_count": null,
   "metadata": {},
   "outputs": [],
   "source": []
  },
  {
   "cell_type": "code",
   "execution_count": null,
   "metadata": {},
   "outputs": [],
   "source": []
  }
 ],
 "metadata": {
  "kernelspec": {
   "display_name": "Python 3",
   "language": "python",
   "name": "python3"
  },
  "language_info": {
   "codemirror_mode": {
    "name": "ipython",
    "version": 3
   },
   "file_extension": ".py",
   "mimetype": "text/x-python",
   "name": "python",
   "nbconvert_exporter": "python",
   "pygments_lexer": "ipython3",
   "version": "3.8.5"
  }
 },
 "nbformat": 4,
 "nbformat_minor": 4
}
